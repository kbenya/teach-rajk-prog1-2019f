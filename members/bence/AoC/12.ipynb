{
 "cells": [
  {
   "cell_type": "markdown",
   "metadata": {},
   "source": [
    "--- Day 12: The N-Body Problem ---\n",
    "The space near Jupiter is not a very safe place; you need to be careful of a big distracting red spot, extreme radiation, and a whole lot of moons swirling around. You decide to start by tracking the four largest moons: Io, Europa, Ganymede, and Callisto.\n",
    "\n",
    "After a brief scan, you calculate the position of each moon (your puzzle input). You just need to simulate their motion so you can avoid them.\n",
    "\n",
    "Each moon has a 3-dimensional position (x, y, and z) and a 3-dimensional velocity. The position of each moon is given in your scan; the x, y, and z velocity of each moon starts at 0.\n",
    "\n",
    "Simulate the motion of the moons in time steps. Within each time step, first update the velocity of every moon by applying gravity. Then, once all moons' velocities have been updated, update the position of every moon by applying velocity. Time progresses by one step once all of the positions are updated.\n",
    "\n",
    "To apply gravity, consider every pair of moons. On each axis (x, y, and z), the velocity of each moon changes by exactly +1 or -1 to pull the moons together. For example, if Ganymede has an x position of 3, and Callisto has a x position of 5, then Ganymede's x velocity changes by +1 (because 5 > 3) and Callisto's x velocity changes by -1 (because 3 < 5). However, if the positions on a given axis are the same, the velocity on that axis does not change for that pair of moons.\n",
    "\n",
    "Once all gravity has been applied, apply velocity: simply add the velocity of each moon to its own position. For example, if Europa has a position of x=1, y=2, z=3 and a velocity of x=-2, y=0,z=3, then its new position would be x=-1, y=2, z=6. This process does not modify the velocity of any moon.\n",
    "\n",
    "For example, suppose your scan reveals the following positions:\n",
    "\n",
    "<x=-1, y=0, z=2>\n",
    "<x=2, y=-10, z=-7>\n",
    "<x=4, y=-8, z=8>\n",
    "<x=3, y=5, z=-1>\n",
    "Simulating the motion of these moons would produce the following:\n",
    "\n",
    "After 0 steps:\n",
    "pos=<x=-1, y=  0, z= 2>, vel=<x= 0, y= 0, z= 0>\n",
    "pos=<x= 2, y=-10, z=-7>, vel=<x= 0, y= 0, z= 0>\n",
    "pos=<x= 4, y= -8, z= 8>, vel=<x= 0, y= 0, z= 0>\n",
    "pos=<x= 3, y=  5, z=-1>, vel=<x= 0, y= 0, z= 0>\n",
    "\n",
    "After 1 step:\n",
    "pos=<x= 2, y=-1, z= 1>, vel=<x= 3, y=-1, z=-1>\n",
    "pos=<x= 3, y=-7, z=-4>, vel=<x= 1, y= 3, z= 3>\n",
    "pos=<x= 1, y=-7, z= 5>, vel=<x=-3, y= 1, z=-3>\n",
    "pos=<x= 2, y= 2, z= 0>, vel=<x=-1, y=-3, z= 1>\n",
    "\n",
    "After 2 steps:\n",
    "pos=<x= 5, y=-3, z=-1>, vel=<x= 3, y=-2, z=-2>\n",
    "pos=<x= 1, y=-2, z= 2>, vel=<x=-2, y= 5, z= 6>\n",
    "pos=<x= 1, y=-4, z=-1>, vel=<x= 0, y= 3, z=-6>\n",
    "pos=<x= 1, y=-4, z= 2>, vel=<x=-1, y=-6, z= 2>\n",
    "\n",
    "After 3 steps:\n",
    "pos=<x= 5, y=-6, z=-1>, vel=<x= 0, y=-3, z= 0>\n",
    "pos=<x= 0, y= 0, z= 6>, vel=<x=-1, y= 2, z= 4>\n",
    "pos=<x= 2, y= 1, z=-5>, vel=<x= 1, y= 5, z=-4>\n",
    "pos=<x= 1, y=-8, z= 2>, vel=<x= 0, y=-4, z= 0>\n",
    "\n",
    "After 4 steps:\n",
    "pos=<x= 2, y=-8, z= 0>, vel=<x=-3, y=-2, z= 1>\n",
    "pos=<x= 2, y= 1, z= 7>, vel=<x= 2, y= 1, z= 1>\n",
    "pos=<x= 2, y= 3, z=-6>, vel=<x= 0, y= 2, z=-1>\n",
    "pos=<x= 2, y=-9, z= 1>, vel=<x= 1, y=-1, z=-1>\n",
    "\n",
    "After 5 steps:\n",
    "pos=<x=-1, y=-9, z= 2>, vel=<x=-3, y=-1, z= 2>\n",
    "pos=<x= 4, y= 1, z= 5>, vel=<x= 2, y= 0, z=-2>\n",
    "pos=<x= 2, y= 2, z=-4>, vel=<x= 0, y=-1, z= 2>\n",
    "pos=<x= 3, y=-7, z=-1>, vel=<x= 1, y= 2, z=-2>\n",
    "\n",
    "After 6 steps:\n",
    "pos=<x=-1, y=-7, z= 3>, vel=<x= 0, y= 2, z= 1>\n",
    "pos=<x= 3, y= 0, z= 0>, vel=<x=-1, y=-1, z=-5>\n",
    "pos=<x= 3, y=-2, z= 1>, vel=<x= 1, y=-4, z= 5>\n",
    "pos=<x= 3, y=-4, z=-2>, vel=<x= 0, y= 3, z=-1>\n",
    "\n",
    "After 7 steps:\n",
    "pos=<x= 2, y=-2, z= 1>, vel=<x= 3, y= 5, z=-2>\n",
    "pos=<x= 1, y=-4, z=-4>, vel=<x=-2, y=-4, z=-4>\n",
    "pos=<x= 3, y=-7, z= 5>, vel=<x= 0, y=-5, z= 4>\n",
    "pos=<x= 2, y= 0, z= 0>, vel=<x=-1, y= 4, z= 2>\n",
    "\n",
    "After 8 steps:\n",
    "pos=<x= 5, y= 2, z=-2>, vel=<x= 3, y= 4, z=-3>\n",
    "pos=<x= 2, y=-7, z=-5>, vel=<x= 1, y=-3, z=-1>\n",
    "pos=<x= 0, y=-9, z= 6>, vel=<x=-3, y=-2, z= 1>\n",
    "pos=<x= 1, y= 1, z= 3>, vel=<x=-1, y= 1, z= 3>\n",
    "\n",
    "After 9 steps:\n",
    "pos=<x= 5, y= 3, z=-4>, vel=<x= 0, y= 1, z=-2>\n",
    "pos=<x= 2, y=-9, z=-3>, vel=<x= 0, y=-2, z= 2>\n",
    "pos=<x= 0, y=-8, z= 4>, vel=<x= 0, y= 1, z=-2>\n",
    "pos=<x= 1, y= 1, z= 5>, vel=<x= 0, y= 0, z= 2>\n",
    "\n",
    "After 10 steps:\n",
    "pos=<x= 2, y= 1, z=-3>, vel=<x=-3, y=-2, z= 1>\n",
    "pos=<x= 1, y=-8, z= 0>, vel=<x=-1, y= 1, z= 3>\n",
    "pos=<x= 3, y=-6, z= 1>, vel=<x= 3, y= 2, z=-3>\n",
    "pos=<x= 2, y= 0, z= 4>, vel=<x= 1, y=-1, z=-1>\n",
    "Then, it might help to calculate the total energy in the system. The total energy for a single moon is its potential energy multiplied by its kinetic energy. A moon's potential energy is the sum of the absolute values of its x, y, and z position coordinates. A moon's kinetic energy is the sum of the absolute values of its velocity coordinates. Below, each line shows the calculations for a moon's potential energy (pot), kinetic energy (kin), and total energy:\n",
    "\n",
    "Energy after 10 steps:\n",
    "pot: 2 + 1 + 3 =  6;   kin: 3 + 2 + 1 = 6;   total:  6 * 6 = 36\n",
    "pot: 1 + 8 + 0 =  9;   kin: 1 + 1 + 3 = 5;   total:  9 * 5 = 45\n",
    "pot: 3 + 6 + 1 = 10;   kin: 3 + 2 + 3 = 8;   total: 10 * 8 = 80\n",
    "pot: 2 + 0 + 4 =  6;   kin: 1 + 1 + 1 = 3;   total:  6 * 3 = 18\n",
    "Sum of total energy: 36 + 45 + 80 + 18 = 179\n",
    "In the above example, adding together the total energy for all moons after 10 steps produces the total energy in the system, 179.\n",
    "\n",
    "Here's a second example:\n",
    "\n",
    "<x=-8, y=-10, z=0>\n",
    "<x=5, y=5, z=10>\n",
    "<x=2, y=-7, z=3>\n",
    "<x=9, y=-8, z=-3>\n",
    "Every ten steps of simulation for 100 steps produces:\n",
    "\n",
    "After 0 steps:\n",
    "pos=<x= -8, y=-10, z=  0>, vel=<x=  0, y=  0, z=  0>\n",
    "pos=<x=  5, y=  5, z= 10>, vel=<x=  0, y=  0, z=  0>\n",
    "pos=<x=  2, y= -7, z=  3>, vel=<x=  0, y=  0, z=  0>\n",
    "pos=<x=  9, y= -8, z= -3>, vel=<x=  0, y=  0, z=  0>\n",
    "\n",
    "After 10 steps:\n",
    "pos=<x= -9, y=-10, z=  1>, vel=<x= -2, y= -2, z= -1>\n",
    "pos=<x=  4, y= 10, z=  9>, vel=<x= -3, y=  7, z= -2>\n",
    "pos=<x=  8, y=-10, z= -3>, vel=<x=  5, y= -1, z= -2>\n",
    "pos=<x=  5, y=-10, z=  3>, vel=<x=  0, y= -4, z=  5>\n",
    "\n",
    "After 20 steps:\n",
    "pos=<x=-10, y=  3, z= -4>, vel=<x= -5, y=  2, z=  0>\n",
    "pos=<x=  5, y=-25, z=  6>, vel=<x=  1, y=  1, z= -4>\n",
    "pos=<x= 13, y=  1, z=  1>, vel=<x=  5, y= -2, z=  2>\n",
    "pos=<x=  0, y=  1, z=  7>, vel=<x= -1, y= -1, z=  2>\n",
    "\n",
    "After 30 steps:\n",
    "pos=<x= 15, y= -6, z= -9>, vel=<x= -5, y=  4, z=  0>\n",
    "pos=<x= -4, y=-11, z=  3>, vel=<x= -3, y=-10, z=  0>\n",
    "pos=<x=  0, y= -1, z= 11>, vel=<x=  7, y=  4, z=  3>\n",
    "pos=<x= -3, y= -2, z=  5>, vel=<x=  1, y=  2, z= -3>\n",
    "\n",
    "After 40 steps:\n",
    "pos=<x= 14, y=-12, z= -4>, vel=<x= 11, y=  3, z=  0>\n",
    "pos=<x= -1, y= 18, z=  8>, vel=<x= -5, y=  2, z=  3>\n",
    "pos=<x= -5, y=-14, z=  8>, vel=<x=  1, y= -2, z=  0>\n",
    "pos=<x=  0, y=-12, z= -2>, vel=<x= -7, y= -3, z= -3>\n",
    "\n",
    "After 50 steps:\n",
    "pos=<x=-23, y=  4, z=  1>, vel=<x= -7, y= -1, z=  2>\n",
    "pos=<x= 20, y=-31, z= 13>, vel=<x=  5, y=  3, z=  4>\n",
    "pos=<x= -4, y=  6, z=  1>, vel=<x= -1, y=  1, z= -3>\n",
    "pos=<x= 15, y=  1, z= -5>, vel=<x=  3, y= -3, z= -3>\n",
    "\n",
    "After 60 steps:\n",
    "pos=<x= 36, y=-10, z=  6>, vel=<x=  5, y=  0, z=  3>\n",
    "pos=<x=-18, y= 10, z=  9>, vel=<x= -3, y= -7, z=  5>\n",
    "pos=<x=  8, y=-12, z= -3>, vel=<x= -2, y=  1, z= -7>\n",
    "pos=<x=-18, y= -8, z= -2>, vel=<x=  0, y=  6, z= -1>\n",
    "\n",
    "After 70 steps:\n",
    "pos=<x=-33, y= -6, z=  5>, vel=<x= -5, y= -4, z=  7>\n",
    "pos=<x= 13, y= -9, z=  2>, vel=<x= -2, y= 11, z=  3>\n",
    "pos=<x= 11, y= -8, z=  2>, vel=<x=  8, y= -6, z= -7>\n",
    "pos=<x= 17, y=  3, z=  1>, vel=<x= -1, y= -1, z= -3>\n",
    "\n",
    "After 80 steps:\n",
    "pos=<x= 30, y= -8, z=  3>, vel=<x=  3, y=  3, z=  0>\n",
    "pos=<x= -2, y= -4, z=  0>, vel=<x=  4, y=-13, z=  2>\n",
    "pos=<x=-18, y= -7, z= 15>, vel=<x= -8, y=  2, z= -2>\n",
    "pos=<x= -2, y= -1, z= -8>, vel=<x=  1, y=  8, z=  0>\n",
    "\n",
    "After 90 steps:\n",
    "pos=<x=-25, y= -1, z=  4>, vel=<x=  1, y= -3, z=  4>\n",
    "pos=<x=  2, y= -9, z=  0>, vel=<x= -3, y= 13, z= -1>\n",
    "pos=<x= 32, y= -8, z= 14>, vel=<x=  5, y= -4, z=  6>\n",
    "pos=<x= -1, y= -2, z= -8>, vel=<x= -3, y= -6, z= -9>\n",
    "\n",
    "After 100 steps:\n",
    "pos=<x=  8, y=-12, z= -9>, vel=<x= -7, y=  3, z=  0>\n",
    "pos=<x= 13, y= 16, z= -3>, vel=<x=  3, y=-11, z= -5>\n",
    "pos=<x=-29, y=-11, z= -1>, vel=<x= -3, y=  7, z=  4>\n",
    "pos=<x= 16, y=-13, z= 23>, vel=<x=  7, y=  1, z=  1>\n",
    "\n",
    "Energy after 100 steps:\n",
    "pot:  8 + 12 +  9 = 29;   kin: 7 +  3 + 0 = 10;   total: 29 * 10 = 290\n",
    "pot: 13 + 16 +  3 = 32;   kin: 3 + 11 + 5 = 19;   total: 32 * 19 = 608\n",
    "pot: 29 + 11 +  1 = 41;   kin: 3 +  7 + 4 = 14;   total: 41 * 14 = 574\n",
    "pot: 16 + 13 + 23 = 52;   kin: 7 +  1 + 1 =  9;   total: 52 *  9 = 468\n",
    "Sum of total energy: 290 + 608 + 574 + 468 = 1940\n",
    "What is the total energy in the system after simulating the moons given in your scan for 1000 steps?"
   ]
  },
  {
   "cell_type": "code",
   "execution_count": 1,
   "metadata": {},
   "outputs": [],
   "source": [
    "with open(\"input_star_twelve.txt\") as fp:\n",
    "    positions = fp.read().replace('x', '').replace('y', '').replace('z', '').replace('=', '').replace('<', '').replace('>', '').replace(' ', '')\n",
    "    positions = positions.split('\\n')"
   ]
  },
  {
   "cell_type": "code",
   "execution_count": 2,
   "metadata": {},
   "outputs": [],
   "source": [
    "planet1 = positions[0].split(',')\n",
    "planet2 = positions[1].split(',')\n",
    "planet3 = positions[2].split(',')\n",
    "planet4 = positions[3].split(',')\n",
    "\n",
    "planet1_final = []\n",
    "for i in range (0, len(planet1)):\n",
    "    planet1_final.append(int(planet1[i]))\n",
    "\n",
    "planet2_final = []\n",
    "for i in range (0, len(planet2)):\n",
    "    planet2_final.append(int(planet2[i]))\n",
    "\n",
    "planet3_final = []\n",
    "for i in range (0, len(planet3)):\n",
    "    planet3_final.append(int(planet3[i]))\n",
    "\n",
    "planet4_final = []\n",
    "for i in range (0, len(planet4)):\n",
    "    planet4_final.append(int(planet4[i]))\n",
    "\n",
    "planet_final = planet1_final + planet2_final + planet3_final + planet4_final\n",
    "\n",
    "positions_final = [planet_final[x:x+3] for x in range (0, len(planet_final),3)]"
   ]
  },
  {
   "cell_type": "code",
   "execution_count": 3,
   "metadata": {},
   "outputs": [
    {
     "data": {
      "text/plain": [
       "[[-19, -4, 2], [-9, 8, -16], [-4, 5, -11], [1, 9, -13]]"
      ]
     },
     "execution_count": 3,
     "metadata": {},
     "output_type": "execute_result"
    }
   ],
   "source": [
    "positions_final"
   ]
  },
  {
   "cell_type": "code",
   "execution_count": 4,
   "metadata": {},
   "outputs": [],
   "source": [
    "velocity_list = [[0,0,0],[0,0,0],[0,0,0],[0,0,0]]"
   ]
  },
  {
   "cell_type": "code",
   "execution_count": 5,
   "metadata": {},
   "outputs": [],
   "source": [
    "for _ in range (1000):\n",
    "    for j in range(3):\n",
    "        for i in range (0, len(positions_final)):\n",
    "            for k in range (0, len(positions_final)):\n",
    "                    if positions_final[i][j] < positions_final[k][j]:\n",
    "                        velocity_list[i][j] += 1\n",
    "                    elif positions_final[i][j] > positions_final[k][j]:\n",
    "                        velocity_list[i][j] -= 1\n",
    "\n",
    "                    positions_new1 = map(lambda x, y: x + y, positions_final[0], velocity_list[0])\n",
    "                    positions_new2 = map(lambda x, y: x + y, positions_final[1], velocity_list[1])\n",
    "                    positions_new3 = map(lambda x, y: x + y, positions_final[2], velocity_list[2])\n",
    "                    positions_new4 = map(lambda x, y: x + y, positions_final[3], velocity_list[3])\n",
    "                    positions_to_iterate = [list(positions_new1),list(positions_new2),list(positions_new3),list(positions_new4)]\n",
    "    positions_final = positions_to_iterate"
   ]
  },
  {
   "cell_type": "code",
   "execution_count": 6,
   "metadata": {},
   "outputs": [
    {
     "data": {
      "text/plain": [
       "[[-50, -49, 6], [-47, -14, -28], [-10, 40, 48], [76, 41, -64]]"
      ]
     },
     "execution_count": 6,
     "metadata": {},
     "output_type": "execute_result"
    }
   ],
   "source": [
    "positions_final"
   ]
  },
  {
   "cell_type": "code",
   "execution_count": 7,
   "metadata": {},
   "outputs": [
    {
     "data": {
      "text/plain": [
       "[[-50, -49, 6], [-47, -14, -28], [-10, 40, 48], [76, 41, -64]]"
      ]
     },
     "execution_count": 7,
     "metadata": {},
     "output_type": "execute_result"
    }
   ],
   "source": [
    "positions_to_iterate"
   ]
  },
  {
   "cell_type": "code",
   "execution_count": 8,
   "metadata": {},
   "outputs": [
    {
     "data": {
      "text/plain": [
       "[[7, -7, -15], [-16, 3, 0], [9, 1, 17], [0, 3, -2]]"
      ]
     },
     "execution_count": 8,
     "metadata": {},
     "output_type": "execute_result"
    }
   ],
   "source": [
    "velocity_list"
   ]
  },
  {
   "cell_type": "code",
   "execution_count": 9,
   "metadata": {},
   "outputs": [
    {
     "name": "stdout",
     "output_type": "stream",
     "text": [
      "8287\n"
     ]
    }
   ],
   "source": [
    "p1 = abs(positions_final[0][0]) + abs(positions_final[0][1]) + abs(positions_final[0][2])\n",
    "p2 = abs(positions_final[1][0]) + abs(positions_final[1][1]) + abs(positions_final[1][2])\n",
    "p3 = abs(positions_final[2][0]) + abs(positions_final[2][1]) + abs(positions_final[2][2])\n",
    "p4 = abs(positions_final[3][0]) + abs(positions_final[3][1]) + abs(positions_final[3][2])\n",
    "\n",
    "v1 = abs(velocity_list[0][0]) + abs(velocity_list[0][1]) + abs(velocity_list[0][2])\n",
    "v2 = abs(velocity_list[1][0]) + abs(velocity_list[1][1]) + abs(velocity_list[1][2])\n",
    "v3 = abs(velocity_list[2][0]) + abs(velocity_list[2][1]) + abs(velocity_list[2][2])\n",
    "v4 = abs(velocity_list[3][0]) + abs(velocity_list[3][1]) + abs(velocity_list[3][2])\n",
    "\n",
    "\n",
    "solution = p1 * v1 + p2 * v2 + p3 * v3 + p4 * v4\n",
    "print(solution)"
   ]
  },
  {
   "cell_type": "markdown",
   "metadata": {},
   "source": [
    "--- Part Two ---\n",
    "All this drifting around in space makes you wonder about the nature of the universe. Does history really repeat itself? You're curious whether the moons will ever return to a previous state.\n",
    "\n",
    "Determine the number of steps that must occur before all of the moons' positions and velocities exactly match a previous point in time.\n",
    "\n",
    "For example, the first example above takes 2772 steps before they exactly match a previous point in time; it eventually returns to the initial state:\n",
    "\n",
    "After 0 steps:\n",
    "pos=<x= -1, y=  0, z=  2>, vel=<x=  0, y=  0, z=  0>\n",
    "pos=<x=  2, y=-10, z= -7>, vel=<x=  0, y=  0, z=  0>\n",
    "pos=<x=  4, y= -8, z=  8>, vel=<x=  0, y=  0, z=  0>\n",
    "pos=<x=  3, y=  5, z= -1>, vel=<x=  0, y=  0, z=  0>\n",
    "\n",
    "After 2770 steps:\n",
    "pos=<x=  2, y= -1, z=  1>, vel=<x= -3, y=  2, z=  2>\n",
    "pos=<x=  3, y= -7, z= -4>, vel=<x=  2, y= -5, z= -6>\n",
    "pos=<x=  1, y= -7, z=  5>, vel=<x=  0, y= -3, z=  6>\n",
    "pos=<x=  2, y=  2, z=  0>, vel=<x=  1, y=  6, z= -2>\n",
    "\n",
    "After 2771 steps:\n",
    "pos=<x= -1, y=  0, z=  2>, vel=<x= -3, y=  1, z=  1>\n",
    "pos=<x=  2, y=-10, z= -7>, vel=<x= -1, y= -3, z= -3>\n",
    "pos=<x=  4, y= -8, z=  8>, vel=<x=  3, y= -1, z=  3>\n",
    "pos=<x=  3, y=  5, z= -1>, vel=<x=  1, y=  3, z= -1>\n",
    "\n",
    "After 2772 steps:\n",
    "pos=<x= -1, y=  0, z=  2>, vel=<x=  0, y=  0, z=  0>\n",
    "pos=<x=  2, y=-10, z= -7>, vel=<x=  0, y=  0, z=  0>\n",
    "pos=<x=  4, y= -8, z=  8>, vel=<x=  0, y=  0, z=  0>\n",
    "pos=<x=  3, y=  5, z= -1>, vel=<x=  0, y=  0, z=  0>\n",
    "Of course, the universe might last for a very long time before repeating. Here's a copy of the second example from above:\n",
    "\n",
    "<x=-8, y=-10, z=0>\n",
    "<x=5, y=5, z=10>\n",
    "<x=2, y=-7, z=3>\n",
    "<x=9, y=-8, z=-3>\n",
    "This set of initial positions takes 4686774924 steps before it repeats a previous state! Clearly, you might need to find a more efficient way to simulate the universe.\n",
    "\n",
    "How many steps does it take to reach the first state that exactly matches a previous state?"
   ]
  },
  {
   "cell_type": "code",
   "execution_count": null,
   "metadata": {},
   "outputs": [],
   "source": []
  }
 ],
 "metadata": {
  "kernelspec": {
   "display_name": "Python 3",
   "language": "python",
   "name": "python3"
  },
  "language_info": {
   "codemirror_mode": {
    "name": "ipython",
    "version": 3
   },
   "file_extension": ".py",
   "mimetype": "text/x-python",
   "name": "python",
   "nbconvert_exporter": "python",
   "pygments_lexer": "ipython3",
   "version": "3.7.4"
  }
 },
 "nbformat": 4,
 "nbformat_minor": 2
}
