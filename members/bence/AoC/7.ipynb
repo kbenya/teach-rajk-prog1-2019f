{
 "cells": [
  {
   "cell_type": "markdown",
   "metadata": {},
   "source": [
    "--- Day 7: Amplification Circuit ---\n",
    "Based on the navigational maps, you're going to need to send more power to your ship's thrusters to reach Santa in time. To do this, you'll need to configure a series of amplifiers already installed on the ship.\n",
    "\n",
    "There are five amplifiers connected in series; each one receives an input signal and produces an output signal. They are connected such that the first amplifier's output leads to the second amplifier's input, the second amplifier's output leads to the third amplifier's input, and so on. The first amplifier's input value is 0, and the last amplifier's output leads to your ship's thrusters.\n",
    "\n",
    "    O-------O  O-------O  O-------O  O-------O  O-------O\n",
    "0 ->| Amp A |->| Amp B |->| Amp C |->| Amp D |->| Amp E |-> (to thrusters)\n",
    "    O-------O  O-------O  O-------O  O-------O  O-------O\n",
    "The Elves have sent you some Amplifier Controller Software (your puzzle input), a program that should run on your existing Intcode computer. Each amplifier will need to run a copy of the program.\n",
    "\n",
    "When a copy of the program starts running on an amplifier, it will first use an input instruction to ask the amplifier for its current phase setting (an integer from 0 to 4). Each phase setting is used exactly once, but the Elves can't remember which amplifier needs which phase setting.\n",
    "\n",
    "The program will then call another input instruction to get the amplifier's input signal, compute the correct output signal, and supply it back to the amplifier with an output instruction. (If the amplifier has not yet received an input signal, it waits until one arrives.)\n",
    "\n",
    "Your job is to find the largest output signal that can be sent to the thrusters by trying every possible combination of phase settings on the amplifiers. Make sure that memory is not shared or reused between copies of the program.\n",
    "\n",
    "For example, suppose you want to try the phase setting sequence 3,1,2,4,0, which would mean setting amplifier A to phase setting 3, amplifier B to setting 1, C to 2, D to 4, and E to 0. Then, you could determine the output signal that gets sent from amplifier E to the thrusters with the following steps:\n",
    "\n",
    "Start the copy of the amplifier controller software that will run on amplifier A. At its first input instruction, provide it the amplifier's phase setting, 3. At its second input instruction, provide it the input signal, 0. After some calculations, it will use an output instruction to indicate the amplifier's output signal.\n",
    "Start the software for amplifier B. Provide it the phase setting (1) and then whatever output signal was produced from amplifier A. It will then produce a new output signal destined for amplifier C.\n",
    "Start the software for amplifier C, provide the phase setting (2) and the value from amplifier B, then collect its output signal.\n",
    "Run amplifier D's software, provide the phase setting (4) and input value, and collect its output signal.\n",
    "Run amplifier E's software, provide the phase setting (0) and input value, and collect its output signal.\n",
    "The final output signal from amplifier E would be sent to the thrusters. However, this phase setting sequence may not have been the best one; another sequence might have sent a higher signal to the thrusters.\n",
    "\n",
    "Here are some example programs:\n",
    "\n",
    "Max thruster signal 43210 (from phase setting sequence 4,3,2,1,0):\n",
    "\n",
    "3,15,3,16,1002,16,10,16,1,16,15,15,4,15,99,0,0\n",
    "Max thruster signal 54321 (from phase setting sequence 0,1,2,3,4):\n",
    "\n",
    "3,23,3,24,1002,24,10,24,1002,23,-1,23,\n",
    "101,5,23,23,1,24,23,23,4,23,99,0,0\n",
    "Max thruster signal 65210 (from phase setting sequence 1,0,4,3,2):\n",
    "\n",
    "3,31,3,32,1002,32,10,32,1001,31,-2,31,1007,31,0,33,\n",
    "1002,33,7,33,1,33,31,31,1,32,31,31,4,31,99,0,0,0\n",
    "Try every combination of phase settings on the amplifiers. What is the highest signal that can be sent to the thrusters?"
   ]
  },
  {
   "cell_type": "code",
   "execution_count": 1,
   "metadata": {},
   "outputs": [],
   "source": [
    "with open(\"input_star_seven.txt\") as fp:\n",
    "    opcodes = fp.read()\n",
    "    new_opcodes = opcodes.split(',')\n",
    "    intcode_list = [int(num) for num in new_opcodes]"
   ]
  },
  {
   "cell_type": "code",
   "execution_count": 2,
   "metadata": {},
   "outputs": [
    {
     "name": "stdout",
     "output_type": "stream",
     "text": [
      "[3, 8, 1001, 8, 10, 8, 105, 1, 0, 0, 21, 30, 51, 72, 81, 94, 175, 256, 337, 418, 99999, 3, 9, 101, 5, 9, 9, 4, 9, 99, 3, 9, 1001, 9, 3, 9, 1002, 9, 2, 9, 1001, 9, 2, 9, 1002, 9, 5, 9, 4, 9, 99, 3, 9, 1002, 9, 4, 9, 101, 4, 9, 9, 102, 5, 9, 9, 101, 3, 9, 9, 4, 9, 99, 3, 9, 1002, 9, 4, 9, 4, 9, 99, 3, 9, 102, 3, 9, 9, 1001, 9, 4, 9, 4, 9, 99, 3, 9, 1001, 9, 2, 9, 4, 9, 3, 9, 101, 2, 9, 9, 4, 9, 3, 9, 101, 2, 9, 9, 4, 9, 3, 9, 1001, 9, 1, 9, 4, 9, 3, 9, 101, 1, 9, 9, 4, 9, 3, 9, 101, 1, 9, 9, 4, 9, 3, 9, 101, 1, 9, 9, 4, 9, 3, 9, 1002, 9, 2, 9, 4, 9, 3, 9, 101, 1, 9, 9, 4, 9, 3, 9, 1002, 9, 2, 9, 4, 9, 99, 3, 9, 102, 2, 9, 9, 4, 9, 3, 9, 1002, 9, 2, 9, 4, 9, 3, 9, 1001, 9, 1, 9, 4, 9, 3, 9, 102, 2, 9, 9, 4, 9, 3, 9, 1001, 9, 2, 9, 4, 9, 3, 9, 1002, 9, 2, 9, 4, 9, 3, 9, 101, 1, 9, 9, 4, 9, 3, 9, 101, 1, 9, 9, 4, 9, 3, 9, 101, 2, 9, 9, 4, 9, 3, 9, 102, 2, 9, 9, 4, 9, 99, 3, 9, 102, 2, 9, 9, 4, 9, 3, 9, 102, 2, 9, 9, 4, 9, 3, 9, 1002, 9, 2, 9, 4, 9, 3, 9, 1001, 9, 1, 9, 4, 9, 3, 9, 1002, 9, 2, 9, 4, 9, 3, 9, 102, 2, 9, 9, 4, 9, 3, 9, 102, 2, 9, 9, 4, 9, 3, 9, 102, 2, 9, 9, 4, 9, 3, 9, 102, 2, 9, 9, 4, 9, 3, 9, 102, 2, 9, 9, 4, 9, 99, 3, 9, 1001, 9, 2, 9, 4, 9, 3, 9, 101, 1, 9, 9, 4, 9, 3, 9, 1001, 9, 1, 9, 4, 9, 3, 9, 1001, 9, 1, 9, 4, 9, 3, 9, 102, 2, 9, 9, 4, 9, 3, 9, 101, 1, 9, 9, 4, 9, 3, 9, 1001, 9, 2, 9, 4, 9, 3, 9, 1002, 9, 2, 9, 4, 9, 3, 9, 1001, 9, 1, 9, 4, 9, 3, 9, 101, 2, 9, 9, 4, 9, 99, 3, 9, 101, 2, 9, 9, 4, 9, 3, 9, 101, 2, 9, 9, 4, 9, 3, 9, 101, 1, 9, 9, 4, 9, 3, 9, 1001, 9, 1, 9, 4, 9, 3, 9, 1002, 9, 2, 9, 4, 9, 3, 9, 1001, 9, 1, 9, 4, 9, 3, 9, 1001, 9, 1, 9, 4, 9, 3, 9, 1001, 9, 2, 9, 4, 9, 3, 9, 1001, 9, 1, 9, 4, 9, 3, 9, 101, 1, 9, 9, 4, 9, 99]\n"
     ]
    }
   ],
   "source": [
    "print(intcode_list)"
   ]
  },
  {
   "cell_type": "code",
   "execution_count": 3,
   "metadata": {},
   "outputs": [],
   "source": [
    "import itertools\n",
    "permutaciok_tuple = list(itertools.permutations([0, 1, 2, 3, 4]))\n",
    "\n",
    "permutaciok = []\n",
    "for tuples in permutaciok_tuple:\n",
    "        permutaciok.append(list(tuples))\n",
    "        \n",
    "#print(permutaciok)"
   ]
  },
  {
   "cell_type": "code",
   "execution_count": 2,
   "metadata": {},
   "outputs": [],
   "source": [
    "from copy import deepcopy"
   ]
  },
  {
   "cell_type": "code",
   "execution_count": 9,
   "metadata": {
    "scrolled": true
   },
   "outputs": [],
   "source": [
    "def star7_final(inputlist, phase_input, input_value):\n",
    "    \n",
    "    pointer = 0\n",
    "    counter = 0\n",
    "    opcode_dict = {1: 3, 2: 3, 3: 1, 4: 1, 5: 2, 6: 2, 7: 3, 8: 3, 99: 0}\n",
    "    while pointer < len(inputlist):\n",
    "        jump = True\n",
    "        opcode = str(inputlist[pointer])\n",
    "        instruction = int(opcode[-2:])\n",
    "        output = []\n",
    "        parameters = []\n",
    "        i = 1\n",
    "\n",
    "        for digit in opcode[-3::-1]:\n",
    "            if digit == '0':\n",
    "                parameters.append(inputlist[pointer + i])\n",
    "            else:\n",
    "                parameters.append(pointer + i)\n",
    "                \n",
    "            i += 1\n",
    "\n",
    "        for _ in range(opcode_dict[instruction] - len(parameters)):\n",
    "            parameters.append(inputlist[pointer + i])\n",
    "            i += 1\n",
    "            \n",
    "        if instruction == 1:\n",
    "            add = inputlist[parameters[0]] + inputlist[parameters[1]]\n",
    "            inputlist[parameters[2]] = add\n",
    "            \n",
    "            \n",
    "        elif instruction == 2:\n",
    "            multiplication = inputlist[parameters[0]] * inputlist[parameters[1]]\n",
    "            inputlist[parameters[2]] = multiplication\n",
    "            \n",
    "            \n",
    "        elif instruction == 3:\n",
    "            if counter == 0:\n",
    "                inputlist[parameters[0]] = phase_input\n",
    "                counter = counter + 1\n",
    "            else:\n",
    "                inputlist[parameters[0]] = input_value\n",
    "            \n",
    "        elif instruction == 4:\n",
    "            output.append(inputlist[parameters[0]])\n",
    "            return output[0]\n",
    "            \n",
    "        elif instruction == 5:\n",
    "            if inputlist[parameters[0]] != 0:\n",
    "                pointer = inputlist[parameters[1]]\n",
    "                jump = False\n",
    "                \n",
    "        elif instruction == 6:\n",
    "            if inputlist[parameters[0]] == 0:\n",
    "                pointer = inputlist[parameters[1]]\n",
    "            else:\n",
    "                jump = False\n",
    "                \n",
    "        elif instruction == 7:\n",
    "            if inputlist[parameters[0]] < inputlist[parameters[1]]: \n",
    "                inputlist[parameters[2]] = 1\n",
    "            else:\n",
    "                inputlist[parameters[2]] = 0\n",
    "                \n",
    "        elif instruction == 8:\n",
    "            if inputlist[parameters[0]] == inputlist[parameters[1]]: \n",
    "                inputlist[parameters[2]] = 1\n",
    "            else:\n",
    "                inputlist[parameters[2]] = 0\n",
    "            \n",
    "\n",
    "        elif instruction == 99:\n",
    "            break\n",
    "        \n",
    "        if jump:\n",
    "            pointer += opcode_dict[instruction] + 1"
   ]
  },
  {
   "cell_type": "code",
   "execution_count": 10,
   "metadata": {},
   "outputs": [],
   "source": [
    "thrusters = []\n",
    "#permutaciok = [[4,3,2,1,0]]\n",
    "for phases in permutaciok:\n",
    "    value = 0\n",
    "    for phase in phases:\n",
    "        value = star7_final(deepcopy(intcode_list), phase, value)\n",
    "    thrusters.append(value)"
   ]
  },
  {
   "cell_type": "code",
   "execution_count": 11,
   "metadata": {},
   "outputs": [
    {
     "data": {
      "text/plain": [
       "22012"
      ]
     },
     "execution_count": 11,
     "metadata": {},
     "output_type": "execute_result"
    }
   ],
   "source": [
    "max(thrusters)"
   ]
  },
  {
   "cell_type": "markdown",
   "metadata": {},
   "source": [
    "It's no good - in this configuration, the amplifiers can't generate a large enough output signal to produce the thrust you'll need. The Elves quickly talk you through rewiring the amplifiers into a feedback loop:\n",
    "\n",
    "      O-------O  O-------O  O-------O  O-------O  O-------O\n",
    "0 -+->| Amp A |->| Amp B |->| Amp C |->| Amp D |->| Amp E |-.\n",
    "   |  O-------O  O-------O  O-------O  O-------O  O-------O |\n",
    "   |                                                        |\n",
    "   '--------------------------------------------------------+\n",
    "                                                            |\n",
    "                                                            v\n",
    "                                                     (to thrusters)\n",
    "Most of the amplifiers are connected as they were before; amplifier A's output is connected to amplifier B's input, and so on. However, the output from amplifier E is now connected into amplifier A's input. This creates the feedback loop: the signal will be sent through the amplifiers many times.\n",
    "\n",
    "In feedback loop mode, the amplifiers need totally different phase settings: integers from 5 to 9, again each used exactly once. These settings will cause the Amplifier Controller Software to repeatedly take input and produce output many times before halting. Provide each amplifier its phase setting at its first input instruction; all further input/output instructions are for signals.\n",
    "\n",
    "Don't restart the Amplifier Controller Software on any amplifier during this process. Each one should continue receiving and sending signals until it halts.\n",
    "\n",
    "All signals sent or received in this process will be between pairs of amplifiers except the very first signal and the very last signal. To start the process, a 0 signal is sent to amplifier A's input exactly once.\n",
    "\n",
    "Eventually, the software on the amplifiers will halt after they have processed the final loop. When this happens, the last output signal from amplifier E is sent to the thrusters. Your job is to find the largest output signal that can be sent to the thrusters using the new phase settings and feedback loop arrangement.\n",
    "\n",
    "Here are some example programs:\n",
    "\n",
    "Max thruster signal 139629729 (from phase setting sequence 9,8,7,6,5):\n",
    "\n",
    "3,26,1001,26,-4,26,3,27,1002,27,2,27,1,27,26,\n",
    "27,4,27,1001,28,-1,28,1005,28,6,99,0,0,5\n",
    "Max thruster signal 18216 (from phase setting sequence 9,7,8,5,6):\n",
    "\n",
    "3,52,1001,52,-5,52,3,53,1,52,56,54,1007,54,5,55,1005,55,26,1001,54,\n",
    "-5,54,1105,1,12,1,53,54,53,1008,54,0,55,1001,55,1,55,2,53,55,53,4,\n",
    "53,1001,56,-1,56,1005,56,6,99,0,0,0,0,10\n",
    "Try every combination of the new phase settings on the amplifier feedback loop. What is the highest signal that can be sent to the thrusters?"
   ]
  },
  {
   "cell_type": "code",
   "execution_count": 7,
   "metadata": {},
   "outputs": [],
   "source": [
    "def star7_second(inputlist, pointer, values):\n",
    "    \n",
    "    output = []\n",
    "    opcode_dict = {1: 3, 2: 3, 3: 1, 4: 1, 5: 2, 6: 2, 7: 3, 8: 3, 99: 0}\n",
    "    while pointer < len(inputlist):\n",
    "        jump = True\n",
    "        opcode = str(inputlist[pointer])\n",
    "        instruction = int(opcode[-2:])\n",
    "        parameters = []\n",
    "        i = 1\n",
    "\n",
    "        for digit in opcode[-3::-1]:\n",
    "            if digit == '0':\n",
    "                parameters.append(inputlist[pointer + i])\n",
    "            else:\n",
    "                parameters.append(pointer + i)\n",
    "                \n",
    "            i += 1\n",
    "\n",
    "        for _ in range(opcode_dict[instruction] - len(parameters)):\n",
    "            parameters.append(inputlist[pointer + i])\n",
    "            i += 1\n",
    "            \n",
    "        if instruction == 1:\n",
    "            add = inputlist[parameters[0]] + inputlist[parameters[1]]\n",
    "            inputlist[parameters[2]] = add\n",
    "            \n",
    "            \n",
    "        elif instruction == 2:\n",
    "            multiplication = inputlist[parameters[0]] * inputlist[parameters[1]]\n",
    "            inputlist[parameters[2]] = multiplication\n",
    "            \n",
    "            \n",
    "        elif instruction == 3:\n",
    "            if values != []:\n",
    "                inputlist[parameters[0]] = values[0]\n",
    "                values.pop(0)\n",
    "            else:\n",
    "                return [inputlist, pointer, output, True]\n",
    "            \n",
    "        elif instruction == 4:\n",
    "            output.append(inputlist[parameters[0]])\n",
    "            \n",
    "        elif instruction == 5:\n",
    "            if inputlist[parameters[0]] != 0:\n",
    "                pointer = inputlist[parameters[1]]\n",
    "                jump = False\n",
    "                \n",
    "        elif instruction == 6:\n",
    "            if inputlist[parameters[0]] == 0:\n",
    "                pointer = inputlist[parameters[1]]\n",
    "            else:\n",
    "                jump = False\n",
    "                \n",
    "        elif instruction == 7:\n",
    "            if inputlist[parameters[0]] < inputlist[parameters[1]]: \n",
    "                inputlist[parameters[2]] = 1\n",
    "            else:\n",
    "                inputlist[parameters[2]] = 0\n",
    "                \n",
    "        elif instruction == 8:\n",
    "            if inputlist[parameters[0]] == inputlist[parameters[1]]: \n",
    "                inputlist[parameters[2]] = 1\n",
    "            else:\n",
    "                inputlist[parameters[2]] = 0\n",
    "            \n",
    "\n",
    "        elif instruction == 99:\n",
    "            return [inputlist, pointer, output, False]\n",
    "        \n",
    "        if jump:\n",
    "            pointer += opcode_dict[instruction] + 1"
   ]
  },
  {
   "cell_type": "code",
   "execution_count": 8,
   "metadata": {},
   "outputs": [],
   "source": [
    "import itertools\n",
    "permutaciok_tuple = list(itertools.permutations([5,6,7,8,9]))\n",
    "\n",
    "permutaciok = []\n",
    "for tuples in permutaciok_tuple:\n",
    "        permutaciok.append(list(tuples))"
   ]
  },
  {
   "cell_type": "code",
   "execution_count": 9,
   "metadata": {},
   "outputs": [],
   "source": [
    "thrusters = []\n",
    "for phase_list in permutaciok:\n",
    "    futas = True\n",
    "    key_index = 1\n",
    "    amp_dict = {1: {'szamok': deepcopy(intcode_list), 'opcode': 0, 'inputok': [phase_list[0], 0]}, \n",
    "            2: {'szamok': deepcopy(intcode_list), 'opcode': 0, 'inputok': [phase_list[1]]}, \n",
    "            3: {'szamok': deepcopy(intcode_list), 'opcode': 0, 'inputok': [phase_list[2]]}, \n",
    "            4: {'szamok': deepcopy(intcode_list), 'opcode': 0, 'inputok': [phase_list[3]]}, \n",
    "            5: {'szamok': deepcopy(intcode_list), 'opcode': 0, 'inputok': [phase_list[4]]}}\n",
    "    while futas:\n",
    "        return_ertekek = star7_second(amp_dict[key_index]['szamok'], amp_dict[key_index]['opcode'], amp_dict[key_index]['inputok'])\n",
    "        amp_dict[key_index] = {'szamok': return_ertekek[0], 'opcode': return_ertekek[1], 'inputok': []}\n",
    "        futas = return_ertekek[3]\n",
    "        if futas == False and key_index != 5:\n",
    "            futas = True\n",
    "        key_index += 1\n",
    "        if key_index > 5:\n",
    "            key_index = 1\n",
    "        amp_dict[key_index]['inputok'] += return_ertekek[2]\n",
    "    thrusters.append(return_ertekek[2][0])"
   ]
  },
  {
   "cell_type": "code",
   "execution_count": 10,
   "metadata": {},
   "outputs": [
    {
     "data": {
      "text/plain": [
       "4039164"
      ]
     },
     "execution_count": 10,
     "metadata": {},
     "output_type": "execute_result"
    }
   ],
   "source": [
    "max(thrusters)"
   ]
  },
  {
   "cell_type": "code",
   "execution_count": null,
   "metadata": {},
   "outputs": [],
   "source": []
  },
  {
   "cell_type": "code",
   "execution_count": null,
   "metadata": {},
   "outputs": [],
   "source": []
  },
  {
   "cell_type": "code",
   "execution_count": null,
   "metadata": {},
   "outputs": [],
   "source": []
  }
 ],
 "metadata": {
  "kernelspec": {
   "display_name": "Python 3",
   "language": "python",
   "name": "python3"
  },
  "language_info": {
   "codemirror_mode": {
    "name": "ipython",
    "version": 3
   },
   "file_extension": ".py",
   "mimetype": "text/x-python",
   "name": "python",
   "nbconvert_exporter": "python",
   "pygments_lexer": "ipython3",
   "version": "3.7.4"
  }
 },
 "nbformat": 4,
 "nbformat_minor": 2
}
