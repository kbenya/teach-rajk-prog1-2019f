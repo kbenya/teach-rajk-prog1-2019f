{
 "cells": [
  {
   "cell_type": "markdown",
   "metadata": {},
   "source": [
    "--- Day 9: Sensor Boost ---\n",
    "You've just said goodbye to the rebooted rover and left Mars when you receive a faint distress signal coming from the asteroid belt. It must be the Ceres monitoring station!\n",
    "\n",
    "In order to lock on to the signal, you'll need to boost your sensors. The Elves send up the latest BOOST program - Basic Operation Of System Test.\n",
    "\n",
    "While BOOST (your puzzle input) is capable of boosting your sensors, for tenuous safety reasons, it refuses to do so until the computer it runs on passes some checks to demonstrate it is a complete Intcode computer.\n",
    "\n",
    "Your existing Intcode computer is missing one key feature: it needs support for parameters in relative mode.\n",
    "\n",
    "Parameters in mode 2, relative mode, behave very similarly to parameters in position mode: the parameter is interpreted as a position. Like position mode, parameters in relative mode can be read from or written to.\n",
    "\n",
    "The important difference is that relative mode parameters don't count from address 0. Instead, they count from a value called the relative base. The relative base starts at 0.\n",
    "\n",
    "The address a relative mode parameter refers to is itself plus the current relative base. When the relative base is 0, relative mode parameters and position mode parameters with the same value refer to the same address.\n",
    "\n",
    "For example, given a relative base of 50, a relative mode parameter of -7 refers to memory address 50 + -7 = 43.\n",
    "\n",
    "The relative base is modified with the relative base offset instruction:\n",
    "\n",
    "Opcode 9 adjusts the relative base by the value of its only parameter. The relative base increases (or decreases, if the value is negative) by the value of the parameter.\n",
    "For example, if the relative base is 2000, then after the instruction 109,19, the relative base would be 2019. If the next instruction were 204,-34, then the value at address 1985 would be output.\n",
    "\n",
    "Your Intcode computer will also need a few other capabilities:\n",
    "\n",
    "The computer's available memory should be much larger than the initial program. Memory beyond the initial program starts with the value 0 and can be read or written like any other memory. (It is invalid to try to access memory at a negative address, though.)\n",
    "The computer should have support for large numbers. Some instructions near the beginning of the BOOST program will verify this capability.\n",
    "Here are some example programs that use these features:\n",
    "\n",
    "109,1,204,-1,1001,100,1,100,1008,100,16,101,1006,101,0,99 takes no input and produces a copy of itself as output.\n",
    "1102,34915192,34915192,7,4,7,99,0 should output a 16-digit number.\n",
    "104,1125899906842624,99 should output the large number in the middle.\n",
    "The BOOST program will ask for a single input; run it in test mode by providing it the value 1. It will perform a series of checks on each opcode, output any opcodes (and the associated parameter modes) that seem to be functioning incorrectly, and finally output a BOOST keycode.\n",
    "\n",
    "Once your Intcode computer is fully functional, the BOOST program should report no malfunctioning opcodes when run in test mode; it should only output a single value, the BOOST keycode. What BOOST keycode does it produce?\n",
    "\n",
    "To begin, get your puzzle input."
   ]
  },
  {
   "cell_type": "code",
   "execution_count": 1,
   "metadata": {},
   "outputs": [],
   "source": [
    "with open(\"input_star_nine.txt\") as fp:\n",
    "    opcodes = fp.read()\n",
    "    new_opcodes = opcodes.split(',')\n",
    "    intcode_list = [int(num) for num in new_opcodes]"
   ]
  },
  {
   "cell_type": "code",
   "execution_count": 2,
   "metadata": {},
   "outputs": [],
   "source": [
    "#testlist = [104,1125899906842624,99]"
   ]
  },
  {
   "cell_type": "code",
   "execution_count": 3,
   "metadata": {},
   "outputs": [],
   "source": [
    "def star9_final(inputlist):\n",
    "    \n",
    "    pointer = 0\n",
    "    relative_base = 0\n",
    "    opcode_dict = {1: 3, 2: 3, 3: 1, 4: 1, 5: 2, 6: 2, 7: 3, 8: 3,9: 1, 99: 0}\n",
    "    while pointer < len(inputlist):\n",
    "        \n",
    "        opcode = str(inputlist[pointer])\n",
    "        instruction = int(opcode[-2:])\n",
    "        parameters = []\n",
    "        i = 1\n",
    "\n",
    "        for digit in opcode[-3::-1]:\n",
    "            if digit == '0':\n",
    "                parameters.append(inputlist[pointer + i])\n",
    "            elif digit == '1':\n",
    "                parameters.append(pointer + i)\n",
    "            elif digit == '2':\n",
    "                parameters.append(inputlist[pointer + i] + relative_base)\n",
    "            i += 1\n",
    "\n",
    "        for _ in range(opcode_dict[instruction] - len(parameters)):\n",
    "            parameters.append(inputlist[pointer + i])\n",
    "            i += 1\n",
    "\n",
    "        if instruction != 99 and len(inputlist) <= max(parameters):\n",
    "            nullak = [0]\n",
    "            inputlist = inputlist + nullak * (max(parameters)-len(inputlist) + 1)\n",
    "        \n",
    "        if instruction == 1:\n",
    "            add = inputlist[parameters[0]] + inputlist[parameters[1]]\n",
    "            inputlist[parameters[2]] = add\n",
    "            pointer += opcode_dict[instruction] + 1\n",
    "            \n",
    "        elif instruction == 2:\n",
    "            multiplication = inputlist[parameters[0]] * inputlist[parameters[1]]\n",
    "            inputlist[parameters[2]] = multiplication\n",
    "            pointer += opcode_dict[instruction] + 1\n",
    "            \n",
    "        elif instruction == 3:\n",
    "            inputlist[parameters[0]] = int(input())\n",
    "            pointer += opcode_dict[instruction] + 1\n",
    "            \n",
    "        elif instruction == 4:\n",
    "            print(inputlist[parameters[0]])\n",
    "            pointer += opcode_dict[instruction] + 1\n",
    "            \n",
    "        elif instruction == 5:\n",
    "            if inputlist[parameters[0]] != 0:\n",
    "                pointer = inputlist[parameters[1]]\n",
    "            else:\n",
    "                pointer += opcode_dict[instruction] + 1\n",
    "                \n",
    "        elif instruction == 6:\n",
    "            if inputlist[parameters[0]] == 0:\n",
    "                pointer = inputlist[parameters[1]]\n",
    "            else:\n",
    "                pointer += opcode_dict[instruction] + 1\n",
    "                \n",
    "        elif instruction == 7:\n",
    "            if inputlist[parameters[0]] < inputlist[parameters[1]]: \n",
    "                inputlist[parameters[2]] = 1\n",
    "            else:\n",
    "                inputlist[parameters[2]] = 0\n",
    "            pointer += opcode_dict[instruction] + 1\n",
    "                \n",
    "        elif instruction == 8:\n",
    "            if inputlist[parameters[0]] == inputlist[parameters[1]]: \n",
    "                inputlist[parameters[2]] = 1\n",
    "            else:\n",
    "                inputlist[parameters[2]] = 0\n",
    "            pointer += opcode_dict[instruction] + 1\n",
    "            \n",
    "        elif instruction == 9:\n",
    "            relative_base = relative_base + inputlist[parameters[0]] \n",
    "            pointer += opcode_dict[instruction] + 1\n",
    "\n",
    "        elif instruction[pointer] == 99:\n",
    "            break\n",
    "\n",
    "        else:\n",
    "            print(\"ez nem jó még\")\n",
    "        "
   ]
  },
  {
   "cell_type": "code",
   "execution_count": 4,
   "metadata": {},
   "outputs": [
    {
     "name": "stdout",
     "output_type": "stream",
     "text": [
      "2\n",
      "82760\n"
     ]
    },
    {
     "ename": "TypeError",
     "evalue": "'int' object is not subscriptable",
     "output_type": "error",
     "traceback": [
      "\u001b[1;31m---------------------------------------------------------------------------\u001b[0m",
      "\u001b[1;31mTypeError\u001b[0m                                 Traceback (most recent call last)",
      "\u001b[1;32m<ipython-input-4-f5fcb5387500>\u001b[0m in \u001b[0;36m<module>\u001b[1;34m\u001b[0m\n\u001b[1;32m----> 1\u001b[1;33m \u001b[0mstar9_final\u001b[0m\u001b[1;33m(\u001b[0m\u001b[0mintcode_list\u001b[0m\u001b[1;33m)\u001b[0m\u001b[1;33m\u001b[0m\u001b[1;33m\u001b[0m\u001b[0m\n\u001b[0m",
      "\u001b[1;32m<ipython-input-3-5063dff3e257>\u001b[0m in \u001b[0;36mstar9_final\u001b[1;34m(inputlist)\u001b[0m\n\u001b[0;32m     76\u001b[0m             \u001b[0mpointer\u001b[0m \u001b[1;33m+=\u001b[0m \u001b[0mopcode_dict\u001b[0m\u001b[1;33m[\u001b[0m\u001b[0minstruction\u001b[0m\u001b[1;33m]\u001b[0m \u001b[1;33m+\u001b[0m \u001b[1;36m1\u001b[0m\u001b[1;33m\u001b[0m\u001b[1;33m\u001b[0m\u001b[0m\n\u001b[0;32m     77\u001b[0m \u001b[1;33m\u001b[0m\u001b[0m\n\u001b[1;32m---> 78\u001b[1;33m         \u001b[1;32melif\u001b[0m \u001b[0minstruction\u001b[0m\u001b[1;33m[\u001b[0m\u001b[0mpointer\u001b[0m\u001b[1;33m]\u001b[0m \u001b[1;33m==\u001b[0m \u001b[1;36m99\u001b[0m\u001b[1;33m:\u001b[0m\u001b[1;33m\u001b[0m\u001b[1;33m\u001b[0m\u001b[0m\n\u001b[0m\u001b[0;32m     79\u001b[0m             \u001b[1;32mbreak\u001b[0m\u001b[1;33m\u001b[0m\u001b[1;33m\u001b[0m\u001b[0m\n\u001b[0;32m     80\u001b[0m \u001b[1;33m\u001b[0m\u001b[0m\n",
      "\u001b[1;31mTypeError\u001b[0m: 'int' object is not subscriptable"
     ]
    }
   ],
   "source": [
    "star9_final(intcode_list)"
   ]
  },
  {
   "cell_type": "code",
   "execution_count": null,
   "metadata": {},
   "outputs": [],
   "source": []
  }
 ],
 "metadata": {
  "kernelspec": {
   "display_name": "Python 3",
   "language": "python",
   "name": "python3"
  },
  "language_info": {
   "codemirror_mode": {
    "name": "ipython",
    "version": 3
   },
   "file_extension": ".py",
   "mimetype": "text/x-python",
   "name": "python",
   "nbconvert_exporter": "python",
   "pygments_lexer": "ipython3",
   "version": "3.7.4"
  }
 },
 "nbformat": 4,
 "nbformat_minor": 2
}
