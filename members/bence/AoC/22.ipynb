{
 "cells": [
  {
   "cell_type": "markdown",
   "metadata": {},
   "source": [
    "--- Day 22: Slam Shuffle ---\n",
    "There isn't much to do while you wait for the droids to repair your ship. At least you're drifting in the right direction. You decide to practice a new card shuffle you've been working on.\n",
    "\n",
    "Digging through the ship's storage, you find a deck of space cards! Just like any deck of space cards, there are 10007 cards in the deck numbered 0 through 10006. The deck must be new - they're still in factory order, with 0 on the top, then 1, then 2, and so on, all the way through to 10006 on the bottom.\n",
    "\n",
    "You've been practicing three different techniques that you use while shuffling. Suppose you have a deck of only 10 cards (numbered 0 through 9):\n",
    "\n",
    "To deal into new stack, create a new stack of cards by dealing the top card of the deck onto the top of the new stack repeatedly until you run out of cards:\n",
    "\n",
    "Top          Bottom\n",
    "0 1 2 3 4 5 6 7 8 9   Your deck\n",
    "                      New stack\n",
    "\n",
    "  1 2 3 4 5 6 7 8 9   Your deck\n",
    "                  0   New stack\n",
    "\n",
    "    2 3 4 5 6 7 8 9   Your deck\n",
    "                1 0   New stack\n",
    "\n",
    "      3 4 5 6 7 8 9   Your deck\n",
    "              2 1 0   New stack\n",
    "\n",
    "Several steps later...\n",
    "\n",
    "                  9   Your deck\n",
    "  8 7 6 5 4 3 2 1 0   New stack\n",
    "\n",
    "                      Your deck\n",
    "9 8 7 6 5 4 3 2 1 0   New stack\n",
    "Finally, pick up the new stack you've just created and use it as the deck for the next technique.\n",
    "\n",
    "To cut N cards, take the top N cards off the top of the deck and move them as a single unit to the bottom of the deck, retaining their order. For example, to cut 3:\n",
    "\n",
    "Top          Bottom\n",
    "0 1 2 3 4 5 6 7 8 9   Your deck\n",
    "\n",
    "      3 4 5 6 7 8 9   Your deck\n",
    "0 1 2                 Cut cards\n",
    "\n",
    "3 4 5 6 7 8 9         Your deck\n",
    "              0 1 2   Cut cards\n",
    "\n",
    "3 4 5 6 7 8 9 0 1 2   Your deck\n",
    "You've also been getting pretty good at a version of this technique where N is negative! In that case, cut (the absolute value of) N cards from the bottom of the deck onto the top. For example, to cut -4:\n",
    "\n",
    "Top          Bottom\n",
    "0 1 2 3 4 5 6 7 8 9   Your deck\n",
    "\n",
    "0 1 2 3 4 5           Your deck\n",
    "            6 7 8 9   Cut cards\n",
    "\n",
    "        0 1 2 3 4 5   Your deck\n",
    "6 7 8 9               Cut cards\n",
    "\n",
    "6 7 8 9 0 1 2 3 4 5   Your deck\n",
    "To deal with increment N, start by clearing enough space on your table to lay out all of the cards individually in a long line. Deal the top card into the leftmost position. Then, move N positions to the right and deal the next card there. If you would move into a position past the end of the space on your table, wrap around and keep counting from the leftmost card again. Continue this process until you run out of cards.\n",
    "\n",
    "For example, to deal with increment 3:\n",
    "\n",
    "\n",
    "0 1 2 3 4 5 6 7 8 9   Your deck\n",
    ". . . . . . . . . .   Space on table\n",
    "^                     Current position\n",
    "\n",
    "Deal the top card to the current position:\n",
    "\n",
    "  1 2 3 4 5 6 7 8 9   Your deck\n",
    "0 . . . . . . . . .   Space on table\n",
    "^                     Current position\n",
    "\n",
    "Move the current position right 3:\n",
    "\n",
    "  1 2 3 4 5 6 7 8 9   Your deck\n",
    "0 . . . . . . . . .   Space on table\n",
    "      ^               Current position\n",
    "\n",
    "Deal the top card:\n",
    "\n",
    "    2 3 4 5 6 7 8 9   Your deck\n",
    "0 . . 1 . . . . . .   Space on table\n",
    "      ^               Current position\n",
    "\n",
    "Move right 3 and deal:\n",
    "\n",
    "      3 4 5 6 7 8 9   Your deck\n",
    "0 . . 1 . . 2 . . .   Space on table\n",
    "            ^         Current position\n",
    "\n",
    "Move right 3 and deal:\n",
    "\n",
    "        4 5 6 7 8 9   Your deck\n",
    "0 . . 1 . . 2 . . 3   Space on table\n",
    "                  ^   Current position\n",
    "\n",
    "Move right 3, wrapping around, and deal:\n",
    "\n",
    "          5 6 7 8 9   Your deck\n",
    "0 . 4 1 . . 2 . . 3   Space on table\n",
    "    ^                 Current position\n",
    "\n",
    "And so on:\n",
    "\n",
    "0 7 4 1 8 5 2 9 6 3   Space on table\n",
    "Positions on the table which already contain cards are still counted; they're not skipped. Of course, this technique is carefully designed so it will never put two cards in the same position or leave a position empty.\n",
    "\n",
    "Finally, collect the cards on the table so that the leftmost card ends up at the top of your deck, the card to its right ends up just below the top card, and so on, until the rightmost card ends up at the bottom of the deck.\n",
    "\n",
    "The complete shuffle process (your puzzle input) consists of applying many of these techniques. Here are some examples that combine techniques; they all start with a factory order deck of 10 cards:\n",
    "\n",
    "deal with increment 7\n",
    "deal into new stack\n",
    "deal into new stack\n",
    "Result: 0 3 6 9 2 5 8 1 4 7\n",
    "cut 6\n",
    "deal with increment 7\n",
    "deal into new stack\n",
    "Result: 3 0 7 4 1 8 5 2 9 6\n",
    "deal with increment 7\n",
    "deal with increment 9\n",
    "cut -2\n",
    "Result: 6 3 0 7 4 1 8 5 2 9\n",
    "deal into new stack\n",
    "cut -2\n",
    "deal with increment 7\n",
    "cut 8\n",
    "cut -4\n",
    "deal with increment 7\n",
    "cut 3\n",
    "deal with increment 9\n",
    "deal with increment 3\n",
    "cut -1\n",
    "Result: 9 2 5 8 1 4 7 0 3 6\n",
    "Positions within the deck count from 0 at the top, then 1 for the card immediately below the top card, and so on to the bottom. (That is, cards start in the position matching their number.)\n",
    "\n",
    "After shuffling your factory order deck of 10007 cards, what is the position of card 2019?"
   ]
  },
  {
   "cell_type": "code",
   "execution_count": 1,
   "metadata": {},
   "outputs": [],
   "source": [
    "#test_list = [0,1,2,3,4,5,6,7,8,9]"
   ]
  },
  {
   "cell_type": "code",
   "execution_count": 1,
   "metadata": {},
   "outputs": [],
   "source": [
    "def newstack(inputlist):\n",
    "    newstack_list = []\n",
    "    for i in range (0, len(inputlist)):\n",
    "        newstack_list.append(inputlist[len(inputlist)-1-i])\n",
    "    \n",
    "    return newstack_list\n",
    "\n",
    "\n",
    "def cut(inputlist, number):\n",
    "    cut_first = inputlist[:number]\n",
    "    cut_second = inputlist[number:]\n",
    "    cut_list = cut_second + cut_first\n",
    "    \n",
    "    return cut_list\n",
    "\n",
    "def increment(inputlist, increment):\n",
    "    increment_list = [0]*len(inputlist)\n",
    "    for i in range(len(inputlist)):\n",
    "            increment_list[increment * i % len(increment_list)] = inputlist[i]\n",
    "    return increment_list"
   ]
  },
  {
   "cell_type": "code",
   "execution_count": 2,
   "metadata": {},
   "outputs": [
    {
     "name": "stdout",
     "output_type": "stream",
     "text": [
      "[['deal', 'with', 'increment', '41'], ['cut', '6859'], ['deal', 'with', 'increment', '23'], ['cut', '-4435'], ['deal', 'into', 'new', 'stack'], ['deal', 'with', 'increment', '27'], ['cut', '-337'], ['deal', 'with', 'increment', '50'], ['cut', '5290'], ['deal', 'into', 'new', 'stack'], ['deal', 'with', 'increment', '59'], ['cut', '-9939'], ['deal', 'with', 'increment', '32'], ['cut', '4074'], ['deal', 'with', 'increment', '25'], ['cut', '-2391'], ['deal', 'into', 'new', 'stack'], ['deal', 'with', 'increment', '40'], ['cut', '-8095'], ['deal', 'with', 'increment', '44'], ['cut', '9150'], ['deal', 'with', 'increment', '5'], ['cut', '-5330'], ['deal', 'with', 'increment', '61'], ['cut', '-1038'], ['deal', 'with', 'increment', '3'], ['cut', '2873'], ['deal', 'with', 'increment', '56'], ['cut', '6080'], ['deal', 'with', 'increment', '59'], ['cut', '-6859'], ['deal', 'with', 'increment', '21'], ['cut', '-2316'], ['deal', 'with', 'increment', '42'], ['cut', '-8349'], ['deal', 'with', 'increment', '60'], ['cut', '5774'], ['deal', 'with', 'increment', '63'], ['cut', '-1754'], ['deal', 'with', 'increment', '48'], ['cut', '4009'], ['deal', 'with', 'increment', '10'], ['cut', '-7026'], ['deal', 'with', 'increment', '73'], ['cut', '3867'], ['deal', 'into', 'new', 'stack'], ['cut', '3754'], ['deal', 'with', 'increment', '23'], ['cut', '4222'], ['deal', 'with', 'increment', '23'], ['deal', 'into', 'new', 'stack'], ['cut', '7294'], ['deal', 'into', 'new', 'stack'], ['deal', 'with', 'increment', '13'], ['cut', '-9537'], ['deal', 'with', 'increment', '20'], ['cut', '2910'], ['deal', 'with', 'increment', '30'], ['deal', 'into', 'new', 'stack'], ['cut', '9409'], ['deal', 'with', 'increment', '23'], ['deal', 'into', 'new', 'stack'], ['deal', 'with', 'increment', '32'], ['cut', '6945'], ['deal', 'with', 'increment', '21'], ['deal', 'into', 'new', 'stack'], ['cut', '-3297'], ['deal', 'with', 'increment', '75'], ['cut', '-5300'], ['deal', 'into', 'new', 'stack'], ['deal', 'with', 'increment', '29'], ['cut', '8131'], ['deal', 'with', 'increment', '50'], ['cut', '-8998'], ['deal', 'with', 'increment', '19'], ['cut', '-1983'], ['deal', 'with', 'increment', '13'], ['deal', 'into', 'new', 'stack'], ['cut', '-7555'], ['deal', 'with', 'increment', '62'], ['cut', '5612'], ['deal', 'with', 'increment', '14'], ['cut', '-412'], ['deal', 'with', 'increment', '46'], ['cut', '-7349'], ['deal', 'with', 'increment', '57'], ['cut', '-8783'], ['deal', 'with', 'increment', '33'], ['deal', 'into', 'new', 'stack'], ['deal', 'with', 'increment', '56'], ['cut', '4283'], ['deal', 'into', 'new', 'stack'], ['cut', '8053'], ['deal', 'with', 'increment', '7'], ['cut', '-2776'], ['deal', 'with', 'increment', '66'], ['cut', '-9633'], ['deal', 'with', 'increment', '62'], ['deal', 'into', 'new', 'stack'], ['deal', 'with', 'increment', '12']]\n"
     ]
    }
   ],
   "source": [
    "with open(\"input_star_twentytwo.txt\") as fp:\n",
    "    instructions = fp.read()\n",
    "    instructions = instructions.split('\\n')\n",
    "\n",
    "new_instructions = []\n",
    "for num in instructions:\n",
    "    new_instructions.append(num.split(' '))\n",
    "\n",
    "print(new_instructions)"
   ]
  },
  {
   "cell_type": "code",
   "execution_count": 3,
   "metadata": {},
   "outputs": [
    {
     "data": {
      "text/plain": [
       "'cut'"
      ]
     },
     "execution_count": 3,
     "metadata": {},
     "output_type": "execute_result"
    }
   ],
   "source": [
    "new_instructions[1][0]"
   ]
  },
  {
   "cell_type": "code",
   "execution_count": null,
   "metadata": {},
   "outputs": [],
   "source": []
  },
  {
   "cell_type": "code",
   "execution_count": 20,
   "metadata": {},
   "outputs": [],
   "source": [
    "factory_order = list(range(10007))\n",
    "for technique in new_instructions:\n",
    "    if technique[0] == 'deal' and technique[1] == 'into':\n",
    "        new_order = newstack(factory_order)\n",
    "    if technique[0] == 'deal' and technique[1] == 'with':\n",
    "        new_order = increment(factory_order, int(technique[3]))\n",
    "    if technique[0] == 'cut':\n",
    "        new_order = cut(factory_order, int(technique[1]))\n",
    "    \n",
    "    factory_order = new_order"
   ]
  },
  {
   "cell_type": "code",
   "execution_count": 21,
   "metadata": {},
   "outputs": [
    {
     "name": "stdout",
     "output_type": "stream",
     "text": [
      "8191\n"
     ]
    }
   ],
   "source": [
    "print(factory_order.index(2019))"
   ]
  },
  {
   "cell_type": "markdown",
   "metadata": {},
   "source": [
    "--- Part Two ---\n",
    "After a while, you realize your shuffling skill won't improve much more with merely a single deck of cards. You ask every 3D printer on the ship to make you some more cards while you check on the ship repairs. While reviewing the work the droids have finished so far, you think you see Halley's Comet fly past!\n",
    "\n",
    "When you get back, you discover that the 3D printers have combined their power to create for you a single, giant, brand new, factory order deck of 119315717514047 space cards.\n",
    "\n",
    "Finally, a deck of cards worthy of shuffling!\n",
    "\n",
    "You decide to apply your complete shuffle process (your puzzle input) to the deck 101741582076661 times in a row.\n",
    "\n",
    "You'll need to be careful, though - one wrong move with this many cards and you might overflow your entire ship!\n",
    "\n",
    "After shuffling your new, giant, factory order deck that many times, what number is on the card that ends up in position 2020?"
   ]
  },
  {
   "cell_type": "code",
   "execution_count": 25,
   "metadata": {},
   "outputs": [
    {
     "ename": "MemoryError",
     "evalue": "",
     "output_type": "error",
     "traceback": [
      "\u001b[1;31m---------------------------------------------------------------------------\u001b[0m",
      "\u001b[1;31mMemoryError\u001b[0m                               Traceback (most recent call last)",
      "\u001b[1;32m<ipython-input-25-4ca04bdbf68c>\u001b[0m in \u001b[0;36m<module>\u001b[1;34m\u001b[0m\n\u001b[1;32m----> 1\u001b[1;33m \u001b[0mfactory_order\u001b[0m \u001b[1;33m=\u001b[0m \u001b[0mlist\u001b[0m\u001b[1;33m(\u001b[0m\u001b[0mrange\u001b[0m\u001b[1;33m(\u001b[0m\u001b[1;36m119315717514047\u001b[0m\u001b[1;33m)\u001b[0m\u001b[1;33m)\u001b[0m\u001b[1;33m\u001b[0m\u001b[1;33m\u001b[0m\u001b[0m\n\u001b[0m\u001b[0;32m      2\u001b[0m \u001b[0mnew_instructions_2\u001b[0m \u001b[1;33m=\u001b[0m \u001b[0mnew_instructions\u001b[0m\u001b[1;33m*\u001b[0m\u001b[1;36m101741582076661\u001b[0m\u001b[1;33m\u001b[0m\u001b[1;33m\u001b[0m\u001b[0m\n\u001b[0;32m      3\u001b[0m \u001b[1;32mfor\u001b[0m \u001b[0mtechnique\u001b[0m \u001b[1;32min\u001b[0m \u001b[0mnew_instructions_2\u001b[0m\u001b[1;33m:\u001b[0m\u001b[1;33m\u001b[0m\u001b[1;33m\u001b[0m\u001b[0m\n\u001b[0;32m      4\u001b[0m     \u001b[1;32mif\u001b[0m \u001b[0mtechnique\u001b[0m\u001b[1;33m[\u001b[0m\u001b[1;36m0\u001b[0m\u001b[1;33m]\u001b[0m \u001b[1;33m==\u001b[0m \u001b[1;34m'deal'\u001b[0m \u001b[1;32mand\u001b[0m \u001b[0mtechnique\u001b[0m\u001b[1;33m[\u001b[0m\u001b[1;36m1\u001b[0m\u001b[1;33m]\u001b[0m \u001b[1;33m==\u001b[0m \u001b[1;34m'into'\u001b[0m\u001b[1;33m:\u001b[0m\u001b[1;33m\u001b[0m\u001b[1;33m\u001b[0m\u001b[0m\n\u001b[0;32m      5\u001b[0m         \u001b[0mnew_order\u001b[0m \u001b[1;33m=\u001b[0m \u001b[0mnewstack\u001b[0m\u001b[1;33m(\u001b[0m\u001b[0mfactory_order\u001b[0m\u001b[1;33m)\u001b[0m\u001b[1;33m\u001b[0m\u001b[1;33m\u001b[0m\u001b[0m\n",
      "\u001b[1;31mMemoryError\u001b[0m: "
     ]
    }
   ],
   "source": [
    "factory_order = list(range(119315717514047))\n",
    "new_instructions_2 = new_instructions * 101741582076661\n",
    "for technique in new_instructions_2:\n",
    "    if technique[0] == 'deal' and technique[1] == 'into':\n",
    "        new_order = newstack(factory_order)\n",
    "    if technique[0] == 'deal' and technique[1] == 'with':\n",
    "        new_order = increment(factory_order, int(technique[3]))\n",
    "    if technique[0] == 'cut':\n",
    "        new_order = cut(factory_order, int(technique[1]))\n",
    "    \n",
    "    factory_order = new_order\n",
    "print(factory_order.index(2020))"
   ]
  },
  {
   "cell_type": "code",
   "execution_count": null,
   "metadata": {},
   "outputs": [],
   "source": []
  }
 ],
 "metadata": {
  "kernelspec": {
   "display_name": "Python 3",
   "language": "python",
   "name": "python3"
  },
  "language_info": {
   "codemirror_mode": {
    "name": "ipython",
    "version": 3
   },
   "file_extension": ".py",
   "mimetype": "text/x-python",
   "name": "python",
   "nbconvert_exporter": "python",
   "pygments_lexer": "ipython3",
   "version": "3.7.4"
  }
 },
 "nbformat": 4,
 "nbformat_minor": 2
}
