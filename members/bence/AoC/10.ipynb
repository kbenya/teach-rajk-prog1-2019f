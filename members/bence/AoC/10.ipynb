{
 "cells": [
  {
   "cell_type": "markdown",
   "metadata": {},
   "source": [
    "--- Day 10: Monitoring Station ---\n",
    "You fly into the asteroid belt and reach the Ceres monitoring station. The Elves here have an emergency: they're having trouble tracking all of the asteroids and can't be sure they're safe.\n",
    "\n",
    "The Elves would like to build a new monitoring station in a nearby area of space; they hand you a map of all of the asteroids in that region (your puzzle input).\n",
    "\n",
    "The map indicates whether each position is empty (.) or contains an asteroid (#). The asteroids are much smaller than they appear on the map, and every asteroid is exactly in the center of its marked position. The asteroids can be described with X,Y coordinates where X is the distance from the left edge and Y is the distance from the top edge (so the top-left corner is 0,0 and the position immediately to its right is 1,0).\n",
    "\n",
    "Your job is to figure out which asteroid would be the best place to build a new monitoring station. A monitoring station can detect any asteroid to which it has direct line of sight - that is, there cannot be another asteroid exactly between them. This line of sight can be at any angle, not just lines aligned to the grid or diagonally. The best location is the asteroid that can detect the largest number of other asteroids.\n",
    "\n",
    "For example, consider the following map:\n",
    "\n",
    ".#..#\n",
    ".....\n",
    "#####\n",
    "....#\n",
    "...##\n",
    "The best location for a new monitoring station on this map is the highlighted asteroid at 3,4 because it can detect 8 asteroids, more than any other location. (The only asteroid it cannot detect is the one at 1,0; its view of this asteroid is blocked by the asteroid at 2,2.) All other asteroids are worse locations; they can detect 7 or fewer other asteroids. Here is the number of other asteroids a monitoring station on each asteroid could detect:\n",
    "\n",
    ".7..7\n",
    ".....\n",
    "67775\n",
    "....7\n",
    "...87\n",
    "Here is an asteroid (#) and some examples of the ways its line of sight might be blocked. If there were another asteroid at the location of a capital letter, the locations marked with the corresponding lowercase letter would be blocked and could not be detected:\n",
    "\n",
    "#.........\n",
    "...A......\n",
    "...B..a...\n",
    ".EDCG....a\n",
    "..F.c.b...\n",
    ".....c....\n",
    "..efd.c.gb\n",
    ".......c..\n",
    "....f...c.\n",
    "...e..d..c\n",
    "Here are some larger examples:\n",
    "\n",
    "Best is 5,8 with 33 other asteroids detected:\n",
    "\n",
    "......#.#.\n",
    "#..#.#....\n",
    "..#######.\n",
    ".#.#.###..\n",
    ".#..#.....\n",
    "..#....#.#\n",
    "#..#....#.\n",
    ".##.#..###\n",
    "##...#..#.\n",
    ".#....####\n",
    "Best is 1,2 with 35 other asteroids detected:\n",
    "\n",
    "#.#...#.#.\n",
    ".###....#.\n",
    ".#....#...\n",
    "##.#.#.#.#\n",
    "....#.#.#.\n",
    ".##..###.#\n",
    "..#...##..\n",
    "..##....##\n",
    "......#...\n",
    ".####.###.\n",
    "Best is 6,3 with 41 other asteroids detected:\n",
    "\n",
    ".#..#..###\n",
    "####.###.#\n",
    "....###.#.\n",
    "..###.##.#\n",
    "##.##.#.#.\n",
    "....###..#\n",
    "..#.#..#.#\n",
    "#..#.#.###\n",
    ".##...##.#\n",
    ".....#.#..\n",
    "Best is 11,13 with 210 other asteroids detected:\n",
    "\n",
    ".#..##.###...#######\n",
    "##.############..##.\n",
    ".#.######.########.#\n",
    ".###.#######.####.#.\n",
    "#####.##.#.##.###.##\n",
    "..#####..#.#########\n",
    "####################\n",
    "#.####....###.#.#.##\n",
    "##.#################\n",
    "#####.##.###..####..\n",
    "..######..##.#######\n",
    "####.##.####...##..#\n",
    ".#####..#.######.###\n",
    "##...#.##########...\n",
    "#.##########.#######\n",
    ".####.#.###.###.#.##\n",
    "....##.##.###..#####\n",
    ".#.#.###########.###\n",
    "#.#.#.#####.####.###\n",
    "###.##.####.##.#..##\n",
    "Find the best location for a new monitoring station. How many other asteroids can be detected from that location?"
   ]
  },
  {
   "cell_type": "code",
   "execution_count": 163,
   "metadata": {},
   "outputs": [
    {
     "name": "stdout",
     "output_type": "stream",
     "text": [
      "31\n"
     ]
    }
   ],
   "source": [
    "coordinates = open(\"input_star_ten.txt\").read().split('\\n')\n",
    "print(len(coordinates))\n",
    "coordinates\n",
    "\n",
    "maps = []\n",
    "\n",
    "for elem in coordinates:\n",
    "    line_sep = []\n",
    "    for karakter in elem:\n",
    "        line_sep.append(karakter)\n",
    "    maps.append(line_sep)"
   ]
  },
  {
   "cell_type": "code",
   "execution_count": 164,
   "metadata": {},
   "outputs": [],
   "source": [
    "asteroids_coordinates = []\n",
    "for row in range(0, len(coordinates)):\n",
    "    for column in range(0,len(coordinates[row])):\n",
    "        asteroids_coordinates.append((row, column, coordinates[row][column]))\n",
    "        #asteroids_coordinates.append((row, column))"
   ]
  },
  {
   "cell_type": "code",
   "execution_count": 165,
   "metadata": {},
   "outputs": [
    {
     "name": "stdout",
     "output_type": "stream",
     "text": [
      "[[0, 0, '#'], [0, 1, '.'], [0, 2, '.'], [0, 3, '.'], [0, 4, '#'], [0, 5, '#'], [0, 6, '.'], [0, 7, '#'], [0, 8, '#'], [0, 9, '#'], [0, 10, '#'], [0, 11, '.'], [0, 12, '#'], [0, 13, '.'], [0, 14, '.'], [0, 15, '.'], [0, 16, '.'], [0, 17, '.'], [0, 18, '.'], [0, 19, '.'], [0, 20, '#'], [0, 21, '.'], [0, 22, '#'], [0, 23, '#'], [0, 24, '.'], [0, 25, '.'], [0, 26, '#'], [0, 27, '#'], [0, 28, '.'], [0, 29, '#'], [0, 30, '.']]\n"
     ]
    }
   ],
   "source": [
    "asteroids_list = []\n",
    "for tuples in asteroids_coordinates:\n",
    "        asteroids_list.append(list(tuples))\n",
    "print(asteroids_list[:31])"
   ]
  },
  {
   "cell_type": "code",
   "execution_count": 166,
   "metadata": {},
   "outputs": [
    {
     "name": "stdout",
     "output_type": "stream",
     "text": [
      "360\n",
      "[[0, 0, '#'], [0, 4, '#'], [0, 5, '#'], [0, 7, '#'], [0, 8, '#'], [0, 9, '#'], [0, 10, '#'], [0, 12, '#'], [0, 20, '#'], [0, 22, '#'], [0, 23, '#'], [0, 26, '#'], [0, 27, '#'], [0, 29, '#'], [1, 0, '#'], [1, 2, '#'], [1, 3, '#'], [1, 5, '#'], [1, 8, '#'], [1, 11, '#'], [1, 15, '#'], [1, 16, '#'], [1, 19, '#'], [1, 20, '#'], [1, 22, '#'], [1, 23, '#'], [1, 25, '#'], [2, 0, '#'], [2, 3, '#'], [2, 4, '#'], [2, 5, '#'], [2, 6, '#'], [2, 7, '#'], [2, 9, '#'], [2, 16, '#'], [2, 19, '#'], [2, 24, '#'], [2, 26, '#'], [2, 27, '#'], [2, 28, '#'], [2, 30, '#'], [3, 3, '#'], [3, 5, '#'], [3, 7, '#'], [3, 11, '#'], [3, 14, '#'], [3, 20, '#'], [3, 23, '#'], [3, 26, '#'], [3, 28, '#'], [4, 1, '#'], [4, 7, '#'], [4, 8, '#'], [4, 11, '#'], [4, 15, '#'], [4, 18, '#'], [4, 20, '#'], [4, 24, '#'], [4, 25, '#'], [5, 0, '#'], [5, 1, '#'], [5, 7, '#'], [5, 18, '#'], [5, 19, '#'], [5, 22, '#'], [5, 29, '#'], [5, 30, '#'], [6, 1, '#'], [6, 2, '#'], [6, 5, '#'], [6, 6, '#'], [6, 8, '#'], [6, 10, '#'], [6, 15, '#'], [6, 16, '#'], [6, 19, '#'], [6, 20, '#'], [6, 28, '#'], [7, 0, '#'], [7, 2, '#'], [7, 3, '#'], [7, 5, '#'], [7, 6, '#'], [7, 11, '#'], [7, 12, '#'], [7, 13, '#'], [7, 16, '#'], [7, 20, '#'], [7, 21, '#'], [7, 25, '#'], [7, 26, '#'], [8, 0, '#'], [8, 1, '#'], [8, 3, '#'], [8, 5, '#'], [8, 18, '#'], [8, 19, '#'], [8, 22, '#'], [8, 26, '#'], [8, 27, '#'], [8, 30, '#'], [9, 0, '#'], [9, 1, '#'], [9, 2, '#'], [9, 5, '#'], [9, 6, '#'], [9, 8, '#'], [9, 9, '#'], [9, 10, '#'], [9, 16, '#'], [9, 18, '#'], [9, 19, '#'], [9, 23, '#'], [9, 24, '#'], [9, 25, '#'], [9, 26, '#'], [10, 3, '#'], [10, 4, '#'], [10, 7, '#'], [10, 11, '#'], [10, 12, '#'], [10, 16, '#'], [10, 17, '#'], [10, 20, '#'], [10, 22, '#'], [10, 25, '#'], [10, 29, '#'], [11, 2, '#'], [11, 4, '#'], [11, 6, '#'], [11, 7, '#'], [11, 9, '#'], [11, 11, '#'], [11, 13, '#'], [11, 14, '#'], [11, 15, '#'], [11, 16, '#'], [11, 17, '#'], [11, 19, '#'], [11, 24, '#'], [11, 25, '#'], [11, 26, '#'], [11, 27, '#'], [11, 29, '#'], [12, 0, '#'], [12, 7, '#'], [12, 8, '#'], [12, 9, '#'], [12, 11, '#'], [12, 12, '#'], [12, 17, '#'], [12, 21, '#'], [12, 25, '#'], [12, 29, '#'], [12, 30, '#'], [13, 5, '#'], [13, 9, '#'], [13, 11, '#'], [13, 13, '#'], [13, 15, '#'], [13, 20, '#'], [13, 24, '#'], [14, 0, '#'], [14, 3, '#'], [14, 5, '#'], [14, 7, '#'], [14, 10, '#'], [14, 15, '#'], [14, 18, '#'], [14, 22, '#'], [14, 25, '#'], [14, 28, '#'], [14, 29, '#'], [15, 0, '#'], [15, 6, '#'], [15, 9, '#'], [15, 10, '#'], [15, 16, '#'], [15, 20, '#'], [15, 21, '#'], [15, 22, '#'], [15, 25, '#'], [15, 28, '#'], [15, 30, '#'], [16, 5, '#'], [16, 6, '#'], [16, 7, '#'], [16, 8, '#'], [16, 10, '#'], [16, 13, '#'], [16, 17, '#'], [16, 18, '#'], [16, 21, '#'], [16, 24, '#'], [16, 27, '#'], [16, 30, '#'], [17, 2, '#'], [17, 8, '#'], [17, 10, '#'], [17, 19, '#'], [17, 21, '#'], [17, 23, '#'], [17, 24, '#'], [17, 27, '#'], [17, 28, '#'], [17, 29, '#'], [17, 30, '#'], [18, 1, '#'], [18, 7, '#'], [18, 8, '#'], [18, 11, '#'], [18, 13, '#'], [18, 14, '#'], [18, 20, '#'], [18, 24, '#'], [18, 25, '#'], [18, 26, '#'], [19, 0, '#'], [19, 1, '#'], [19, 2, '#'], [19, 4, '#'], [19, 5, '#'], [19, 6, '#'], [19, 11, '#'], [19, 14, '#'], [19, 17, '#'], [19, 23, '#'], [19, 24, '#'], [19, 25, '#'], [19, 26, '#'], [19, 27, '#'], [20, 0, '#'], [20, 3, '#'], [20, 4, '#'], [20, 6, '#'], [20, 7, '#'], [20, 10, '#'], [20, 11, '#'], [20, 13, '#'], [20, 15, '#'], [20, 20, '#'], [20, 22, '#'], [20, 29, '#'], [21, 1, '#'], [21, 6, '#'], [21, 8, '#'], [21, 9, '#'], [21, 12, '#'], [21, 14, '#'], [21, 16, '#'], [21, 24, '#'], [21, 25, '#'], [22, 0, '#'], [22, 1, '#'], [22, 3, '#'], [22, 4, '#'], [22, 8, '#'], [22, 12, '#'], [22, 17, '#'], [22, 18, '#'], [22, 19, '#'], [22, 21, '#'], [22, 26, '#'], [23, 5, '#'], [23, 7, '#'], [23, 8, '#'], [23, 9, '#'], [23, 10, '#'], [23, 11, '#'], [23, 12, '#'], [23, 14, '#'], [23, 16, '#'], [23, 19, '#'], [23, 22, '#'], [23, 24, '#'], [23, 30, '#'], [24, 1, '#'], [24, 4, '#'], [24, 6, '#'], [24, 7, '#'], [24, 9, '#'], [24, 14, '#'], [24, 16, '#'], [24, 17, '#'], [24, 20, '#'], [24, 22, '#'], [24, 26, '#'], [24, 27, '#'], [24, 30, '#'], [25, 1, '#'], [25, 2, '#'], [25, 4, '#'], [25, 5, '#'], [25, 6, '#'], [25, 9, '#'], [25, 12, '#'], [25, 15, '#'], [25, 17, '#'], [25, 18, '#'], [25, 19, '#'], [25, 23, '#'], [25, 24, '#'], [25, 25, '#'], [25, 26, '#'], [25, 27, '#'], [25, 29, '#'], [26, 0, '#'], [26, 4, '#'], [26, 16, '#'], [26, 22, '#'], [26, 30, '#'], [27, 0, '#'], [27, 5, '#'], [27, 6, '#'], [27, 8, '#'], [27, 10, '#'], [27, 13, '#'], [27, 14, '#'], [27, 18, '#'], [27, 21, '#'], [27, 22, '#'], [27, 23, '#'], [27, 24, '#'], [27, 28, '#'], [28, 0, '#'], [28, 2, '#'], [28, 3, '#'], [28, 4, '#'], [28, 5, '#'], [28, 12, '#'], [28, 13, '#'], [28, 14, '#'], [28, 15, '#'], [28, 16, '#'], [28, 22, '#'], [28, 24, '#'], [28, 25, '#'], [28, 28, '#'], [29, 1, '#'], [29, 5, '#'], [29, 10, '#'], [29, 14, '#'], [29, 15, '#'], [29, 18, '#'], [29, 19, '#'], [29, 21, '#'], [29, 23, '#'], [29, 30, '#'], [30, 0, '#'], [30, 3, '#'], [30, 4, '#'], [30, 5, '#'], [30, 11, '#'], [30, 12, '#'], [30, 14, '#'], [30, 22, '#'], [30, 24, '#'], [30, 25, '#'], [30, 29, '#'], [30, 30, '#']]\n"
     ]
    }
   ],
   "source": [
    "kettoskeresztek_koordinatai = []\n",
    "for kislista in asteroids_list:\n",
    "    if kislista[2] == '#':\n",
    "        kettoskeresztek_koordinatai.append(kislista)\n",
    "print(len(kettoskeresztek_koordinatai))\n",
    "print(kettoskeresztek_koordinatai)"
   ]
  },
  {
   "cell_type": "code",
   "execution_count": 167,
   "metadata": {},
   "outputs": [
    {
     "data": {
      "text/plain": [
       "288"
      ]
     },
     "execution_count": 167,
     "metadata": {},
     "output_type": "execute_result"
    }
   ],
   "source": [
    "asteroids_counter = []  \n",
    "\n",
    "for i in kettoskeresztek_koordinatai:\n",
    "    A = i[0]\n",
    "    B = i[1]\n",
    "    meredekseg_lista = []\n",
    "\n",
    "    for aszteroida in kettoskeresztek_koordinatai:\n",
    "            meredekseg_lista.append([(aszteroida[0]-A), (aszteroida[1]-B)])\n",
    "\n",
    "    pozitiv_pozitiv = []\n",
    "    pozitiv_negativ = []\n",
    "    negativ_negativ = []\n",
    "    negativ_pozitiv = []\n",
    "\n",
    "    nullas = []\n",
    "\n",
    "    for num in meredekseg_lista:\n",
    "        if num[0] > 0 and num[1] > 0: \n",
    "            pozitiv_pozitiv.append(num)\n",
    "        elif num[0] > 0 and num[1] < 0: \n",
    "            pozitiv_negativ.append(num)\n",
    "        elif num[0] < 0 and num[1] < 0: \n",
    "            negativ_negativ.append(num)\n",
    "        elif num[0] < 0 and num[1] > 0: \n",
    "            negativ_pozitiv.append(num)\n",
    "        elif num[0] == 0 or num[1] == 0: \n",
    "            nullas.append(num)\n",
    "\n",
    "    nulla_pozitiv = []\n",
    "    pozitiv_nulla = []\n",
    "    nulla_negativ = []\n",
    "    negativ_nulla = []\n",
    "\n",
    "    for num in nullas:\n",
    "        if num[0] == 0 and num[1] > 0: \n",
    "            nulla_pozitiv.append(num)\n",
    "        elif num[0] > 0 and num[1] == 0: \n",
    "            pozitiv_nulla.append(num)\n",
    "        elif num[0] < 0 and num[1] == 0: \n",
    "            negativ_nulla.append(num)\n",
    "        elif num[0] == 0 and num[1] < 0: \n",
    "            nulla_negativ.append(num)\n",
    "\n",
    "\n",
    "    nullaslist = [nulla_pozitiv, pozitiv_nulla, nulla_negativ, negativ_nulla]\n",
    "    counter = 0\n",
    "\n",
    "    for lists in nullaslist:\n",
    "        if lists != []:\n",
    "            counter += 1\n",
    "\n",
    "    eredmeny_lista = [pozitiv_pozitiv, pozitiv_negativ, negativ_negativ, negativ_pozitiv]\n",
    "    solution = []\n",
    "    for lists in eredmeny_lista:\n",
    "        reszeredmeny = []\n",
    "        for tavolsag in lists:\n",
    "            reszeredmeny.append((tavolsag[0])/(tavolsag[1]))   \n",
    "        valami = len(set(reszeredmeny))\n",
    "        solution.append(valami)\n",
    "        \n",
    "        #laser_asteroids = []\n",
    "        #if sum(solution) == 284:\n",
    "         #   print(A)\n",
    "          #  print(B)\n",
    "           # print(solution[0])\n",
    "            #print(solution[1])\n",
    "            #print(solution[2])\n",
    "            #print(solution[3])\n",
    "            #print(negativ_negativ)\n",
    "    asteroids_counter.append(solution[0]+solution[1]+solution[2]+solution[3]+counter)\n",
    "    \n",
    "max(asteroids_counter)"
   ]
  },
  {
   "cell_type": "markdown",
   "metadata": {},
   "source": [
    "--- Part Two ---\n",
    "Once you give them the coordinates, the Elves quickly deploy an Instant Monitoring Station to the location and discover the worst: there are simply too many asteroids.\n",
    "\n",
    "The only solution is complete vaporization by giant laser.\n",
    "\n",
    "Fortunately, in addition to an asteroid scanner, the new monitoring station also comes equipped with a giant rotating laser perfect for vaporizing asteroids. The laser starts by pointing up and always rotates clockwise, vaporizing any asteroid it hits.\n",
    "\n",
    "If multiple asteroids are exactly in line with the station, the laser only has enough power to vaporize one of them before continuing its rotation. In other words, the same asteroids that can be detected can be vaporized, but if vaporizing one asteroid makes another one detectable, the newly-detected asteroid won't be vaporized until the laser has returned to the same position by rotating a full 360 degrees.\n",
    "\n",
    "For example, consider the following map, where the asteroid with the new monitoring station (and laser) is marked X:\n",
    "\n",
    ".#....#####...#..\n",
    "##...##.#####..##\n",
    "##...#...#.#####.\n",
    "..#.....X...###..\n",
    "..#.#.....#....##\n",
    "The first nine asteroids to get vaporized, in order, would be:\n",
    "\n",
    ".#....###24...#..\n",
    "##...##.13#67..9#\n",
    "##...#...5.8####.\n",
    "..#.....X...###..\n",
    "..#.#.....#....##\n",
    "Note that some asteroids (the ones behind the asteroids marked 1, 5, and 7) won't have a chance to be vaporized until the next full rotation. The laser continues rotating; the next nine to be vaporized are:\n",
    "\n",
    ".#....###.....#..\n",
    "##...##...#.....#\n",
    "##...#......1234.\n",
    "..#.....X...5##..\n",
    "..#.9.....8....76\n",
    "The next nine to be vaporized are then:\n",
    "\n",
    ".8....###.....#..\n",
    "56...9#...#.....#\n",
    "34...7...........\n",
    "..2.....X....##..\n",
    "..1..............\n",
    "Finally, the laser completes its first full rotation (1 through 3), a second rotation (4 through 8), and vaporizes the last asteroid (9) partway through its third rotation:\n",
    "\n",
    "......234.....6..\n",
    "......1...5.....7\n",
    ".................\n",
    "........X....89..\n",
    ".................\n",
    "In the large example above (the one with the best monitoring station location at 11,13):\n",
    "\n",
    "The 1st asteroid to be vaporized is at 11,12.\n",
    "The 2nd asteroid to be vaporized is at 12,1.\n",
    "The 3rd asteroid to be vaporized is at 12,2.\n",
    "The 10th asteroid to be vaporized is at 12,8.\n",
    "The 20th asteroid to be vaporized is at 16,0.\n",
    "The 50th asteroid to be vaporized is at 16,9.\n",
    "The 100th asteroid to be vaporized is at 10,16.\n",
    "The 199th asteroid to be vaporized is at 9,6.\n",
    "The 200th asteroid to be vaporized is at 8,2.\n",
    "The 201st asteroid to be vaporized is at 10,9.\n",
    "The 299th and final asteroid to be vaporized is at 11,1.\n",
    "The Elves are placing bets on which will be the 200th asteroid to be vaporized. Win the bet by determining which asteroid that will be; what do you get if you multiply its X coordinate by 100 and then add its Y coordinate? (For example, 8,2 becomes 802.)"
   ]
  },
  {
   "cell_type": "code",
   "execution_count": null,
   "metadata": {},
   "outputs": [],
   "source": [
    "laser_asteroids = [[-22, -17], [-22, -13], [-22, -12], [-22, -10], [-22, -9], [-22, -8], [-22, -7], [-22, -5], [-21, -17], [-21, -15], [-21, -14], [-21, -12], [-21, -9], [-21, -6], [-21, -2], [-21, -1], [-20, -17], [-20, -14], [-20, -13], [-20, -12], [-20, -11], [-20, -10], [-20, -8], [-20, -1], [-19, -14], [-19, -12], [-19, -10], [-19, -6], [-19, -3], [-18, -16], [-18, -10], [-18, -9], [-18, -6], [-18, -2], [-17, -17], [-17, -16], [-17, -10], [-16, -16], [-16, -15], [-16, -12], [-16, -11], [-16, -9], [-16, -7], [-16, -2], [-16, -1], [-15, -17], [-15, -15], [-15, -14], [-15, -12], [-15, -11], [-15, -6], [-15, -5], [-15, -4], [-15, -1], [-14, -17], [-14, -16], [-14, -14], [-14, -12], [-13, -17], [-13, -16], [-13, -15], [-13, -12], [-13, -11], [-13, -9], [-13, -8], [-13, -7], [-13, -1], [-12, -14], [-12, -13], [-12, -10], [-12, -6], [-12, -5], [-12, -1], [-11, -15], [-11, -13], [-11, -11], [-11, -10], [-11, -8], [-11, -6], [-11, -4], [-11, -3], [-11, -2], [-11, -1], [-10, -17], [-10, -10], [-10, -9], [-10, -8], [-10, -6], [-10, -5], [-9, -12], [-9, -8], [-9, -6], [-9, -4], [-9, -2], [-8, -17], [-8, -14], [-8, -12], [-8, -10], [-8, -7], [-8, -2], [-7, -17], [-7, -11], [-7, -8], [-7, -7], [-7, -1], [-6, -12], [-6, -11], [-6, -10], [-6, -9], [-6, -7], [-6, -4], [-5, -15], [-5, -9], [-5, -7], [-4, -16], [-4, -10], [-4, -9], [-4, -6], [-4, -4], [-4, -3], [-3, -17], [-3, -16], [-3, -15], [-3, -13], [-3, -12], [-3, -11], [-3, -6], [-3, -3], [-2, -17], [-2, -14], [-2, -13], [-2, -11], [-2, -10], [-2, -7], [-2, -6], [-2, -4], [-2, -2], [-1, -16], [-1, -11], [-1, -9], [-1, -8], [-1, -5], [-1, -3], [-1, -1]]"
   ]
  },
  {
   "cell_type": "code",
   "execution_count": null,
   "metadata": {},
   "outputs": [],
   "source": [
    "meredekseg_solution2 = []\n",
    "for i in range (0, len(laser_asteroids)):\n",
    "        meredekseg_solution2.append(laser_asteroids[i][0]/laser_asteroids[i][1])\n",
    "        if laser_asteroids[i][0]/laser_asteroids[i][1] == 3:\n",
    "            print(laser_asteroids[i])"
   ]
  },
  {
   "cell_type": "code",
   "execution_count": null,
   "metadata": {},
   "outputs": [],
   "source": [
    "meredekseg_solution2.sort(reverse=True)"
   ]
  },
  {
   "cell_type": "code",
   "execution_count": null,
   "metadata": {},
   "outputs": [],
   "source": [
    "meredekseg_solution2"
   ]
  },
  {
   "cell_type": "code",
   "execution_count": null,
   "metadata": {},
   "outputs": [],
   "source": []
  },
  {
   "cell_type": "code",
   "execution_count": null,
   "metadata": {},
   "outputs": [],
   "source": []
  }
 ],
 "metadata": {
  "kernelspec": {
   "display_name": "Python 3",
   "language": "python",
   "name": "python3"
  },
  "language_info": {
   "codemirror_mode": {
    "name": "ipython",
    "version": 3
   },
   "file_extension": ".py",
   "mimetype": "text/x-python",
   "name": "python",
   "nbconvert_exporter": "python",
   "pygments_lexer": "ipython3",
   "version": "3.7.4"
  }
 },
 "nbformat": 4,
 "nbformat_minor": 2
}
