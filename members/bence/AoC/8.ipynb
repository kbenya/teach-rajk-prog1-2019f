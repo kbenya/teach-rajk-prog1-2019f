{
 "cells": [
  {
   "cell_type": "markdown",
   "metadata": {},
   "source": [
    "--- Day 8: Space Image Format ---\n",
    "The Elves' spirits are lifted when they realize you have an opportunity to reboot one of their Mars rovers, and so they are curious if you would spend a brief sojourn on Mars. You land your ship near the rover.\n",
    "\n",
    "When you reach the rover, you discover that it's already in the process of rebooting! It's just waiting for someone to enter a BIOS password. The Elf responsible for the rover takes a picture of the password (your puzzle input) and sends it to you via the Digital Sending Network.\n",
    "\n",
    "Unfortunately, images sent via the Digital Sending Network aren't encoded with any normal encoding; instead, they're encoded in a special Space Image Format. None of the Elves seem to remember why this is the case. They send you the instructions to decode it.\n",
    "\n",
    "Images are sent as a series of digits that each represent the color of a single pixel. The digits fill each row of the image left-to-right, then move downward to the next row, filling rows top-to-bottom until every pixel of the image is filled.\n",
    "\n",
    "Each image actually consists of a series of identically-sized layers that are filled in this way. So, the first digit corresponds to the top-left pixel of the first layer, the second digit corresponds to the pixel to the right of that on the same layer, and so on until the last digit, which corresponds to the bottom-right pixel of the last layer.\n",
    "\n",
    "For example, given an image 3 pixels wide and 2 pixels tall, the image data 123456789012 corresponds to the following image layers:\n",
    "\n",
    "Layer 1: 123\n",
    "         456\n",
    "\n",
    "Layer 2: 789\n",
    "         012\n",
    "The image you received is 25 pixels wide and 6 pixels tall.\n",
    "\n",
    "To make sure the image wasn't corrupted during transmission, the Elves would like you to find the layer that contains the fewest 0 digits. On that layer, what is the number of 1 digits multiplied by the number of 2 digits?"
   ]
  },
  {
   "cell_type": "code",
   "execution_count": 1,
   "metadata": {},
   "outputs": [],
   "source": [
    "with open(\"input_star_eight.txt\") as fp:\n",
    "    pixels = fp.read()\n",
    "    pixels_final = pixels.split('\\n')\n",
    "    str_pixels_final = pixels_final[0]"
   ]
  },
  {
   "cell_type": "code",
   "execution_count": 2,
   "metadata": {},
   "outputs": [],
   "source": [
    "new_list = [str_pixels_final[x:x+150] for x in range (0, len(str_pixels_final),150)]"
   ]
  },
  {
   "cell_type": "code",
   "execution_count": 3,
   "metadata": {},
   "outputs": [
    {
     "data": {
      "text/plain": [
       "100"
      ]
     },
     "execution_count": 3,
     "metadata": {},
     "output_type": "execute_result"
    }
   ],
   "source": [
    "len(new_list)"
   ]
  },
  {
   "cell_type": "code",
   "execution_count": 4,
   "metadata": {},
   "outputs": [],
   "source": [
    "from collections import Counter"
   ]
  },
  {
   "cell_type": "code",
   "execution_count": 5,
   "metadata": {},
   "outputs": [
    {
     "data": {
      "text/plain": [
       "7"
      ]
     },
     "execution_count": 5,
     "metadata": {},
     "output_type": "execute_result"
    }
   ],
   "source": [
    "solution = []\n",
    "for i in range (0, len(new_list)):\n",
    "    solution.append(Counter(new_list[i])['0'])\n",
    "\n",
    "solution.index(min(solution))"
   ]
  },
  {
   "cell_type": "code",
   "execution_count": 6,
   "metadata": {},
   "outputs": [],
   "source": [
    "szam = Counter(new_list[7])['1'] * Counter(new_list[7])['2']"
   ]
  },
  {
   "cell_type": "code",
   "execution_count": 7,
   "metadata": {},
   "outputs": [
    {
     "data": {
      "text/plain": [
       "1950"
      ]
     },
     "execution_count": 7,
     "metadata": {},
     "output_type": "execute_result"
    }
   ],
   "source": [
    "szam\n"
   ]
  },
  {
   "cell_type": "markdown",
   "metadata": {},
   "source": [
    "--- Part Two ---\n",
    "Now you're ready to decode the image. The image is rendered by stacking the layers and aligning the pixels with the same positions in each layer. The digits indicate the color of the corresponding pixel: 0 is black, 1 is white, and 2 is transparent.\n",
    "\n",
    "The layers are rendered with the first layer in front and the last layer in back. So, if a given position has a transparent pixel in the first and second layers, a black pixel in the third layer, and a white pixel in the fourth layer, the final image would have a black pixel at that position.\n",
    "\n",
    "For example, given an image 2 pixels wide and 2 pixels tall, the image data 0222112222120000 corresponds to the following image layers:\n",
    "\n",
    "Layer 1: 02\n",
    "         22\n",
    "\n",
    "Layer 2: 11\n",
    "         22\n",
    "\n",
    "Layer 3: 22\n",
    "         12\n",
    "\n",
    "Layer 4: 00\n",
    "         00\n",
    "Then, the full image can be found by determining the top visible pixel in each position:\n",
    "\n",
    "The top-left pixel is black because the top layer is 0.\n",
    "The top-right pixel is white because the top layer is 2 (transparent), but the second layer is 1.\n",
    "The bottom-left pixel is white because the top two layers are 2, but the third layer is 1.\n",
    "The bottom-right pixel is black because the only visible pixel in that position is 0 (from layer 4).\n",
    "So, the final image looks like this:\n",
    "\n",
    "01\n",
    "10\n",
    "What message is produced after decoding your image?"
   ]
  },
  {
   "cell_type": "code",
   "execution_count": 30,
   "metadata": {},
   "outputs": [],
   "source": [
    "with open(\"input_star_eight.txt\") as fp:\n",
    "    pixels2 = fp.read()\n",
    "    pixels_final2 = pixels2.split('\\n')\n",
    "    str_pixels_final2 = pixels_final2[0]"
   ]
  },
  {
   "cell_type": "code",
   "execution_count": 63,
   "metadata": {},
   "outputs": [],
   "source": [
    "layer_list = [str_pixels_final2[x:x+150] for x in range (0, len(str_pixels_final2),150)]"
   ]
  },
  {
   "cell_type": "code",
   "execution_count": 76,
   "metadata": {},
   "outputs": [],
   "source": [
    "pixels = []\n",
    "\n",
    "for character in range(len(layer_list[0])):\n",
    "    for layer in layer_list:\n",
    "        pixels.append(layer[character])\n",
    "\n",
    "str_pixels = ''\n",
    "for num in pixels:\n",
    "    str_pixels = str_pixels + str(num)\n",
    "\n",
    "pixels_new = [str_pixels[x:x+100] for x in range (0, len(str_pixels),100)]\n",
    "\n",
    "layers_list_final = []\n",
    "for num in pixels_new:\n",
    "    layers_list_final.append(num.replace('2',''))\n",
    "\n",
    "picture = []\n",
    "for num in layers_list_final:\n",
    "    picture.append(num[0])"
   ]
  },
  {
   "cell_type": "code",
   "execution_count": 113,
   "metadata": {},
   "outputs": [
    {
     "name": "stdout",
     "output_type": "stream",
     "text": [
      "['1', '1', '1', '1', '0', '1', '0', '0', '1', '0', '0', '1', '1', '0', '0', '1', '0', '0', '1', '0', '1', '0', '0', '0', '0']\n",
      "['1', '0', '0', '0', '0', '1', '0', '1', '0', '0', '1', '0', '0', '1', '0', '1', '0', '0', '1', '0', '1', '0', '0', '0', '0']\n",
      "['1', '1', '1', '0', '0', '1', '1', '0', '0', '0', '1', '0', '0', '1', '0', '1', '1', '1', '1', '0', '1', '0', '0', '0', '0']\n",
      "['1', '0', '0', '0', '0', '1', '0', '1', '0', '0', '1', '1', '1', '1', '0', '1', '0', '0', '1', '0', '1', '0', '0', '0', '0']\n",
      "['1', '0', '0', '0', '0', '1', '0', '1', '0', '0', '1', '0', '0', '1', '0', '1', '0', '0', '1', '0', '1', '0', '0', '0', '0']\n",
      "['1', '0', '0', '0', '0', '1', '0', '0', '1', '0', '1', '0', '0', '1', '0', '1', '0', '0', '1', '0', '1', '1', '1', '1', '0']\n"
     ]
    }
   ],
   "source": [
    "print(picture[:25])\n",
    "print(picture[25:50])\n",
    "print(picture[50:75])\n",
    "print(picture[75:100])\n",
    "print(picture[100:125])\n",
    "print(picture[125:150])"
   ]
  },
  {
   "cell_type": "code",
   "execution_count": null,
   "metadata": {},
   "outputs": [],
   "source": []
  },
  {
   "cell_type": "code",
   "execution_count": null,
   "metadata": {},
   "outputs": [],
   "source": []
  }
 ],
 "metadata": {
  "kernelspec": {
   "display_name": "Python 3",
   "language": "python",
   "name": "python3"
  },
  "language_info": {
   "codemirror_mode": {
    "name": "ipython",
    "version": 3
   },
   "file_extension": ".py",
   "mimetype": "text/x-python",
   "name": "python",
   "nbconvert_exporter": "python",
   "pygments_lexer": "ipython3",
   "version": "3.7.4"
  }
 },
 "nbformat": 4,
 "nbformat_minor": 2
}
