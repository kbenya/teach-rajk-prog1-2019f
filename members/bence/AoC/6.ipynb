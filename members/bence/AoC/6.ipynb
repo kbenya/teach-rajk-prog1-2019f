{
 "cells": [
  {
   "cell_type": "markdown",
   "metadata": {},
   "source": [
    "You've landed at the Universal Orbit Map facility on Mercury. Because navigation in space often involves transferring between orbits, the orbit maps here are useful for finding efficient routes between, for example, you and Santa. You download a map of the local orbits (your puzzle input).\n",
    "\n",
    "Except for the universal Center of Mass (COM), every object in space is in orbit around exactly one other object. An orbit looks roughly like this:\n",
    "\n",
    "                  \\\n",
    "                   \\\n",
    "                    |\n",
    "                    |\n",
    "AAA--> o            o <--BBB\n",
    "                    |\n",
    "                    |\n",
    "                   /\n",
    "                  /\n",
    "In this diagram, the object BBB is in orbit around AAA. The path that BBB takes around AAA (drawn with lines) is only partly shown. In the map data, this orbital relationship is written AAA)BBB, which means \"BBB is in orbit around AAA\".\n",
    "\n",
    "Before you use your map data to plot a course, you need to make sure it wasn't corrupted during the download. To verify maps, the Universal Orbit Map facility uses orbit count checksums - the total number of direct orbits (like the one shown above) and indirect orbits.\n",
    "\n",
    "Whenever A orbits B and B orbits C, then A indirectly orbits C. This chain can be any number of objects long: if A orbits B, B orbits C, and C orbits D, then A indirectly orbits D.\n",
    "\n",
    "For example, suppose you have the following map:\n",
    "\n",
    "COM)B\n",
    "B)C\n",
    "C)D\n",
    "D)E\n",
    "E)F\n",
    "B)G\n",
    "G)H\n",
    "D)I\n",
    "E)J\n",
    "J)K\n",
    "K)L\n",
    "Visually, the above map of orbits looks like this:\n",
    "\n",
    "        G - H       J - K - L\n",
    "       /           /\n",
    "COM - B - C - D - E - F\n",
    "               \\\n",
    "                I\n",
    "In this visual representation, when two objects are connected by a line, the one on the right directly orbits the one on the left.\n",
    "\n",
    "Here, we can count the total number of orbits as follows:\n",
    "\n",
    "D directly orbits C and indirectly orbits B and COM, a total of 3 orbits.\n",
    "L directly orbits K and indirectly orbits J, E, D, C, B, and COM, a total of 7 orbits.\n",
    "COM orbits nothing.\n",
    "The total number of direct and indirect orbits in this example is 42.\n",
    "\n",
    "What is the total number of direct and indirect orbits in your map data?"
   ]
  },
  {
   "cell_type": "code",
   "execution_count": 16,
   "metadata": {},
   "outputs": [],
   "source": [
    "with open(\"input_star_six.txt\") as fp:\n",
    "    orbits = fp.read()\n",
    "    orbit_list = orbits.replace('\\n', '.')\n",
    "    orbit_list = orbit_list.replace(')', '.')\n",
    "    orbit_list = orbit_list.split('.')"
   ]
  },
  {
   "cell_type": "code",
   "execution_count": 23,
   "metadata": {},
   "outputs": [],
   "source": [
    "final_list = [orbit_list[x:x+2] for x in range (0, len(orbit_list),2)]\n",
    "first_list = [final_list[x][0] for x in range (0, len(final_list))]\n",
    "second_list = [final_list[x][1] for x in range (0, len(final_list))]"
   ]
  },
  {
   "cell_type": "code",
   "execution_count": 87,
   "metadata": {},
   "outputs": [
    {
     "name": "stdout",
     "output_type": "stream",
     "text": [
      "646\n"
     ]
    }
   ],
   "source": [
    "print(first_list.index('COM'))"
   ]
  },
  {
   "cell_type": "code",
   "execution_count": 48,
   "metadata": {},
   "outputs": [
    {
     "data": {
      "text/plain": [
       "['COM', '7J9']"
      ]
     },
     "execution_count": 48,
     "metadata": {},
     "output_type": "execute_result"
    }
   ],
   "source": [
    "final_list[646]"
   ]
  },
  {
   "cell_type": "code",
   "execution_count": 124,
   "metadata": {},
   "outputs": [
    {
     "data": {
      "text/plain": [
       "1605"
      ]
     },
     "execution_count": 124,
     "metadata": {},
     "output_type": "execute_result"
    }
   ],
   "source": [
    "len(set(orbit_list))"
   ]
  },
  {
   "cell_type": "code",
   "execution_count": 163,
   "metadata": {},
   "outputs": [
    {
     "data": {
      "text/plain": [
       "278744"
      ]
     },
     "execution_count": 163,
     "metadata": {},
     "output_type": "execute_result"
    }
   ],
   "source": [
    "current = ['COM']\n",
    "solution = [['COM', 0]]\n",
    "counter = 1\n",
    "\n",
    "while len(solution) != len(set(orbit_list)):\n",
    "    next_list = []\n",
    "    for element in current:\n",
    "        for i in final_list:\n",
    "            if i[0] == element:\n",
    "                next_list.append(i[1])\n",
    "                solution.append([element, counter])\n",
    "    counter += 1\n",
    "    current = next_list\n",
    "    \n",
    "summerize = []\n",
    "for num in solution:\n",
    "    summerize.append(num[1])\n",
    "sum(summerize)"
   ]
  },
  {
   "cell_type": "markdown",
   "metadata": {},
   "source": [
    "--- Part Two ---\n",
    "Now, you just need to figure out how many orbital transfers you (YOU) need to take to get to Santa (SAN).\n",
    "\n",
    "You start at the object YOU are orbiting; your destination is the object SAN is orbiting. An orbital transfer lets you move from any object to an object orbiting or orbited by that object.\n",
    "\n",
    "For example, suppose you have the following map:\n",
    "\n",
    "COM)B\n",
    "B)C\n",
    "C)D\n",
    "D)E\n",
    "E)F\n",
    "B)G\n",
    "G)H\n",
    "D)I\n",
    "E)J\n",
    "J)K\n",
    "K)L\n",
    "K)YOU\n",
    "I)SAN\n",
    "Visually, the above map of orbits looks like this:\n",
    "\n",
    "                          YOU\n",
    "                         /\n",
    "        G - H       J - K - L\n",
    "       /           /\n",
    "COM - B - C - D - E - F\n",
    "               \\\n",
    "                I - SAN\n",
    "In this example, YOU are in orbit around K, and SAN is in orbit around I. To move from K to I, a minimum of 4 orbital transfers are required:\n",
    "\n",
    "K to J\n",
    "J to E\n",
    "E to D\n",
    "D to I\n",
    "Afterward, the map of orbits looks like this:\n",
    "\n",
    "        G - H       J - K - L\n",
    "       /           /\n",
    "COM - B - C - D - E - F\n",
    "               \\\n",
    "                I - SAN\n",
    "                 \\\n",
    "                  YOU\n",
    "What is the minimum number of orbital transfers required to move from the object YOU are orbiting to the object SAN is orbiting? (Between the objects they are orbiting - not between YOU and SAN.)"
   ]
  },
  {
   "cell_type": "code",
   "execution_count": 244,
   "metadata": {},
   "outputs": [],
   "source": [
    "count = 1\n",
    "list_you = []\n",
    "current = ['YOU']\n",
    "\n",
    "for i in range (0, len(orbit_list)):\n",
    "    new_list = []\n",
    "    for num in final_list:\n",
    "        if num[1] in current:\n",
    "            new_list.append(num[0])\n",
    "            list_you.append(num[0])\n",
    "            count += 1\n",
    "            current = new_list"
   ]
  },
  {
   "cell_type": "code",
   "execution_count": 246,
   "metadata": {},
   "outputs": [],
   "source": [
    "count2 = 1\n",
    "list_san = []\n",
    "current = ['SAN']\n",
    "\n",
    "for i in range (0, len(orbit_list)):\n",
    "    new_list = []\n",
    "    for num in final_list:\n",
    "        if num[1] in current:\n",
    "            new_list.append(num[0])\n",
    "            list_san.append(num[0])\n",
    "            count2 += 1\n",
    "            current = new_list"
   ]
  },
  {
   "cell_type": "code",
   "execution_count": 247,
   "metadata": {},
   "outputs": [],
   "source": [
    "solution_yousan = []\n",
    "for item in list_you:\n",
    "    if item not in list_san:\n",
    "        solution_yousan.append(item)\n",
    "\n",
    "for items in list_san:\n",
    "    if items not in list_you:\n",
    "        solution_yousan.append(items)"
   ]
  },
  {
   "cell_type": "code",
   "execution_count": 248,
   "metadata": {},
   "outputs": [
    {
     "data": {
      "text/plain": [
       "475"
      ]
     },
     "execution_count": 248,
     "metadata": {},
     "output_type": "execute_result"
    }
   ],
   "source": [
    "len(set(solution_yousan))"
   ]
  },
  {
   "cell_type": "code",
   "execution_count": null,
   "metadata": {},
   "outputs": [],
   "source": []
  },
  {
   "cell_type": "code",
   "execution_count": null,
   "metadata": {},
   "outputs": [],
   "source": []
  },
  {
   "cell_type": "code",
   "execution_count": null,
   "metadata": {},
   "outputs": [],
   "source": []
  }
 ],
 "metadata": {
  "kernelspec": {
   "display_name": "Python 3",
   "language": "python",
   "name": "python3"
  },
  "language_info": {
   "codemirror_mode": {
    "name": "ipython",
    "version": 3
   },
   "file_extension": ".py",
   "mimetype": "text/x-python",
   "name": "python",
   "nbconvert_exporter": "python",
   "pygments_lexer": "ipython3",
   "version": "3.7.4"
  }
 },
 "nbformat": 4,
 "nbformat_minor": 2
}
