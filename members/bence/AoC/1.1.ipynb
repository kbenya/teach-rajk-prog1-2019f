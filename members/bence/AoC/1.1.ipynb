{
 "cells": [
  {
   "cell_type": "markdown",
   "metadata": {},
   "source": [
    "Day 1: The Tyranny of the Rocket Equation ---\n",
    "Santa has become stranded at the edge of the Solar System while delivering presents to other planets! To accurately calculate his position in space, safely align his warp drive, and return to Earth in time to save Christmas, he needs you to bring him measurements from fifty stars.\n",
    "\n",
    "Collect stars by solving puzzles. Two puzzles will be made available on each day in the Advent calendar; the second puzzle is unlocked when you complete the first. Each puzzle grants one star. Good luck!\n",
    "\n",
    "The Elves quickly load you into a spacecraft and prepare to launch.\n",
    "\n",
    "At the first Go / No Go poll, every Elf is Go until the Fuel Counter-Upper. They haven't determined the amount of fuel required yet.\n",
    "\n",
    "Fuel required to launch a given module is based on its mass. Specifically, to find the fuel required for a module, take its mass, divide by three, round down, and subtract 2.\n",
    "\n",
    "For example:\n",
    "\n",
    "For a mass of 12, divide by 3 and round down to get 4, then subtract 2 to get 2.\n",
    "For a mass of 14, dividing by 3 and rounding down still yields 4, so the fuel required is also 2.\n",
    "For a mass of 1969, the fuel required is 654.\n",
    "For a mass of 100756, the fuel required is 33583.\n",
    "The Fuel Counter-Upper needs to know the total fuel requirement. To find it, individually calculate the fuel needed for the mass of each module (your puzzle input), then add together all the fuel values.\n",
    "\n",
    "What is the sum of the fuel requirements for all of the modules on your spacecraft?"
   ]
  },
  {
   "cell_type": "code",
   "execution_count": 22,
   "metadata": {},
   "outputs": [],
   "source": [
    "with open(\"input_star_one_1.txt\") as fp:\n",
    "    modules_mass = fp.read()"
   ]
  },
  {
   "cell_type": "code",
   "execution_count": 23,
   "metadata": {},
   "outputs": [],
   "source": [
    "list_of_mass=modules_mass.split('\\n')"
   ]
  },
  {
   "cell_type": "code",
   "execution_count": 29,
   "metadata": {},
   "outputs": [
    {
     "data": {
      "text/plain": [
       "3325156"
      ]
     },
     "execution_count": 29,
     "metadata": {},
     "output_type": "execute_result"
    }
   ],
   "source": [
    "fuel_required = [int(int(num)/3)-2 for num in list_of_mass]\n",
    "first_star = sum(fuel_required)\n",
    "first_star"
   ]
  },
  {
   "cell_type": "code",
   "execution_count": 28,
   "metadata": {},
   "outputs": [
    {
     "data": {
      "text/plain": [
       "[28078,\n",
       " 29264,\n",
       " 43755,\n",
       " 28207,\n",
       " 35130,\n",
       " 30360,\n",
       " 33285,\n",
       " 48861,\n",
       " 19583,\n",
       " 17121,\n",
       " 36138,\n",
       " 31894,\n",
       " 30502,\n",
       " 37895,\n",
       " 26394,\n",
       " 37865,\n",
       " 17581,\n",
       " 41185,\n",
       " 49234,\n",
       " 48435,\n",
       " 32926,\n",
       " 28984,\n",
       " 29916,\n",
       " 32362,\n",
       " 20680,\n",
       " 32955,\n",
       " 48607,\n",
       " 25558,\n",
       " 21927,\n",
       " 39783,\n",
       " 41531,\n",
       " 23151,\n",
       " 26720,\n",
       " 18705,\n",
       " 39128,\n",
       " 24099,\n",
       " 47296,\n",
       " 46854,\n",
       " 27519,\n",
       " 25141,\n",
       " 18202,\n",
       " 41366,\n",
       " 34874,\n",
       " 26175,\n",
       " 21247,\n",
       " 46426,\n",
       " 37306,\n",
       " 33997,\n",
       " 17809,\n",
       " 19300,\n",
       " 19371,\n",
       " 48929,\n",
       " 49249,\n",
       " 26628,\n",
       " 21796,\n",
       " 40515,\n",
       " 16857,\n",
       " 40838,\n",
       " 22145,\n",
       " 28667,\n",
       " 40631,\n",
       " 23903,\n",
       " 37553,\n",
       " 37619,\n",
       " 46896,\n",
       " 18003,\n",
       " 26011,\n",
       " 30583,\n",
       " 43333,\n",
       " 29863,\n",
       " 47427,\n",
       " 49945,\n",
       " 45577,\n",
       " 23346,\n",
       " 29860,\n",
       " 47409,\n",
       " 47361,\n",
       " 49251,\n",
       " 28650,\n",
       " 45427,\n",
       " 28963,\n",
       " 43788,\n",
       " 23853,\n",
       " 42761,\n",
       " 31841,\n",
       " 36770,\n",
       " 38388,\n",
       " 18816,\n",
       " 23820,\n",
       " 37977,\n",
       " 21395,\n",
       " 38518,\n",
       " 24526,\n",
       " 27062,\n",
       " 30916,\n",
       " 35273,\n",
       " 34911,\n",
       " 45700,\n",
       " 34820,\n",
       " 40104]"
      ]
     },
     "execution_count": 28,
     "metadata": {},
     "output_type": "execute_result"
    }
   ],
   "source": [
    "fuel_required"
   ]
  }
 ],
 "metadata": {
  "kernelspec": {
   "display_name": "Python 3",
   "language": "python",
   "name": "python3"
  },
  "language_info": {
   "codemirror_mode": {
    "name": "ipython",
    "version": 3
   },
   "file_extension": ".py",
   "mimetype": "text/x-python",
   "name": "python",
   "nbconvert_exporter": "python",
   "pygments_lexer": "ipython3",
   "version": "3.7.4"
  }
 },
 "nbformat": 4,
 "nbformat_minor": 2
}
