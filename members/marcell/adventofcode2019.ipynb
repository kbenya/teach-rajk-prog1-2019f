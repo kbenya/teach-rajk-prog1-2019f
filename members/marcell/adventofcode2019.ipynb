{
 "cells": [
  {
   "cell_type": "code",
   "execution_count": null,
   "metadata": {},
   "outputs": [],
   "source": [
    "#első feladat"
   ]
  },
  {
   "cell_type": "code",
   "execution_count": 85,
   "metadata": {},
   "outputs": [],
   "source": [
    "import math"
   ]
  },
  {
   "cell_type": "code",
   "execution_count": 5,
   "metadata": {},
   "outputs": [],
   "source": [
    "#megnyitom és egy listában elhelyezem\n",
    "with open('adventofcode2019_input1.txt', 'r') as f:\n",
    "    input = f.read().splitlines()\n",
    "f.close()"
   ]
  },
  {
   "cell_type": "code",
   "execution_count": 25,
   "metadata": {},
   "outputs": [
    {
     "data": {
      "text/plain": [
       "3512133"
      ]
     },
     "execution_count": 25,
     "metadata": {},
     "output_type": "execute_result"
    }
   ],
   "source": [
    "sum([math.floor(int(i)/3) - 2 for i in input])"
   ]
  },
  {
   "cell_type": "code",
   "execution_count": null,
   "metadata": {
    "collapsed": true
   },
   "outputs": [],
   "source": [
    "#második része az első feladatnak"
   ]
  },
  {
   "cell_type": "code",
   "execution_count": null,
   "metadata": {},
   "outputs": [],
   "source": [
    "sum_of_all_fuel = 0\n",
    "for i in input:\n",
    "    additional_fuel = math.floor(int(i) / 3) - 2\n",
    "    while additional_fuel > 0:\n",
    "        sum_of_all_fuel += additional_fuel\n",
    "        additional_fuel = math.floor(additional_fuel / 3) - 2\n",
    "sum_of_all_fuel"
   ]
  },
  {
   "cell_type": "code",
   "execution_count": 235,
   "metadata": {},
   "outputs": [],
   "source": [
    "#második feladat"
   ]
  },
  {
   "cell_type": "code",
   "execution_count": 1,
   "metadata": {},
   "outputs": [],
   "source": [
    "#megnyitom és egy listában elhelyezem\n",
    "with open('adventofcode2019_input2.txt', 'r') as f:\n",
    "    input = f.read().splitlines()\n",
    "f.close()"
   ]
  },
  {
   "cell_type": "code",
   "execution_count": 2,
   "metadata": {},
   "outputs": [
    {
     "data": {
      "text/plain": [
       "[1,\n",
       " 12,\n",
       " 2,\n",
       " 3,\n",
       " 1,\n",
       " 1,\n",
       " 2,\n",
       " 3,\n",
       " 1,\n",
       " 3,\n",
       " 4,\n",
       " 3,\n",
       " 1,\n",
       " 5,\n",
       " 0,\n",
       " 3,\n",
       " 2,\n",
       " 1,\n",
       " 10,\n",
       " 19,\n",
       " 1,\n",
       " 19,\n",
       " 5,\n",
       " 23,\n",
       " 1,\n",
       " 6,\n",
       " 23,\n",
       " 27,\n",
       " 1,\n",
       " 27,\n",
       " 5,\n",
       " 31,\n",
       " 2,\n",
       " 31,\n",
       " 10,\n",
       " 35,\n",
       " 2,\n",
       " 35,\n",
       " 6,\n",
       " 39,\n",
       " 1,\n",
       " 39,\n",
       " 5,\n",
       " 43,\n",
       " 2,\n",
       " 43,\n",
       " 9,\n",
       " 47,\n",
       " 1,\n",
       " 47,\n",
       " 6,\n",
       " 51,\n",
       " 1,\n",
       " 13,\n",
       " 51,\n",
       " 55,\n",
       " 2,\n",
       " 9,\n",
       " 55,\n",
       " 59,\n",
       " 1,\n",
       " 59,\n",
       " 13,\n",
       " 63,\n",
       " 1,\n",
       " 6,\n",
       " 63,\n",
       " 67,\n",
       " 2,\n",
       " 67,\n",
       " 10,\n",
       " 71,\n",
       " 1,\n",
       " 9,\n",
       " 71,\n",
       " 75,\n",
       " 2,\n",
       " 75,\n",
       " 6,\n",
       " 79,\n",
       " 1,\n",
       " 79,\n",
       " 5,\n",
       " 83,\n",
       " 1,\n",
       " 83,\n",
       " 5,\n",
       " 87,\n",
       " 2,\n",
       " 9,\n",
       " 87,\n",
       " 91,\n",
       " 2,\n",
       " 9,\n",
       " 91,\n",
       " 95,\n",
       " 1,\n",
       " 95,\n",
       " 10,\n",
       " 99,\n",
       " 1,\n",
       " 9,\n",
       " 99,\n",
       " 103,\n",
       " 2,\n",
       " 103,\n",
       " 6,\n",
       " 107,\n",
       " 2,\n",
       " 9,\n",
       " 107,\n",
       " 111,\n",
       " 1,\n",
       " 111,\n",
       " 5,\n",
       " 115,\n",
       " 2,\n",
       " 6,\n",
       " 115,\n",
       " 119,\n",
       " 1,\n",
       " 5,\n",
       " 119,\n",
       " 123,\n",
       " 1,\n",
       " 123,\n",
       " 2,\n",
       " 127,\n",
       " 1,\n",
       " 127,\n",
       " 9,\n",
       " 0,\n",
       " 99,\n",
       " 2,\n",
       " 0,\n",
       " 14,\n",
       " 0]"
      ]
     },
     "execution_count": 2,
     "metadata": {},
     "output_type": "execute_result"
    }
   ],
   "source": [
    "int_input = []\n",
    "for i in range(0, len(input)):\n",
    "    a = input[i].split(',')\n",
    "for ii in a:\n",
    "    int_input.append(int(ii))\n",
    "int_input[1] = 12\n",
    "int_input[2] = 2"
   ]
  },
  {
   "cell_type": "code",
   "execution_count": 410,
   "metadata": {},
   "outputs": [
    {
     "name": "stdout",
     "output_type": "stream",
     "text": [
      "3267740\n"
     ]
    }
   ],
   "source": [
    "for i in range (0,len(int_input),4):\n",
    "    if int_input[i] == 1:\n",
    "        int_input[int_input[i+3]] = int_input[int_input[i+1]] + int_input[int_input[i+2]]\n",
    "    elif int_input[i] == 2:\n",
    "        int_input[int_input[i+3]] = int_input[int_input[i+1]] * int_input[int_input[i+2]]\n",
    "    elif int_input[i] == 99:\n",
    "        print(int_input[0])\n",
    "        break"
   ]
  },
  {
   "cell_type": "code",
   "execution_count": null,
   "metadata": {},
   "outputs": [],
   "source": [
    "#második része a második feladatnak"
   ]
  },
  {
   "cell_type": "code",
   "execution_count": 433,
   "metadata": {},
   "outputs": [
    {
     "name": "stdout",
     "output_type": "stream",
     "text": [
      "True\n",
      "[78, 70]\n",
      "7870\n"
     ]
    }
   ],
   "source": [
    "for b in range(0,100):\n",
    "    for bb in range(0,100):\n",
    "        int_input = []\n",
    "        for i in range(0, len(input)):\n",
    "            a = input[i].split(',')\n",
    "        for ii in a:\n",
    "            int_input.append(int(ii))\n",
    "        int_input[1] = b\n",
    "        int_input[2] = bb\n",
    "\n",
    "        for i in range (0,len(int_input),4):\n",
    "            if int_input[i] == 1:\n",
    "                int_input[int_input[i+3]] = int_input[int_input[i+1]] + int_input[int_input[i+2]]\n",
    "            elif int_input[i] == 2:\n",
    "                int_input[int_input[i+3]] = int_input[int_input[i+1]] * int_input[int_input[i+2]]\n",
    "            elif int_input[i] == 99:\n",
    "                break\n",
    "        if int_input[0] == 19690720:\n",
    "            print(int_input[0] == 19690720)\n",
    "            print(int_input[1:3])\n",
    "            print(100*int_input[1] + int_input[2])"
   ]
  },
  {
   "cell_type": "code",
   "execution_count": null,
   "metadata": {},
   "outputs": [],
   "source": [
    "#harmadik feladat"
   ]
  },
  {
   "cell_type": "code",
   "execution_count": 1,
   "metadata": {},
   "outputs": [],
   "source": [
    "#megnyitom és egy listában elhelyezem\n",
    "with open('adventofcode2019_input3.txt', 'r') as f:\n",
    "    input = f.read().split('\\n')\n",
    "f.close()\n",
    "A_wire = input[0].split(',')\n",
    "B_wire = input[1].split(',')"
   ]
  },
  {
   "cell_type": "code",
   "execution_count": 2,
   "metadata": {},
   "outputs": [],
   "source": [
    "#két koordináta dict, az első koordináta a jobb/bal, a második a fel/le, ezeken iterálok majd\n",
    "#annyiszor, ahány ismétlést ír az adott lépés\n",
    "X = {'L': -1, 'R': 1, 'U': 0, 'D': 0}\n",
    "Y = {'L': 0, 'R': 0, 'U': 1, 'D': -1}"
   ]
  },
  {
   "cell_type": "code",
   "execution_count": 3,
   "metadata": {},
   "outputs": [],
   "source": [
    "#ez a bemeneti lista elemein végig iterál és a fenti két dict segítségével egy újabb key/value párt hoz létre\n",
    "#melynek a key-je az aktuális koordináta, a value pedig az összes addig megtett lépés\n",
    "#így a vonalak minden egyes koordinátáját ismerni fogom\n",
    "#a lépéseket a második feladathoz kell beépíteni, mert ott van szükség a megtett útra\n",
    "def coordinates(inp):\n",
    "    x = 0\n",
    "    y = 0\n",
    "    distance = 0\n",
    "    solution_dict = {}\n",
    "    for i in inp:\n",
    "        cmd = i[0]\n",
    "        steps = int(i[1:])\n",
    "        for ii in range(steps):\n",
    "            x += X[cmd]\n",
    "            y += Y[cmd]\n",
    "            distance += 1\n",
    "            if (x,y) not in solution_dict:\n",
    "                solution_dict[(x,y)] = distance\n",
    "    return solution_dict"
   ]
  },
  {
   "cell_type": "code",
   "execution_count": 4,
   "metadata": {},
   "outputs": [
    {
     "data": {
      "text/plain": [
       "1431"
      ]
     },
     "execution_count": 4,
     "metadata": {},
     "output_type": "execute_result"
    }
   ],
   "source": [
    "#a két megkapott vonal koordinátái között megvizsgálja a közöseket és azokból egy listát épít,\n",
    "#minek az elemei a koordináták abszolút értékeiből számolt összegek, azaz a középpontól vett távolságuk a kereszteződéseknek\n",
    "A_wire_line = coordinates(A_wire)\n",
    "B_wire_line = coordinates(B_wire)\n",
    "intersections = []\n",
    "for i in A_wire_line:\n",
    "    if i in B_wire_line:\n",
    "        intersections.append((abs(i[0]) + abs(i[1])))\n",
    "min(intersections)"
   ]
  },
  {
   "cell_type": "code",
   "execution_count": 5,
   "metadata": {},
   "outputs": [
    {
     "data": {
      "text/plain": [
       "48012"
      ]
     },
     "execution_count": 5,
     "metadata": {},
     "output_type": "execute_result"
    }
   ],
   "source": [
    "#csinálok egy dictet, ami a találkozásokat tartalmazza csak és a key-k a koordináták, a valuek pedig a két vonal\n",
    "#addig megtett távolságának az összege\n",
    "intersections_dict = {}\n",
    "for i in A_wire_line:\n",
    "    if i in B_wire_line:\n",
    "        intersections_dict[i] = A_wire_line[i] + B_wire_line[i]\n",
    "min(intersections_dict.values())"
   ]
  },
  {
   "cell_type": "code",
   "execution_count": null,
   "metadata": {},
   "outputs": [],
   "source": [
    "#negyedik feladat"
   ]
  },
  {
   "cell_type": "code",
   "execution_count": 41,
   "metadata": {},
   "outputs": [],
   "source": [
    "#input 273025-767253"
   ]
  },
  {
   "cell_type": "code",
   "execution_count": 12,
   "metadata": {},
   "outputs": [],
   "source": [
    "def password_counter(min,max):\n",
    "    correct_password = 0\n",
    "    passwords = min\n",
    "    while passwords != max:\n",
    "        splitted_list = [int(i) for i in str(passwords)]\n",
    "        if splitted_list == sorted(splitted_list):\n",
    "            if len(splitted_list) > len(set(splitted_list)):\n",
    "                q = 0\n",
    "                for i in '0123456789':\n",
    "                        if 2*i in str(passwords):\n",
    "                            correct_password += 1\n",
    "                            passwords += 1\n",
    "                            break\n",
    "                        elif i == '9':\n",
    "                            passwords += 1\n",
    "            else:\n",
    "                passwords += 1\n",
    "        else:\n",
    "            passwords += 1\n",
    "    return (correct_password)"
   ]
  },
  {
   "cell_type": "code",
   "execution_count": 13,
   "metadata": {},
   "outputs": [],
   "source": [
    "#kulcs az volt, hogy a két feltétel (sortolt lista, van 2es ismétlődés) egyszerre alkalmazva azt jelenti, hogy elég a 3-as\n",
    "#nem előfordulására szűrni, \n",
    "#ugyanis a két részbe szedett többszörös ismétlődések '1121111' nem léteznek az első feltétel miatt\n",
    "def password_counter_max2(min,max):\n",
    "    correct_password = 0\n",
    "    passwords = min\n",
    "    while passwords != max:\n",
    "        splitted_list = [int(i) for i in str(passwords)]\n",
    "        if splitted_list == sorted(splitted_list):\n",
    "            if len(splitted_list) > len(set(splitted_list)):\n",
    "                q = 0\n",
    "                for i in '0123456789':\n",
    "                        if 2*i in str(passwords):\n",
    "                            if 3*i not in str(passwords):\n",
    "                                correct_password += 1\n",
    "                                passwords += 1\n",
    "                                break\n",
    "                            elif i == '9':\n",
    "                                passwords += 1\n",
    "                        elif i == '9':\n",
    "                            passwords += 1\n",
    "            else:\n",
    "                passwords += 1\n",
    "        else:\n",
    "            passwords += 1\n",
    "    return (correct_password)"
   ]
  },
  {
   "cell_type": "code",
   "execution_count": 16,
   "metadata": {},
   "outputs": [
    {
     "name": "stdout",
     "output_type": "stream",
     "text": [
      "910 598\n"
     ]
    }
   ],
   "source": [
    "print(password_counter(273025,767253), password_counter_max2(273025,767253))"
   ]
  },
  {
   "cell_type": "code",
   "execution_count": null,
   "metadata": {},
   "outputs": [],
   "source": [
    "#otodik feladat eleje"
   ]
  },
  {
   "cell_type": "code",
   "execution_count": 68,
   "metadata": {},
   "outputs": [
    {
     "name": "stdout",
     "output_type": "stream",
     "text": [
      "12648139\n",
      "314\n"
     ]
    }
   ],
   "source": [
    "#megnyitom és egy listában elhelyezem\n",
    "with open('adventofcode2019_input4.txt', 'r') as f:\n",
    "    input = f.read().split('\\n')\n",
    "f.close()\n",
    "del input[-1]\n",
    "for i in range(0, len(input)):\n",
    "    a = input[i].split(',')\n",
    "int_input = []\n",
    "for ii in a:\n",
    "    int_input.append(int(ii))\n",
    "\n",
    "#proba\n",
    "\n",
    "i = 0\n",
    "check = True\n",
    "while check:\n",
    "    \n",
    "    if len(str(int_input[i])) == 1:\n",
    "        opcode = int(str(int_input[i])[-1])\n",
    "    else:\n",
    "        opcode = int(str(int_input[i])[-2:])\n",
    "    \n",
    "    modes1 = [int(i) for i in str(int_input[i])][:-2]\n",
    "    modes1 = list(reversed(modes1))\n",
    "    modes2 = [0] * (4 - len(modes1))\n",
    "    modes = modes1 + modes2\n",
    "    \n",
    "    \n",
    "    if opcode == 1:\n",
    "        int_input[int_input[i+3]] = (int_input[int_input[i+1]] if modes[0] == 0 else int_input[i+1]) + \\\n",
    "        (int_input[int_input[i+2]] if modes[1] == 0 else int_input[i+2])\n",
    "        i += 4\n",
    "    elif opcode == 2:\n",
    "        int_input[int_input[i+3]] = (int_input[int_input[i+1]] if modes[0] == 0 else int_input[i+1]) * \\\n",
    "        (int_input[int_input[i+2]] if modes[1] == 0 else int_input[i+2])\n",
    "        i += 4\n",
    "    elif opcode == 3:\n",
    "        int_input[int_input[i+1]] = 5 #első megadott érték\n",
    "        i += 2\n",
    "    elif opcode == 4:\n",
    "        print(int_input[int_input[i+1]]) if modes[0] == 0 else print(int_input[i+1])\n",
    "        i += 2\n",
    "    elif opcode == 5:\n",
    "        if (int_input[int_input[i+1]] if modes[0] == 0 else int_input[i+1]) != 0:\n",
    "            i = int_input[int_input[i+2]] if modes[1] == 0 else int_input[i+2]\n",
    "        else:\n",
    "            i += 3\n",
    "    elif opcode == 6:\n",
    "        if (int_input[int_input[i+1]] if modes[0] == 0 else int_input[i+1]) == 0:\n",
    "            i = int_input[int_input[i+2]] if modes[1] == 0 else int_input[i+2]\n",
    "        else:\n",
    "            i += 3\n",
    "    elif opcode == 7:\n",
    "        if (int_input[int_input[i+1]] if modes[0] == 0 else int_input[i+1]) <\\\n",
    "        (int_input[int_input[i+2]] if modes[1] == 0 else int_input[i+2]):\n",
    "            int_input[int_input[i+3]] = 1\n",
    "        else:\n",
    "            int_input[int_input[i+3]] = 0\n",
    "        i += 4\n",
    "    elif opcode == 8:\n",
    "        if (int_input[int_input[i+1]] if modes[0] == 0 else int_input[i+1]) ==\\\n",
    "        (int_input[int_input[i+2]] if modes[1] == 0 else int_input[i+2]):\n",
    "            int_input[int_input[i+3]] = 1\n",
    "        else:\n",
    "            int_input[int_input[i+3]] = 0\n",
    "        i += 4\n",
    "    elif opcode == 99:\n",
    "        print(int_input[0])\n",
    "        check = False\n",
    "        break"
   ]
  },
  {
   "cell_type": "code",
   "execution_count": 79,
   "metadata": {},
   "outputs": [
    {
     "name": "stdout",
     "output_type": "stream",
     "text": [
      "12648139\n",
      "9\n"
     ]
    }
   ],
   "source": [
    "#megnyitom és egy listában elhelyezem\n",
    "with open('adventofcode2019_input4.txt', 'r') as f:\n",
    "    input = f.read().split('\\n')\n",
    "f.close()\n",
    "del input[-1]\n",
    "for i in range(0, len(input)):\n",
    "    a = input[i].split(',')\n",
    "int_input = []\n",
    "for ii in a:\n",
    "    int_input.append(int(ii))\n",
    "\n",
    "i = 0\n",
    "check = True\n",
    "while check:\n",
    "    opcode = [int(i) for i in str(int_input[i])][-1]\n",
    "    modes1 = [int(i) for i in str(int_input[i])][:-2]\n",
    "    modes1 = list(reversed(modes1))\n",
    "    modes2 = [0] * (4 - len(modes1))\n",
    "    modes = modes1 + modes2\n",
    "    \n",
    "    if opcode not in [1,2,3,4,5,6,7,8,99]:\n",
    "        print(opcode)\n",
    "        break\n",
    "    \n",
    "    if opcode == 1:\n",
    "        int_input[int_input[i+3]] = (int_input[int_input[i+1]] if modes[0] == 0 else int_input[i+1]) + \\\n",
    "        (int_input[int_input[i+2]] if modes[1] == 0 else int_input[i+2])\n",
    "        i += 4\n",
    "    elif opcode == 2:\n",
    "        int_input[int_input[i+3]] = (int_input[int_input[i+1]] if modes[0] == 0 else int_input[i+1]) * \\\n",
    "        (int_input[int_input[i+2]] if modes[1] == 0 else int_input[i+2])\n",
    "        i += 4\n",
    "    elif opcode == 3:\n",
    "        int_input[int_input[i+1]] = 5 #első megadott érték\n",
    "        i += 2\n",
    "    elif opcode == 4:\n",
    "        print(int_input[int_input[i+1]]) if modes[0] == 0 else print(int_input[i+1])\n",
    "        i += 2\n",
    "    elif opcode == 5:\n",
    "        if (int_input[int_input[i+1]] if modes[0] == 0 else int_input[i+1]) != 0:\n",
    "            i = int_input[int_input[i+2]] if modes[1] == 0 else int_input[i+2]\n",
    "        else:\n",
    "            i += 3\n",
    "    elif opcode == 6:\n",
    "        if (int_input[int_input[i+1]] if modes[0] == 0 else int_input[i+1]) == 0:\n",
    "            i = int_input[int_input[i+2]] if modes[1] == 0 else int_input[i+2]\n",
    "        else:\n",
    "            i += 3\n",
    "    elif opcode == 7:\n",
    "        if (int_input[int_input[i+1]] if modes[0] == 0 else int_input[i+1]) <\\\n",
    "        (int_input[int_input[i+2]] if modes[1] == 0 else int_input[i+2]):\n",
    "            int_input[int_input[i+3]] = 1\n",
    "        else:\n",
    "            int_input[int_input[i+3]] = 0\n",
    "        i += 4\n",
    "    elif opcode == 8:\n",
    "        if (int_input[int_input[i+1]] if modes[0] == 0 else int_input[i+1]) ==\\\n",
    "        (int_input[int_input[i+2]] if modes[1] == 0 else int_input[i+2]):\n",
    "            int_input[int_input[i+3]] = 1\n",
    "        else:\n",
    "            int_input[int_input[i+3]] = 0\n",
    "        i += 4\n",
    "    elif opcode == 99:\n",
    "        print(int_input[0])\n",
    "        check = False\n",
    "        break"
   ]
  },
  {
   "cell_type": "code",
   "execution_count": null,
   "metadata": {},
   "outputs": [],
   "source": [
    "#hatodik feladat megoldása"
   ]
  },
  {
   "cell_type": "code",
   "execution_count": 41,
   "metadata": {},
   "outputs": [
    {
     "name": "stdout",
     "output_type": "stream",
     "text": [
      "162816\n"
     ]
    }
   ],
   "source": [
    "#megnyitom és egy listában elhelyezem\n",
    "inputs = open('adventofcode2019_input5.txt').read().splitlines()\n",
    "\n",
    "levels = {'COM': 0}\n",
    "\n",
    "while len(inputs) > 0:\n",
    "    for i in inputs:\n",
    "        nagy = i[:3]\n",
    "        kicsi = i[4:]\n",
    "        if nagy in levels:\n",
    "            levels[kicsi] = levels[nagy] + 1\n",
    "            inputs.remove(i)\n",
    "\n",
    "print(sum(levels.values()))"
   ]
  },
  {
   "cell_type": "code",
   "execution_count": 136,
   "metadata": {},
   "outputs": [
    {
     "name": "stdout",
     "output_type": "stream",
     "text": [
      "304\n"
     ]
    }
   ],
   "source": [
    "levels = {x[4:]:x[0:3] for x in open('adventofcode2019_input5.txt').read().split('\\n')}\n",
    "\n",
    "common_ancester1 = levels['YOU']\n",
    "common_ancester2 = levels['SAN']\n",
    "needed_steps1 = 0\n",
    "needed_steps2 = 0\n",
    "archive1 = []\n",
    "\n",
    "while common_ancester1 != 'COM':\n",
    "    common_ancester1 = levels[common_ancester1]\n",
    "    archive1.append(common_ancester1)\n",
    "\n",
    "while common_ancester2 not in archive1:\n",
    "    common_ancester2 = levels[common_ancester2]\n",
    "    needed_steps2 += 1\n",
    "    \n",
    "common_ancester1 = levels['YOU']\n",
    "while common_ancester1 != common_ancester2:\n",
    "    common_ancester1 = levels[common_ancester1]\n",
    "    needed_steps1 += 1\n",
    "\n",
    "print(needed_steps1 + needed_steps2)"
   ]
  },
  {
   "cell_type": "code",
   "execution_count": null,
   "metadata": {},
   "outputs": [],
   "source": [
    "#hetedik feladat megoldása"
   ]
  },
  {
   "cell_type": "code",
   "execution_count": 181,
   "metadata": {},
   "outputs": [],
   "source": [
    "from itertools import permutations"
   ]
  },
  {
   "cell_type": "code",
   "execution_count": 195,
   "metadata": {},
   "outputs": [],
   "source": [
    "#megnyitom és egy listában elhelyezem\n",
    "with open('adventofcode2019_input6.txt', 'r') as f:\n",
    "    input = f.read().split('\\n')\n",
    "f.close()\n",
    "del input[-1]\n",
    "for i in range(0, len(input)):\n",
    "    a = input[i].split(',')\n",
    "int_input = []\n",
    "for ii in a:\n",
    "    int_input.append(int(ii))"
   ]
  },
  {
   "cell_type": "code",
   "execution_count": 201,
   "metadata": {},
   "outputs": [],
   "source": [
    "def amplifier(inp, int_input):\n",
    "    i = 0\n",
    "    check = True\n",
    "    while check:\n",
    "\n",
    "        if len(str(int_input[i])) == 1:\n",
    "            opcode = int(str(int_input[i])[-1])\n",
    "        else:\n",
    "            opcode = int(str(int_input[i])[-2:])\n",
    "\n",
    "        modes1 = [int(i) for i in str(int_input[i])][:-2]\n",
    "        modes1 = list(reversed(modes1))\n",
    "        modes2 = [0] * (4 - len(modes1))\n",
    "        modes = modes1 + modes2\n",
    "\n",
    "\n",
    "        if opcode == 1:\n",
    "            int_input[int_input[i+3]] = (int_input[int_input[i+1]] if modes[0] == 0 else int_input[i+1]) + \\\n",
    "            (int_input[int_input[i+2]] if modes[1] == 0 else int_input[i+2])\n",
    "            i += 4\n",
    "        elif opcode == 2:\n",
    "            int_input[int_input[i+3]] = (int_input[int_input[i+1]] if modes[0] == 0 else int_input[i+1]) * \\\n",
    "            (int_input[int_input[i+2]] if modes[1] == 0 else int_input[i+2])\n",
    "            i += 4\n",
    "        elif opcode == 3:\n",
    "            int_input[int_input[i+1]] = inp[0]\n",
    "            inp.pop(0)\n",
    "            i += 2\n",
    "        elif opcode == 4:\n",
    "            if modes[0] == 0:\n",
    "                return (int_input[int_input[i+1]])\n",
    "                check = False\n",
    "                break\n",
    "            else:\n",
    "                return (int_input[i+1])\n",
    "                check = False\n",
    "                break\n",
    "            i += 2\n",
    "        elif opcode == 5:\n",
    "            if (int_input[int_input[i+1]] if modes[0] == 0 else int_input[i+1]) != 0:\n",
    "                i = int_input[int_input[i+2]] if modes[1] == 0 else int_input[i+2]\n",
    "            else:\n",
    "                i += 3\n",
    "        elif opcode == 6:\n",
    "            if (int_input[int_input[i+1]] if modes[0] == 0 else int_input[i+1]) == 0:\n",
    "                i = int_input[int_input[i+2]] if modes[1] == 0 else int_input[i+2]\n",
    "            else:\n",
    "                i += 3\n",
    "        elif opcode == 7:\n",
    "            if (int_input[int_input[i+1]] if modes[0] == 0 else int_input[i+1]) <\\\n",
    "            (int_input[int_input[i+2]] if modes[1] == 0 else int_input[i+2]):\n",
    "                int_input[int_input[i+3]] = 1\n",
    "            else:\n",
    "                int_input[int_input[i+3]] = 0\n",
    "            i += 4\n",
    "        elif opcode == 8:\n",
    "            if (int_input[int_input[i+1]] if modes[0] == 0 else int_input[i+1]) ==\\\n",
    "            (int_input[int_input[i+2]] if modes[1] == 0 else int_input[i+2]):\n",
    "                int_input[int_input[i+3]] = 1\n",
    "            else:\n",
    "                int_input[int_input[i+3]] = 0\n",
    "            i += 4\n",
    "        elif opcode == 99:\n",
    "            print(int_input[0])\n",
    "            check = False\n",
    "            break"
   ]
  },
  {
   "cell_type": "code",
   "execution_count": 198,
   "metadata": {},
   "outputs": [
    {
     "name": "stdout",
     "output_type": "stream",
     "text": [
      "398674\n"
     ]
    }
   ],
   "source": [
    "perm = permutations([0,1,2,3,4])\n",
    "\n",
    "answer = 0\n",
    "for i in list(perm):\n",
    "    phases = list(i)\n",
    "    ans = 0\n",
    "    for ii in range(5):\n",
    "        ans = [ans]\n",
    "        inp = str(phases[0]).split() + ans\n",
    "        inp = [int(iii) for iii in inp]\n",
    "        phases.pop(0)\n",
    "\n",
    "        ans = amplifier(inp, int_input)\n",
    "    if answer < ans:\n",
    "        answer = ans\n",
    "print(answer)"
   ]
  },
  {
   "cell_type": "code",
   "execution_count": null,
   "metadata": {},
   "outputs": [],
   "source": [
    "#nyolcadik nap"
   ]
  },
  {
   "cell_type": "code",
   "execution_count": 108,
   "metadata": {},
   "outputs": [],
   "source": [
    "inputs = open('adventofcode2019_input7.txt').read().splitlines()\n",
    "separeted_input = list(inputs[0])"
   ]
  },
  {
   "cell_type": "code",
   "execution_count": 109,
   "metadata": {},
   "outputs": [],
   "source": [
    "layers = []\n",
    "i = 0\n",
    "\n",
    "while i < len(separeted_input):\n",
    "    layers.append(separeted_input[i:(i + 6*25)])\n",
    "    i += 6*25"
   ]
  },
  {
   "cell_type": "code",
   "execution_count": 110,
   "metadata": {},
   "outputs": [],
   "source": [
    "dict = {}\n",
    "\n",
    "for i in range(1, len(layers)):\n",
    "    counter = 0\n",
    "    counter = layers[i].count('0')\n",
    "    dict['layer_' + str(i)] = counter"
   ]
  },
  {
   "cell_type": "code",
   "execution_count": 111,
   "metadata": {},
   "outputs": [
    {
     "data": {
      "text/plain": [
       "2413"
      ]
     },
     "execution_count": 111,
     "metadata": {},
     "output_type": "execute_result"
    }
   ],
   "source": [
    "part1 = int(sum([int(i) for i in layers[int(min(dict, key = dict.get)[-1])] if int(i) == 1])*\\\n",
    "sum([int(i)/2 for i in layers[int(min(dict, key = dict.get)[-1])] if int(i) == 2]))\n",
    "part1"
   ]
  },
  {
   "cell_type": "code",
   "execution_count": 112,
   "metadata": {},
   "outputs": [],
   "source": [
    "#masodik rész"
   ]
  },
  {
   "cell_type": "code",
   "execution_count": 183,
   "metadata": {},
   "outputs": [],
   "source": [
    "answer = []\n",
    "for i in range(0, len(layers[0])):\n",
    "    if layers[0][i] != '2':\n",
    "        answer.append(layers[0][i])\n",
    "    else:\n",
    "        for x in layers:\n",
    "            if x[i] != '2':\n",
    "                answer.append(x[i])\n",
    "                break"
   ]
  },
  {
   "cell_type": "code",
   "execution_count": 184,
   "metadata": {},
   "outputs": [],
   "source": [
    "def split(word): \n",
    "    return [char for char in word]  "
   ]
  },
  {
   "cell_type": "code",
   "execution_count": 185,
   "metadata": {},
   "outputs": [],
   "source": [
    "split(answer)\n",
    "for n, i in enumerate(answer):\n",
    "    if i == '0':\n",
    "        answer[n] = '.'"
   ]
  },
  {
   "cell_type": "code",
   "execution_count": 186,
   "metadata": {},
   "outputs": [],
   "source": [
    "seperator = ''\n",
    "answer = (seperator.join(answer))"
   ]
  },
  {
   "cell_type": "code",
   "execution_count": 187,
   "metadata": {},
   "outputs": [
    {
     "name": "stdout",
     "output_type": "stream",
     "text": [
      "['111...11..111..1111.111..']\n",
      "['1..1.1..1.1..1....1.1..1.']\n",
      "['111..1....1..1...1..111..']\n",
      "['1..1.1....111...1...1..1.']\n",
      "['1..1.1..1.1....1....1..1.']\n",
      "['111...11..1....1111.111..']\n"
     ]
    }
   ],
   "source": [
    "for i in range(0,150,25):\n",
    "    a = []\n",
    "    a.append(answer[i:i+25])\n",
    "    print(a)"
   ]
  },
  {
   "cell_type": "code",
   "execution_count": null,
   "metadata": {},
   "outputs": [],
   "source": [
    "#kilencedik nap"
   ]
  },
  {
   "cell_type": "code",
   "execution_count": 1,
   "metadata": {},
   "outputs": [],
   "source": [
    "#megnyitom és egy listában elhelyezem\n",
    "with open('adventofcode2019_input9.txt', 'r') as f:\n",
    "    input = f.read().split('\\n')\n",
    "f.close()\n",
    "del input[-1]\n",
    "for i in range(0, len(input)):\n",
    "    a = input[i].split(',')\n",
    "int_input = []\n",
    "for ii in a:\n",
    "    int_input.append(int(ii))"
   ]
  },
  {
   "cell_type": "code",
   "execution_count": 3,
   "metadata": {},
   "outputs": [],
   "source": [
    "#x = 1\n",
    "#a = (3 if x == 1 else 30) + \\\n",
    "#       (20 if x == 2 else 3)\n",
    "#out: 6\n",
    "    \n",
    "def amplifier_9(inp, int_input):\n",
    "    i = 0\n",
    "    relative_base = 0\n",
    "    check = True\n",
    "    while check:\n",
    "\n",
    "        if len(str(int_input[i])) == 1:\n",
    "            opcode = int(str(int_input[i])[-1])\n",
    "        else:\n",
    "            opcode = int(str(int_input[i])[-2:])\n",
    "\n",
    "        modes1 = [int(i) for i in str(int_input[i])][:-2]\n",
    "        modes1 = list(reversed(modes1))\n",
    "        modes2 = [0] * (4 - len(modes1))\n",
    "        modes = modes1 + modes2\n",
    "\n",
    "\n",
    "        if opcode == 1:\n",
    "            if modes[0] == 2:\n",
    "                int_input[int_input[i+3]] = (int_input[int_input[i+1+relative_base]]) + (int_input[int_input[i+2+relative_base]])\n",
    "            else:\n",
    "                print('opcode: ',opcode, 'modes:', modes[0], 'address: ',int_input[i+3], 'mode0: ', int_input[i+1], 'mode2: ', int_input[i+2], 'len: ', len(int_input))\n",
    "                int_input[int_input[i+3]] = (int_input[int_input[i+1]] if modes[0] == 0 else int_input[i+1]) + \\\n",
    "                (int_input[int_input[i+2]] if modes[1] == 0 else int_input[i+2])\n",
    "            i += 4\n",
    "        elif opcode == 2:\n",
    "            if modes[0] == 2:\n",
    "                int_input[int_input[i+3]] = (int_input[int_input[i+1+relative_base]]) * (int_input[int_input[i+2+relative_base]])\n",
    "            else:\n",
    "                int_input[int_input[i+3]] = (int_input[int_input[i+1]] if modes[0] == 0 else int_input[i+1]) * \\\n",
    "                (int_input[int_input[i+2]] if modes[1] == 0 else int_input[i+2])\n",
    "            i += 4\n",
    "        elif opcode == 3:\n",
    "            int_input[int_input[i+1]] = inp[0]\n",
    "            inp.pop(0)\n",
    "            i += 2\n",
    "        elif opcode == 4:\n",
    "            if modes[0] == 0:\n",
    "                return (int_input[int_input[i+1]])\n",
    "                check = False\n",
    "                break\n",
    "            elif modes[0] == 2:\n",
    "                return (int_input[int_input[i+1+relative_base]])\n",
    "            else:\n",
    "                return (int_input[i+1])\n",
    "                check = False\n",
    "                break\n",
    "            i += 2\n",
    "        elif opcode == 5:\n",
    "            if (int_input[int_input[i+1]] if modes[0] == 0 else int_input[i+1]) != 0:\n",
    "                i = int_input[int_input[i+2]] if modes[1] == 0 else int_input[i+2]\n",
    "            else:\n",
    "                i += 3\n",
    "        elif opcode == 6:\n",
    "            if (int_input[int_input[i+1]] if modes[0] == 0 else int_input[i+1]) == 0:\n",
    "                i = int_input[int_input[i+2]] if modes[1] == 0 else int_input[i+2]\n",
    "            else:\n",
    "                i += 3\n",
    "        elif opcode == 7:\n",
    "            if (int_input[int_input[i+1]] if modes[0] == 0 else int_input[i+1]) <\\\n",
    "            (int_input[int_input[i+2]] if modes[1] == 0 else int_input[i+2]):\n",
    "                int_input[int_input[i+3]] = 1\n",
    "            else:\n",
    "                int_input[int_input[i+3]] = 0\n",
    "            i += 4\n",
    "        elif opcode == 8:\n",
    "            if (int_input[int_input[i+1]] if modes[0] == 0 else int_input[i+1]) ==\\\n",
    "            (int_input[int_input[i+2]] if modes[1] == 0 else int_input[i+2]):\n",
    "                int_input[int_input[i+3]] = 1\n",
    "            else:\n",
    "                int_input[int_input[i+3]] = 0\n",
    "            i += 4\n",
    "        elif opcode == 9:\n",
    "            relative_base += int_input[i+1]\n",
    "        elif opcode == 99:\n",
    "            return int_input[0]\n",
    "            check = False\n",
    "            break"
   ]
  },
  {
   "cell_type": "code",
   "execution_count": null,
   "metadata": {},
   "outputs": [],
   "source": [
    "ans = amplifier_9([1], int_input)\n",
    "ans"
   ]
  },
  {
   "cell_type": "code",
   "execution_count": null,
   "metadata": {},
   "outputs": [],
   "source": []
  },
  {
   "cell_type": "code",
   "execution_count": null,
   "metadata": {},
   "outputs": [],
   "source": [
    "#tizedik nap"
   ]
  },
  {
   "cell_type": "code",
   "execution_count": null,
   "metadata": {},
   "outputs": [],
   "source": [
    "from collections import OrderedDict\n",
    "\n",
    "inputs = open('adventofcode2019_input10.txt').read().splitlines()\n",
    "eg = []\n",
    "for i in inputs:\n",
    "    eg.append(list(i.strip()))"
   ]
  },
  {
   "cell_type": "code",
   "execution_count": null,
   "metadata": {},
   "outputs": [],
   "source": [
    "def tavolsag(i, ii): #mivel egység oldalú kockáknál az átló 2**.5 mindig, s ez arányosan nő a koordináták távolságával, így\n",
    "    tx = i[0] - ii[0]                                                   #a koordináták különb / távolság hányados állandó  \n",
    "    ty = i[1] - ii[1]                                                   #egy irányban lévő pontoknál(aszteroidoknál)\n",
    "    m = (tx*tx + ty*ty)**.5\n",
    "    ty /= m\n",
    "    tx /= m\n",
    "    return round(tx, 8), round(ty, 8), m"
   ]
  },
  {
   "cell_type": "code",
   "execution_count": null,
   "metadata": {},
   "outputs": [],
   "source": [
    "aszteroidak = []\n",
    "\n",
    "for r in range(len(eg)):\n",
    "    for c in range(len(eg[0])):\n",
    "        if eg[r][c] == '#':\n",
    "            aszteroidak.append([c,r])"
   ]
  },
  {
   "cell_type": "code",
   "execution_count": null,
   "metadata": {},
   "outputs": [],
   "source": [
    "part1 = 0\n",
    "for i in aszteroidak:\n",
    "    lathato_aszteroidak = set() #csak új elemet lehet hozzáadni az add-dal\n",
    "    for ii in aszteroidak:\n",
    "        if i == ii:\n",
    "            continue #nullával osztanánk ha egy pont önmagtától vett távolságát néznénk\n",
    "        la1, la2,_ = tavolsag(i,ii)\n",
    "        lathato_aszteroidak.add((la1,la2))\n",
    "    if len(lathato_aszteroidak) > part1:\n",
    "        part1 = len(lathato_aszteroidak)\n",
    "        station = i\n",
    "\n",
    "print(part1, station)"
   ]
  },
  {
   "cell_type": "code",
   "execution_count": 70,
   "metadata": {},
   "outputs": [
    {
     "name": "stdout",
     "output_type": "stream",
     "text": [
      "0.0 1.0\n",
      "0.70710678 0.70710678\n",
      "1.0 0.0\n",
      "0.70710678 -0.70710678\n",
      "0.0 -1.0\n",
      "-0.70710678 -0.70710678\n",
      "-1.0 0.0\n",
      "-0.70710678 0.70710678\n"
     ]
    }
   ],
   "source": [
    "#8 3\n",
    "station = [0,0]\n",
    "\n",
    "ii = [0,1]\n",
    "iii = [1,1]\n",
    "iiii = [1,0]\n",
    "iiiii = [1,-1]\n",
    "iiiiii = [0,-1]\n",
    "iiiiiii = [-1,-1]\n",
    "iiiiiiii = [-1,0]\n",
    "iiiiiiiii = [-1,1]\n",
    "\n",
    "x,y,m = tavolsag(station, ii)\n",
    "print(x,y)\n",
    "x,y,m = tavolsag(station, iii)\n",
    "print(x,y)\n",
    "x,y,m = tavolsag(station, iiii)\n",
    "print(x,y)\n",
    "x,y,m = tavolsag(station, iiiii)\n",
    "print(x,y)\n",
    "x,y,m = tavolsag(station, iiiiii)\n",
    "print(x,y)\n",
    "x,y,m = tavolsag(station, iiiiiii)\n",
    "print(x,y)\n",
    "x,y,m = tavolsag(station, iiiiiiii)\n",
    "print(x,y)\n",
    "x,y,m = tavolsag(station, iiiiiiiii)\n",
    "print(x,y)"
   ]
  },
  {
   "cell_type": "code",
   "execution_count": null,
   "metadata": {},
   "outputs": [],
   "source": [
    "aszteroidak = [tuple(i) for i in aszteroidak]\n",
    "station = tuple(station)\n",
    "for i in aszteroidak:\n",
    "    if i == station:\n",
    "        continue\n",
    "    dx, dy, m = tavolsag(i, station)\n",
    "    lathato_aszteroidak.add(((round(dx, 8), round(dy, 8))))"
   ]
  },
  {
   "cell_type": "code",
   "execution_count": null,
   "metadata": {},
   "outputs": [],
   "source": [
    "negyedek = [[], [], [], []] #aszteroida gyűjtő fertályonként listázva\n",
    "tengelyek = [False] * 4    #koordináta rendszer tengelyei\n",
    "cardin = {\n",
    "    0: (0.0, -1.0),\n",
    "    1: (1.0, 0.0),\n",
    "    2: (0.0, 1.0),\n",
    "    3: (-1.0, 0.0),\n",
    "}"
   ]
  },
  {
   "cell_type": "code",
   "execution_count": null,
   "metadata": {},
   "outputs": [],
   "source": [
    "for i in lathato_aszteroidak:\n",
    "    if i == cardin[0]: #pont az y tengely alsó részének irányában van az aszteroida\n",
    "        tengelyek[0] = True\n",
    "    elif i[1] < 0 and i[0] > 0: #jobb alsó fertály\n",
    "        negyedek[0].append(i) \n",
    "    elif i == cardin[1]:         #x tengely jobb oldalán áll\n",
    "        tengelyek[1] = True\n",
    "    elif i[1] > 0 and i[0] > 0: #jobb felső fertály\n",
    "        negyedek[1].append(i)\n",
    "    elif i == cardin[2]:         #y tengely felső részén áll\n",
    "        tengelyek[2] = True\n",
    "    elif i[1] > 0 and i[0] < 0: #bal felső fertály\n",
    "        negyedek[2].append(i)\n",
    "    elif i == cardin[3]:         #x tengely bal oldalán áll\n",
    "        tengelyek[3] = True\n",
    "    elif i[1] < 0 and i[0] < 0: #bal alsó fertály \n",
    "        negyedek[3].append(i)"
   ]
  },
  {
   "cell_type": "code",
   "execution_count": null,
   "metadata": {},
   "outputs": [],
   "source": [
    "egy_iranyban = OrderedDict()\n",
    "for i in range(4):\n",
    "    if tengelyek[i]:                      #ha a tengelyen van aszteroida\n",
    "        egy_iranyban[cardin[i]] = [] \n",
    "        for ii in aszteroidak:\n",
    "            if ii != station:\n",
    "                dx, dy, m = tavolsag(ii, station)\n",
    "                if (dx, dy) in egy_iranyban:\n",
    "                        egy_iranyban[(dx, dy)].append(ii + (m,))\n",
    "                        \n",
    "    negyedek[i].sort(key = lambda x: x[0]/x[1], reverse=True)\n",
    "    \n",
    "    for iiii in negyedek[i]:\n",
    "        egy_iranyban[iiii] = []\n",
    "        for iii in aszteroidak:\n",
    "            if iii != station:\n",
    "                dx, dy, m = tavolsag(iii, station)\n",
    "                if (dx, dy) in egy_iranyban:\n",
    "                    egy_iranyban[(dx, dy)].append(iii + (m,))\n",
    "\n",
    "[egy_iranyban[i].sort(key = lambda x: x[2]) for i in egy_iranyban.keys()]"
   ]
  },
  {
   "cell_type": "code",
   "execution_count": 2,
   "metadata": {},
   "outputs": [
    {
     "name": "stdout",
     "output_type": "stream",
     "text": [
      "1321\n"
     ]
    }
   ],
   "source": [
    "vaporized = 0\n",
    "while vaporized < 200:\n",
    "    for i in egy_iranyban.keys():\n",
    "        if vaporized == 200:\n",
    "            break\n",
    "        if egy_iranyban[i]:\n",
    "            vap = egy_iranyban[i].pop(0)\n",
    "            vaporized += 1\n",
    "print(100*vap[0] + vap[1])"
   ]
  },
  {
   "cell_type": "code",
   "execution_count": null,
   "metadata": {},
   "outputs": [],
   "source": [
    "#tizenkettedik nap"
   ]
  },
  {
   "cell_type": "code",
   "execution_count": 8,
   "metadata": {},
   "outputs": [
    {
     "name": "stdout",
     "output_type": "stream",
     "text": [
      "[{'x': 3, 'y': 15, 'z': 8}, {'x': 5, 'y': -1, 'z': -2}, {'x': -10, 'y': 8, 'z': 2}, {'x': 8, 'y': 4, 'z': -5}]\n",
      "[{'x': 0, 'y': 0, 'z': 0}, {'x': 0, 'y': 0, 'z': 0}, {'x': 0, 'y': 0, 'z': 0}, {'x': 0, 'y': 0, 'z': 0}]\n"
     ]
    }
   ],
   "source": [
    "positions = [] #hosszú adattisztítás\n",
    "velocities = []\n",
    "for i in open('adventofcode2019_input12.txt').readlines():\n",
    "    i = i.strip()\n",
    "    i = i[1:-1]\n",
    "    words = i.split()\n",
    "    bolygo = {}\n",
    "    for ii in words:\n",
    "        k,v = ii.split('=')\n",
    "        if v.endswith(','):\n",
    "            v = v[:-1]\n",
    "        bolygo[k] = int(v)\n",
    "    positions.append(bolygo)\n",
    "    velocities.append({'x': 0, 'y': 0, 'z': 0})\n",
    "print(positions)\n",
    "print(velocities)"
   ]
  },
  {
   "cell_type": "code",
   "execution_count": 6,
   "metadata": {},
   "outputs": [],
   "source": [
    "def pozicio_szamolo():\n",
    "    for pos1 in range(len(positions)): #minden csillagpozicion atmegy\n",
    "        for pos2 in range(len(positions)): \n",
    "            for pos3 in positions[pos1]:\n",
    "                if positions[pos1][pos3] < positions[pos2][pos3]: #ha a vizsgált két csillag (pos1, pos2) adott dimenziójú távolsága negatív, akkor hozzáad a pos1 velocitiyhez\n",
    "                    velocities[pos1][pos3] += 1\n",
    "                if positions[pos1][pos3] > positions[pos2][pos3]:#ha a vizsgált két csillag (pos1, pos2) adott dimenziójú távolsága pozitív, akkor kivon a pos1 velocitybol\n",
    "                    velocities[pos1][pos3] -= 1\n",
    "    for pos1 in range(len(positions)):\n",
    "        for pos3 in positions[pos1]:\n",
    "            positions[pos1][pos3] += velocities[pos1][pos3] #gravitacio utan hozzaadja a gyorsulasokat"
   ]
  },
  {
   "cell_type": "code",
   "execution_count": 7,
   "metadata": {},
   "outputs": [
    {
     "name": "stdout",
     "output_type": "stream",
     "text": [
      "7179\n"
     ]
    }
   ],
   "source": [
    "for _ in range(1000): #1000 permutáció\n",
    "    pozicio_szamolo()\n",
    "p1 = 0\n",
    "for i in range(len(positions)): \n",
    "    pot = 0\n",
    "    kin = 0\n",
    "    for k in positions[i]: #kiszámolja a totál energiát\n",
    "        pot += abs(positions[i][k])\n",
    "        kin += abs(velocities[i][k])\n",
    "    p1 += pot*kin\n",
    "print(p1)"
   ]
  },
  {
   "cell_type": "code",
   "execution_count": null,
   "metadata": {},
   "outputs": [],
   "source": [
    "#tizenhatodik nap"
   ]
  },
  {
   "cell_type": "code",
   "execution_count": null,
   "metadata": {},
   "outputs": [],
   "source": [
    "adatok = [int(x) for x in open('adventofcode2019_input16.txt').read().strip()]"
   ]
  },
  {
   "cell_type": "code",
   "execution_count": null,
   "metadata": {},
   "outputs": [],
   "source": [
    "def func(inputs):\n",
    "    line_of_output = [0]*len(inputs)\n",
    "    inputs = [0]+inputs #offset\n",
    "    for i in range(len(line_of_output)):\n",
    "        ans = 0\n",
    "        for ii in range(len(inputs)):\n",
    "            #az i*k-k közötti részt a kerekítéses osztással az ii mindig i db osztályközre bontja\n",
    "            pointer = (ii//(i+1))%4\n",
    "            new_value = {0:0, 1:1, 2:0, 3:-1}[pointer]\n",
    "            line_of_output[i] += inputs[ii]*new_value\n",
    "            \n",
    "    final_line = []\n",
    "\n",
    "    for i in line_of_output:\n",
    "        if len(str(line_of_output)) == 1:\n",
    "            final_line.append(i)\n",
    "        else:\n",
    "            c = int(str(i)[-1])\n",
    "            final_line.append(c)\n",
    "    return final_line\n",
    "\n",
    "for phase in range(100):\n",
    "    adatok = func(adatok)\n",
    "adatok[:8]"
   ]
  },
  {
   "cell_type": "code",
   "execution_count": null,
   "metadata": {},
   "outputs": [],
   "source": [
    "#huszonkettedik nap"
   ]
  },
  {
   "cell_type": "code",
   "execution_count": 68,
   "metadata": {},
   "outputs": [],
   "source": [
    "def into(inp):\n",
    "    return list(reversed(inp))"
   ]
  },
  {
   "cell_type": "code",
   "execution_count": 69,
   "metadata": {},
   "outputs": [],
   "source": [
    "def withie(inp, number):\n",
    "    out = [0]*len(inp)\n",
    "    pointer = 0\n",
    "    for i in range(len(inp)):\n",
    "        pointer = pointer%len(inp)\n",
    "        out[pointer] = inp[i]\n",
    "        pointer += number\n",
    "    return out"
   ]
  },
  {
   "cell_type": "code",
   "execution_count": 70,
   "metadata": {},
   "outputs": [],
   "source": [
    "def cut(inp, number):\n",
    "    b = inp[:number]\n",
    "    [inp.remove(i) for i in b]\n",
    "    out = inp + b\n",
    "    return out"
   ]
  },
  {
   "cell_type": "code",
   "execution_count": 79,
   "metadata": {},
   "outputs": [
    {
     "name": "stdout",
     "output_type": "stream",
     "text": [
      "8326\n"
     ]
    }
   ],
   "source": [
    "inputs = open('adventofcode2019_input22.txt').read().splitlines()\n",
    "\n",
    "shuffled = [i for i in range(10007)]\n",
    "\n",
    "\n",
    "for i in range(len(inputs)):\n",
    "    if len(inputs[i].split()) == 2: #cut\n",
    "        numb = int(inputs[i].split()[-1])\n",
    "        shuffled = cut(shuffled, numb)\n",
    "    elif inputs[i].split()[1] == 'with': #deal with increment\n",
    "        numb = int(inputs[i].split()[-1])\n",
    "        shuffled = withie(shuffled, numb)\n",
    "    elif inputs[i].split()[1] == 'into': #deal into new stack\n",
    "        shuffled = into(shuffled)\n",
    "print(shuffled.index(2019))"
   ]
  },
  {
   "cell_type": "code",
   "execution_count": null,
   "metadata": {},
   "outputs": [],
   "source": [
    "inputs = open('adventofcode2019_input22.txt').read().splitlines()\n",
    "\n",
    "shuffled = [i for i in range(119315717514047)]\n",
    "\n",
    "\n",
    "for i in range(len(inputs)*101741582076661):\n",
    "    if len(inputs[i].split()) == 2: #cut\n",
    "        numb = int(inputs[i].split()[-1])\n",
    "        shuffled = cut(shuffled, numb)\n",
    "    elif inputs[i].split()[1] == 'with': #deal with increment\n",
    "        numb = int(inputs[i].split()[-1])\n",
    "        shuffled = withie(shuffled, numb)\n",
    "    elif inputs[i].split()[1] == 'into': #deal into new stack\n",
    "        shuffled = into(shuffled)\n",
    "print(shuffled[2020])"
   ]
  },
  {
   "cell_type": "code",
   "execution_count": null,
   "metadata": {},
   "outputs": [],
   "source": []
  },
  {
   "cell_type": "code",
   "execution_count": null,
   "metadata": {},
   "outputs": [],
   "source": []
  },
  {
   "cell_type": "code",
   "execution_count": null,
   "metadata": {},
   "outputs": [],
   "source": []
  }
 ],
 "metadata": {
  "kernelspec": {
   "display_name": "Python 3",
   "language": "python",
   "name": "python3"
  },
  "language_info": {
   "codemirror_mode": {
    "name": "ipython",
    "version": 3
   },
   "file_extension": ".py",
   "mimetype": "text/x-python",
   "name": "python",
   "nbconvert_exporter": "python",
   "pygments_lexer": "ipython3",
   "version": "3.7.1"
  }
 },
 "nbformat": 4,
 "nbformat_minor": 2
}
