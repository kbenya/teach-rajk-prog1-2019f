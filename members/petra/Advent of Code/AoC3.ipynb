{
 "cells": [
  {
   "cell_type": "code",
   "execution_count": 13,
   "metadata": {
    "scrolled": true
   },
   "outputs": [
    {
     "name": "stdout",
     "output_type": "stream",
     "text": [
      "[1, 0, 0, 3, 1, 1, 2, 3, 1, 3, 4, 3, 1, 5, 0, 3, 2, 6, 1, 19, 1, 19, 5, 23, 2, 9, 23, 27, 1, 5, 27, 31, 1, 5, 31, 35, 1, 35, 13, 39, 1, 39, 9, 43, 1, 5, 43, 47, 1, 47, 6, 51, 1, 51, 13, 55, 1, 55, 9, 59, 1, 59, 13, 63, 2, 63, 13, 67, 1, 67, 10, 71, 1, 71, 6, 75, 2, 10, 75, 79, 2, 10, 79, 83, 1, 5, 83, 87, 2, 6, 87, 91, 1, 91, 6, 95, 1, 95, 13, 99, 2, 99, 13, 103, 1, 103, 9, 107, 1, 10, 107, 111, 2, 111, 13, 115, 1, 10, 115, 119, 1, 10, 119, 123, 2, 13, 123, 127, 2, 6, 127, 131, 1, 13, 131, 135, 1, 135, 2, 139, 1, 139, 6, 0, 99, 2, 0, 14, 0]\n"
     ]
    }
   ],
   "source": [
    "with open(\"AoC3.txt\") as f:\n",
    "    content = f.read()\n",
    "    szamok = content.split(',')\n",
    "    szamok = [int(x) for x in szamok]\n",
    "    \n",
    "print(szamok)\n",
    "###jump = 0\n",
    "###osszeadas = szamok[szamok[jump + 1 ]] + szamok[szamok[jump + 2]]\n",
    "###index = szamok[jump + 3]\n",
    "###szamok[index] = osszeadas\n",
    "###print(szamok)"
   ]
  },
  {
   "cell_type": "code",
   "execution_count": 14,
   "metadata": {},
   "outputs": [],
   "source": [
    "def AoC3(szamok):\n",
    "\n",
    "    szamok[1] = 12\n",
    "    szamok[2] = 2\n",
    "\n",
    "    jump = 0\n",
    "\n",
    "    while jump < len(szamok):\n",
    "\n",
    "        if szamok[jump] == 1:\n",
    "            print(szamok[jump + 1 ])\n",
    "            print(szamok[jump + 2])\n",
    "            print(szamok[szamok[jump + 1 ]])\n",
    "            print(szamok[szamok[jump + 2 ]])\n",
    "            osszeadas = szamok[szamok[jump + 1 ]] + szamok[szamok[jump + 2]]\n",
    "            index = szamok[jump + 3]\n",
    "            szamok[index] = osszeadas\n",
    "\n",
    "        if szamok[jump] == 2:\n",
    "            szorzas = szamok[szamok[jump + 1 ]] * szamok[szamok[jump + 2]]\n",
    "            index = szamok[jump + 3]\n",
    "            szamok[index] = szorzas\n",
    "\n",
    "        if szamok[jump] == 99:\n",
    "            break\n",
    "            \n",
    "        else:\n",
    "            print(\"something went wrong\")\n",
    "            \n",
    "        jump = jump + 4\n",
    "        \n",
    "    return szamok[0]"
   ]
  },
  {
   "cell_type": "code",
   "execution_count": 15,
   "metadata": {},
   "outputs": [
    {
     "name": "stdout",
     "output_type": "stream",
     "text": [
      "12\n",
      "2\n",
      "1\n",
      "2\n",
      "something went wrong\n",
      "1\n",
      "2\n",
      "12\n",
      "2\n",
      "something went wrong\n",
      "3\n",
      "4\n",
      "14\n",
      "1\n",
      "something went wrong\n",
      "5\n",
      "0\n",
      "1\n",
      "1\n",
      "something went wrong\n",
      "something went wrong\n",
      "19\n",
      "5\n",
      "24\n",
      "1\n",
      "something went wrong\n",
      "something went wrong\n",
      "5\n",
      "27\n",
      "1\n",
      "75\n",
      "something went wrong\n",
      "5\n",
      "31\n",
      "1\n",
      "76\n",
      "something went wrong\n",
      "35\n",
      "13\n",
      "77\n",
      "5\n",
      "something went wrong\n",
      "39\n",
      "9\n",
      "82\n",
      "3\n",
      "something went wrong\n",
      "5\n",
      "43\n",
      "1\n",
      "85\n",
      "something went wrong\n",
      "47\n",
      "6\n",
      "86\n",
      "2\n",
      "something went wrong\n",
      "51\n",
      "13\n",
      "88\n",
      "5\n",
      "something went wrong\n",
      "55\n",
      "9\n",
      "93\n",
      "3\n",
      "something went wrong\n",
      "59\n",
      "13\n",
      "96\n",
      "5\n",
      "something went wrong\n",
      "something went wrong\n",
      "67\n",
      "10\n",
      "505\n",
      "4\n",
      "something went wrong\n",
      "71\n",
      "6\n",
      "509\n",
      "2\n",
      "something went wrong\n",
      "something went wrong\n",
      "something went wrong\n",
      "5\n",
      "83\n",
      "1\n",
      "8176\n",
      "something went wrong\n",
      "something went wrong\n",
      "91\n",
      "6\n",
      "16354\n",
      "2\n",
      "something went wrong\n",
      "95\n",
      "13\n",
      "16356\n",
      "5\n",
      "something went wrong\n",
      "something went wrong\n",
      "103\n",
      "9\n",
      "81805\n",
      "3\n",
      "something went wrong\n",
      "10\n",
      "107\n",
      "4\n",
      "81808\n",
      "something went wrong\n",
      "something went wrong\n",
      "10\n",
      "115\n",
      "4\n",
      "409060\n",
      "something went wrong\n",
      "10\n",
      "119\n",
      "4\n",
      "409064\n",
      "something went wrong\n",
      "something went wrong\n",
      "something went wrong\n",
      "13\n",
      "131\n",
      "5\n",
      "4090680\n",
      "something went wrong\n",
      "135\n",
      "2\n",
      "4090685\n",
      "2\n",
      "something went wrong\n",
      "139\n",
      "6\n",
      "4090687\n",
      "2\n",
      "something went wrong\n"
     ]
    },
    {
     "data": {
      "text/plain": [
       "4090689"
      ]
     },
     "execution_count": 15,
     "metadata": {},
     "output_type": "execute_result"
    }
   ],
   "source": [
    "AoC3(szamok)\n"
   ]
  },
  {
   "cell_type": "code",
   "execution_count": 16,
   "metadata": {},
   "outputs": [],
   "source": [
    "### Adatok betöltése\n",
    "### Indulópont\n",
    "### while-lal iteráljon a pozíciók között\n",
    "### if feltételek, hogyan menjen tovább\n",
    "### végén ugorjon tovább 4-gyel"
   ]
  },
  {
   "cell_type": "code",
   "execution_count": null,
   "metadata": {},
   "outputs": [],
   "source": []
  },
  {
   "cell_type": "code",
   "execution_count": 17,
   "metadata": {},
   "outputs": [
    {
     "name": "stdout",
     "output_type": "stream",
     "text": [
      "[1, 0, 0, 3, 1, 1, 2, 3, 1, 3, 4, 3, 1, 5, 0, 3, 2, 6, 1, 19, 1, 19, 5, 23, 2, 9, 23, 27, 1, 5, 27, 31, 1, 5, 31, 35, 1, 35, 13, 39, 1, 39, 9, 43, 1, 5, 43, 47, 1, 47, 6, 51, 1, 51, 13, 55, 1, 55, 9, 59, 1, 59, 13, 63, 2, 63, 13, 67, 1, 67, 10, 71, 1, 71, 6, 75, 2, 10, 75, 79, 2, 10, 79, 83, 1, 5, 83, 87, 2, 6, 87, 91, 1, 91, 6, 95, 1, 95, 13, 99, 2, 99, 13, 103, 1, 103, 9, 107, 1, 10, 107, 111, 2, 111, 13, 115, 1, 10, 115, 119, 1, 10, 119, 123, 2, 13, 123, 127, 2, 6, 127, 131, 1, 13, 131, 135, 1, 135, 2, 139, 1, 139, 6, 0, 99, 2, 0, 14, 0]\n"
     ]
    }
   ],
   "source": [
    "with open(\"AoC4.txt\") as f:\n",
    "    content = f.read()\n",
    "    szamok = content.split(',')\n",
    "    szamok = [int(x) for x in szamok]\n",
    "    \n",
    "print(szamok)"
   ]
  },
  {
   "cell_type": "code",
   "execution_count": 20,
   "metadata": {},
   "outputs": [],
   "source": [
    "\n"
   ]
  },
  {
   "cell_type": "code",
   "execution_count": null,
   "metadata": {},
   "outputs": [],
   "source": []
  },
  {
   "cell_type": "code",
   "execution_count": null,
   "metadata": {},
   "outputs": [],
   "source": []
  },
  {
   "cell_type": "code",
   "execution_count": null,
   "metadata": {},
   "outputs": [],
   "source": []
  },
  {
   "cell_type": "code",
   "execution_count": null,
   "metadata": {},
   "outputs": [],
   "source": []
  }
 ],
 "metadata": {
  "kernelspec": {
   "display_name": "Python 3",
   "language": "python",
   "name": "python3"
  },
  "language_info": {
   "codemirror_mode": {
    "name": "ipython",
    "version": 3
   },
   "file_extension": ".py",
   "mimetype": "text/x-python",
   "name": "python",
   "nbconvert_exporter": "python",
   "pygments_lexer": "ipython3",
   "version": "3.7.3"
  }
 },
 "nbformat": 4,
 "nbformat_minor": 2
}
