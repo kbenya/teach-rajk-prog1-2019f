{
 "cells": [
  {
   "cell_type": "code",
   "execution_count": 12,
   "metadata": {},
   "outputs": [
    {
     "name": "stdout",
     "output_type": "stream",
     "text": [
      "1180\n"
     ]
    }
   ],
   "source": [
    "numbers = list(range(146810,612564))\n",
    "numbers = [str(x) for x in numbers]\n",
    "solution = []\n",
    "for number in numbers:\n",
    "    if number[0] <= number[1] <= number[2] <= number[3] <= number[4] <= number[5]:\n",
    "        solution.append(number)\n",
    "            \n",
    "solution_list = []\n",
    "for jegy in solution:\n",
    "    if jegy[0] == jegy[1] and jegy[0] != jegy[2] or jegy[1] == jegy[2] and jegy[1] != jegy[0] and jegy[1] != jegy[3] or jegy[2] == jegy[3] and jegy[2] != jegy[1] and jegy[2] != jegy[4] or jegy[3] == jegy[4] and jegy[3] != jegy[2] and jegy[3] != jegy[5] or jegy[4] == jegy[5] and jegy[4] != jegy[3]:\n",
    "        solution_list.append(jegy)\n",
    "print(len(solution_list))"
   ]
  },
  {
   "cell_type": "code",
   "execution_count": null,
   "metadata": {},
   "outputs": [],
   "source": []
  },
  {
   "cell_type": "code",
   "execution_count": null,
   "metadata": {},
   "outputs": [],
   "source": []
  }
 ],
 "metadata": {
  "kernelspec": {
   "display_name": "Python 3",
   "language": "python",
   "name": "python3"
  },
  "language_info": {
   "codemirror_mode": {
    "name": "ipython",
    "version": 3
   },
   "file_extension": ".py",
   "mimetype": "text/x-python",
   "name": "python",
   "nbconvert_exporter": "python",
   "pygments_lexer": "ipython3",
   "version": "3.7.3"
  }
 },
 "nbformat": 4,
 "nbformat_minor": 2
}
