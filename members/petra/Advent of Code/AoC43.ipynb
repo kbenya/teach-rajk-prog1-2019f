{
 "cells": [
  {
   "cell_type": "markdown",
   "metadata": {},
   "source": [
    "### Part1"
   ]
  },
  {
   "cell_type": "code",
   "execution_count": 1,
   "metadata": {},
   "outputs": [],
   "source": [
    "def newstack(inputlist):\n",
    "    newstack_list = []\n",
    "    for i in range (0, len(inputlist)):\n",
    "        newstack_list.append(inputlist[len(inputlist)-1-i])\n",
    "    \n",
    "    return newstack_list\n",
    "\n",
    "\n",
    "def cut(inputlist, number):\n",
    "    cut_first = inputlist[:number]\n",
    "    cut_second = inputlist[number:]\n",
    "    cut_list = cut_second + cut_first\n",
    "    \n",
    "    return cut_list\n",
    "\n",
    "def increment(inputlist, increment):\n",
    "    increment_list = [0]*len(inputlist)\n",
    "    for i in range(len(inputlist)):\n",
    "            increment_list[increment * i % len(increment_list)] = inputlist[i]\n",
    "    return increment_list"
   ]
  },
  {
   "cell_type": "code",
   "execution_count": 2,
   "metadata": {},
   "outputs": [
    {
     "name": "stdout",
     "output_type": "stream",
     "text": [
      "[['deal', 'with', 'increment', '2'], ['cut', '3310'], ['deal', 'with', 'increment', '13'], ['cut', '-9214'], ['deal', 'with', 'increment', '14'], ['deal', 'into', 'new', 'stack'], ['deal', 'with', 'increment', '26'], ['deal', 'into', 'new', 'stack'], ['deal', 'with', 'increment', '62'], ['cut', '-1574'], ['deal', 'with', 'increment', '74'], ['cut', '-7102'], ['deal', 'with', 'increment', '41'], ['cut', '7618'], ['deal', 'with', 'increment', '70'], ['cut', '7943'], ['deal', 'into', 'new', 'stack'], ['deal', 'with', 'increment', '52'], ['cut', '-3134'], ['deal', 'with', 'increment', '21'], ['deal', 'into', 'new', 'stack'], ['deal', 'with', 'increment', '20'], ['deal', 'into', 'new', 'stack'], ['deal', 'with', 'increment', '61'], ['cut', '-2810'], ['deal', 'with', 'increment', '60'], ['cut', '3355'], ['deal', 'with', 'increment', '13'], ['cut', '3562'], ['deal', 'with', 'increment', '55'], ['cut', '2600'], ['deal', 'with', 'increment', '47'], ['deal', 'into', 'new', 'stack'], ['cut', '-7010'], ['deal', 'with', 'increment', '34'], ['cut', '1726'], ['deal', 'with', 'increment', '61'], ['cut', '2805'], ['deal', 'with', 'increment', '39'], ['cut', '1907'], ['deal', 'into', 'new', 'stack'], ['cut', '3915'], ['deal', 'with', 'increment', '14'], ['cut', '-6590'], ['deal', 'into', 'new', 'stack'], ['deal', 'with', 'increment', '73'], ['deal', 'into', 'new', 'stack'], ['deal', 'with', 'increment', '31'], ['cut', '1000'], ['deal', 'with', 'increment', '3'], ['cut', '8355'], ['deal', 'with', 'increment', '2'], ['cut', '-5283'], ['deal', 'with', 'increment', '50'], ['cut', '-7150'], ['deal', 'with', 'increment', '71'], ['cut', '6728'], ['deal', 'with', 'increment', '58'], ['cut', '-814'], ['deal', 'with', 'increment', '14'], ['cut', '-8392'], ['deal', 'with', 'increment', '71'], ['cut', '7674'], ['deal', 'with', 'increment', '46'], ['deal', 'into', 'new', 'stack'], ['deal', 'with', 'increment', '55'], ['cut', '7026'], ['deal', 'with', 'increment', '17'], ['cut', '1178'], ['deal', 'with', 'increment', '10'], ['cut', '-8205'], ['deal', 'with', 'increment', '27'], ['cut', '-55'], ['deal', 'with', 'increment', '44'], ['cut', '-2392'], ['deal', 'into', 'new', 'stack'], ['cut', '7385'], ['deal', 'with', 'increment', '36'], ['cut', '-399'], ['deal', 'with', 'increment', '74'], ['cut', '6895'], ['deal', 'with', 'increment', '20'], ['cut', '4346'], ['deal', 'with', 'increment', '15'], ['cut', '-4088'], ['deal', 'with', 'increment', '3'], ['cut', '1229'], ['deal', 'with', 'increment', '59'], ['cut', '4708'], ['deal', 'with', 'increment', '62'], ['cut', '2426'], ['deal', 'with', 'increment', '30'], ['cut', '7642'], ['deal', 'with', 'increment', '73'], ['cut', '9049'], ['deal', 'into', 'new', 'stack'], ['cut', '-3866'], ['deal', 'with', 'increment', '68'], ['deal', 'into', 'new', 'stack'], ['cut', '1407']]\n"
     ]
    }
   ],
   "source": [
    "with open(\"AoC43.txt\") as fp:\n",
    "    instructions = fp.read()\n",
    "    instructions = instructions.split('\\n')\n",
    "\n",
    "new_instructions = []\n",
    "for num in instructions:\n",
    "    new_instructions.append(num.split(' '))\n",
    "\n",
    "print(new_instructions)"
   ]
  },
  {
   "cell_type": "code",
   "execution_count": 3,
   "metadata": {
    "scrolled": true
   },
   "outputs": [],
   "source": [
    "factory_order = list(range(10007))\n",
    "for technique in new_instructions:\n",
    "    if technique[0] == 'deal' and technique[1] == 'into':\n",
    "        new_order = newstack(factory_order)\n",
    "    elif technique[0] == 'deal' and technique[1] == 'with':\n",
    "        new_order = increment(factory_order, int(technique[3]))\n",
    "    else:\n",
    "        new_order = cut(factory_order, int(technique[1]))\n",
    "    \n",
    "    factory_order = new_order"
   ]
  },
  {
   "cell_type": "code",
   "execution_count": 4,
   "metadata": {},
   "outputs": [
    {
     "name": "stdout",
     "output_type": "stream",
     "text": [
      "1498\n"
     ]
    }
   ],
   "source": [
    "print(factory_order.index(2019))"
   ]
  },
  {
   "cell_type": "code",
   "execution_count": null,
   "metadata": {},
   "outputs": [],
   "source": []
  },
  {
   "cell_type": "code",
   "execution_count": null,
   "metadata": {},
   "outputs": [],
   "source": []
  }
 ],
 "metadata": {
  "kernelspec": {
   "display_name": "Python 3",
   "language": "python",
   "name": "python3"
  },
  "language_info": {
   "codemirror_mode": {
    "name": "ipython",
    "version": 3
   },
   "file_extension": ".py",
   "mimetype": "text/x-python",
   "name": "python",
   "nbconvert_exporter": "python",
   "pygments_lexer": "ipython3",
   "version": "3.7.3"
  }
 },
 "nbformat": 4,
 "nbformat_minor": 2
}
