{
 "cells": [
  {
   "cell_type": "code",
   "execution_count": 33,
   "metadata": {},
   "outputs": [],
   "source": [
    "import math\n",
    "        "
   ]
  },
  {
   "cell_type": "code",
   "execution_count": 34,
   "metadata": {
    "scrolled": true
   },
   "outputs": [
    {
     "name": "stdout",
     "output_type": "stream",
     "text": [
      "[88062, 147838, 73346, 80732, 89182, 86798, 145656, 53825, 79515, 78250, 143033, 53680, 89366, 123255, 74974, 65373, 107733, 118266, 50726, 87810, 104355, 85331, 109624, 54282, 107472, 119291, 128702, 81132, 94609, 105929, 63918, 113360, 66932, 145080, 132130, 63858, 104334, 140635, 67642, 111552, 93446, 59263, 133164, 119788, 97327, 77379, 144054, 110747, 89394, 123533, 86026, 124422, 108855, 125000, 99270, 55789, 146945, 103156, 141044, 94238, 136833, 54370, 69178, 142349, 72239, 149992, 50901, 112759, 105467, 90841, 55693, 52532, 92343, 134889, 143351, 123359, 134972, 59986, 85415, 136521, 81581, 131078, 131201, 56194, 142135, 69982, 140667, 110013, 67772, 108135, 92591, 87200, 78189, 73407, 145395, 131869, 143480, 82068, 82423, 110819]\n"
     ]
    }
   ],
   "source": [
    "with open(\"AoC2.txt\") as f:\n",
    "    mass = f.readlines()\n",
    "    mass = [x.strip() for x in mass]\n",
    "    \n",
    "    tomeg = [int(x) for x in mass]\n",
    "print(tomeg)"
   ]
  },
  {
   "cell_type": "code",
   "execution_count": 35,
   "metadata": {},
   "outputs": [
    {
     "name": "stdout",
     "output_type": "stream",
     "text": [
      "[29352, 49277, 24446, 26908, 29725, 28930, 48550, 17939, 26503, 26081, 47675, 17891, 29786, 41083, 24989, 21789, 35909, 39420, 16906, 29268, 34783, 28441, 36539, 18092, 35822, 39761, 42898, 27042, 31534, 35307, 21304, 37784, 22308, 48358, 44041, 21284, 34776, 46876, 22545, 37182, 31146, 19752, 44386, 39927, 32440, 25791, 48016, 36913, 29796, 41175, 28673, 41472, 36283, 41664, 33088, 18594, 48979, 34383, 47012, 31410, 45609, 18121, 23057, 47447, 24077, 49995, 16965, 37584, 35153, 30278, 18562, 17508, 30779, 44961, 47781, 41117, 44988, 19993, 28469, 45505, 27191, 43690, 43731, 18729, 47376, 23325, 46887, 36669, 22588, 36043, 30861, 29064, 26061, 24467, 48463, 43954, 47824, 27354, 27472, 36937]\n"
     ]
    }
   ],
   "source": [
    "fuel = []\n",
    "for benzin in tomeg:\n",
    "    fuel.append(math.floor(benzin/3)-2)\n",
    "\n",
    "print(fuel)"
   ]
  },
  {
   "cell_type": "code",
   "execution_count": 39,
   "metadata": {},
   "outputs": [
    {
     "name": "stdout",
     "output_type": "stream",
     "text": [
      "5017110\n"
     ]
    }
   ],
   "source": [
    "osszesen = []\n",
    "for egyseg in tomeg:\n",
    "    while (math.floor(egyseg/3)-2) > 0:\n",
    "        egyseg = math.floor(egyseg/3)-2\n",
    "        osszesen.append(egyseg)\n",
    "\n",
    "osszuzemanyag = sum(osszesen)\n",
    "print(osszuzemanyag)"
   ]
  },
  {
   "cell_type": "code",
   "execution_count": null,
   "metadata": {},
   "outputs": [],
   "source": []
  }
 ],
 "metadata": {
  "kernelspec": {
   "display_name": "Python 3",
   "language": "python",
   "name": "python3"
  },
  "language_info": {
   "codemirror_mode": {
    "name": "ipython",
    "version": 3
   },
   "file_extension": ".py",
   "mimetype": "text/x-python",
   "name": "python",
   "nbconvert_exporter": "python",
   "pygments_lexer": "ipython3",
   "version": "3.7.3"
  }
 },
 "nbformat": 4,
 "nbformat_minor": 2
}
