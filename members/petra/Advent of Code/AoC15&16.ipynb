{
 "cells": [
  {
   "cell_type": "code",
   "execution_count": 1,
   "metadata": {},
   "outputs": [],
   "source": [
    "with open(\"AoC15.txt\") as f:\n",
    "    szamok = f.read()\n",
    "    szamok = [int(x) for x in szamok]\n",
    "    \n",
    "#print(szamok)"
   ]
  },
  {
   "cell_type": "code",
   "execution_count": 60,
   "metadata": {},
   "outputs": [
    {
     "name": "stdout",
     "output_type": "stream",
     "text": [
      "10\n",
      "2048\n"
     ]
    }
   ],
   "source": [
    "list_of_layers = []\n",
    "index = 0\n",
    "layer = []\n",
    "for num in szamok:\n",
    "    index += 1\n",
    "    layer.append(num)\n",
    "    if index % 150 == 0:\n",
    "        list_of_layers.append(layer)\n",
    "        layer = []\n",
    "        \n",
    "#print(list_of_layers) \n",
    "\n",
    "zeros = []\n",
    "\n",
    "for layers in list_of_layers:\n",
    "    zero = 0\n",
    "    for num in layers:\n",
    "        if num == 0:\n",
    "            zero += 1\n",
    "    zeros.append(zero)\n",
    "#print(zeros)\n",
    "print(zeros.index(min(zeros)))\n",
    "\n",
    "\n",
    "ones = []\n",
    "\n",
    "for layers in list_of_layers:\n",
    "    one = 0\n",
    "    for num in layers:\n",
    "        if num == 1:\n",
    "            one += 1\n",
    "    ones.append(one)\n",
    "#print(ones)\n",
    "\n",
    "\n",
    "twos = []\n",
    "\n",
    "for layers in list_of_layers:\n",
    "    two = 0\n",
    "    for num in layers:\n",
    "        if num == 2:\n",
    "            two += 1\n",
    "    twos.append(two)\n",
    "#print(twos)\n",
    "\n",
    "\n",
    "solution = ones[10] * twos[10]\n",
    "print(solution)"
   ]
  },
  {
   "cell_type": "code",
   "execution_count": 77,
   "metadata": {},
   "outputs": [
    {
     "name": "stdout",
     "output_type": "stream",
     "text": [
      "[1, 0, 0, 1, 0, 1, 1, 1, 1, 0, 1, 1, 1, 0, 1, 0, 1, 1, 0, 0, 1, 0, 0, 1, 0]\n",
      "[1, 1, 0, 1, 0, 1, 0, 0, 0, 0, 1, 0, 0, 0, 1, 1, 0, 0, 1, 0, 1, 0, 1, 0, 0]\n",
      "[1, 1, 1, 1, 0, 1, 1, 1, 0, 0, 0, 1, 0, 1, 0, 1, 0, 0, 1, 0, 1, 1, 0, 0, 0]\n",
      "[1, 0, 0, 1, 0, 1, 0, 0, 0, 0, 0, 0, 1, 0, 0, 1, 1, 1, 1, 0, 1, 0, 1, 0, 0]\n",
      "[1, 0, 0, 1, 0, 1, 0, 0, 0, 0, 0, 0, 1, 0, 0, 1, 0, 0, 1, 0, 1, 0, 1, 0, 0]\n",
      "[1, 0, 0, 1, 0, 1, 0, 0, 0, 0, 0, 0, 1, 0, 0, 1, 0, 0, 1, 0, 1, 0, 0, 1, 0]\n"
     ]
    }
   ],
   "source": [
    "picture = list_of_layers[0]\n",
    "for layer in list_of_layers:\n",
    "    index = -1\n",
    "    for num in layer:\n",
    "        index += 1\n",
    "        if picture[index] == 2:\n",
    "            picture[index] = num\n",
    "            \n",
    "print(picture[:25])\n",
    "print(picture[25:50])\n",
    "print(picture[50:75])\n",
    "print(picture[75:100])\n",
    "print(picture[100:125])\n",
    "print(picture[125:150])\n",
    "        "
   ]
  },
  {
   "cell_type": "code",
   "execution_count": 78,
   "metadata": {},
   "outputs": [
    {
     "name": "stdout",
     "output_type": "stream",
     "text": [
      "[[1, 0, 0, 1, 0, 1, 1, 1, 1, 0, 1, 1, 1, 0, 1, 0, 1, 1, 0, 0, 1, 0, 0, 1, 0], [1, 1, 0, 1, 0, 1, 0, 0, 0, 0, 1, 0, 0, 0, 1, 1, 0, 0, 1, 0, 1, 0, 1, 0, 0], [1, 1, 1, 1, 0, 1, 1, 1, 0, 0, 0, 1, 0, 1, 0, 1, 0, 0, 1, 0, 1, 1, 0, 0, 0], [1, 0, 0, 1, 0, 1, 0, 0, 0, 0, 0, 0, 1, 0, 0, 1, 1, 1, 1, 0, 1, 0, 1, 0, 0], [1, 0, 0, 1, 0, 1, 0, 0, 0, 0, 0, 0, 1, 0, 0, 1, 0, 0, 1, 0, 1, 0, 1, 0, 0], [1, 0, 0, 1, 0, 1, 0, 0, 0, 0, 0, 0, 1, 0, 0, 1, 0, 0, 1, 0, 1, 0, 0, 1, 0]]\n"
     ]
    }
   ],
   "source": [
    "solution_list = []\n",
    "index = 0\n",
    "row = []\n",
    "for num in picture:\n",
    "    index += 1\n",
    "    row.append(num)\n",
    "    if index % 25 == 0:\n",
    "        solution_list.append(row)\n",
    "        row = []\n",
    "print(solution_list)"
   ]
  },
  {
   "cell_type": "code",
   "execution_count": 80,
   "metadata": {},
   "outputs": [
    {
     "name": "stdout",
     "output_type": "stream",
     "text": [
      "1 0 0 1 0 1 1 1 1 0 1 1 1 0 1 0 1 1 0 0 1 0 0 1 0\n",
      "1 1 0 1 0 1 0 0 0 0 1 0 0 0 1 1 0 0 1 0 1 0 1 0 0\n",
      "1 1 1 1 0 1 1 1 0 0 0 1 0 1 0 1 0 0 1 0 1 1 0 0 0\n",
      "1 0 0 1 0 1 0 0 0 0 0 0 1 0 0 1 1 1 1 0 1 0 1 0 0\n",
      "1 0 0 1 0 1 0 0 0 0 0 0 1 0 0 1 0 0 1 0 1 0 1 0 0\n",
      "1 0 0 1 0 1 0 0 0 0 0 0 1 0 0 1 0 0 1 0 1 0 0 1 0\n"
     ]
    }
   ],
   "source": [
    "a = [[1, 0, 0, 1, 0, 1, 1, 1, 1, 0, 1, 1, 1, 0, 1, 0, 1, 1, 0, 0, 1, 0, 0, 1, 0], [1, 1, 0, 1, 0, 1, 0, 0, 0, 0, 1, 0, 0, 0, 1, 1, 0, 0, 1, 0, 1, 0, 1, 0, 0], [1, 1, 1, 1, 0, 1, 1, 1, 0, 0, 0, 1, 0, 1, 0, 1, 0, 0, 1, 0, 1, 1, 0, 0, 0], [1, 0, 0, 1, 0, 1, 0, 0, 0, 0, 0, 0, 1, 0, 0, 1, 1, 1, 1, 0, 1, 0, 1, 0, 0], [1, 0, 0, 1, 0, 1, 0, 0, 0, 0, 0, 0, 1, 0, 0, 1, 0, 0, 1, 0, 1, 0, 1, 0, 0], [1, 0, 0, 1, 0, 1, 0, 0, 0, 0, 0, 0, 1, 0, 0, 1, 0, 0, 1, 0, 1, 0, 0, 1, 0]]\n",
    "for s in a:\n",
    "    print(*s)"
   ]
  },
  {
   "cell_type": "code",
   "execution_count": null,
   "metadata": {},
   "outputs": [],
   "source": []
  },
  {
   "cell_type": "code",
   "execution_count": null,
   "metadata": {},
   "outputs": [],
   "source": []
  }
 ],
 "metadata": {
  "kernelspec": {
   "display_name": "Python 3",
   "language": "python",
   "name": "python3"
  },
  "language_info": {
   "codemirror_mode": {
    "name": "ipython",
    "version": 3
   },
   "file_extension": ".py",
   "mimetype": "text/x-python",
   "name": "python",
   "nbconvert_exporter": "python",
   "pygments_lexer": "ipython3",
   "version": "3.7.3"
  }
 },
 "nbformat": 4,
 "nbformat_minor": 2
}
