{
 "cells": [
  {
   "cell_type": "code",
   "execution_count": 53,
   "metadata": {},
   "outputs": [
    {
     "name": "stdout",
     "output_type": "stream",
     "text": [
      "[3, 8, 1001, 8, 10, 8, 105, 1, 0, 0, 21, 30, 55, 76, 97, 114, 195, 276, 357, 438, 99999, 3, 9, 102, 3, 9, 9, 4, 9, 99, 3, 9, 1002, 9, 3, 9, 1001, 9, 5, 9, 1002, 9, 2, 9, 1001, 9, 2, 9, 102, 2, 9, 9, 4, 9, 99, 3, 9, 1002, 9, 5, 9, 1001, 9, 2, 9, 102, 5, 9, 9, 1001, 9, 4, 9, 4, 9, 99, 3, 9, 1001, 9, 4, 9, 102, 5, 9, 9, 101, 4, 9, 9, 1002, 9, 4, 9, 4, 9, 99, 3, 9, 101, 2, 9, 9, 102, 4, 9, 9, 1001, 9, 5, 9, 4, 9, 99, 3, 9, 1002, 9, 2, 9, 4, 9, 3, 9, 102, 2, 9, 9, 4, 9, 3, 9, 102, 2, 9, 9, 4, 9, 3, 9, 1001, 9, 1, 9, 4, 9, 3, 9, 102, 2, 9, 9, 4, 9, 3, 9, 1002, 9, 2, 9, 4, 9, 3, 9, 102, 2, 9, 9, 4, 9, 3, 9, 102, 2, 9, 9, 4, 9, 3, 9, 1001, 9, 2, 9, 4, 9, 3, 9, 101, 1, 9, 9, 4, 9, 99, 3, 9, 1002, 9, 2, 9, 4, 9, 3, 9, 1001, 9, 2, 9, 4, 9, 3, 9, 101, 1, 9, 9, 4, 9, 3, 9, 1002, 9, 2, 9, 4, 9, 3, 9, 1001, 9, 2, 9, 4, 9, 3, 9, 1001, 9, 2, 9, 4, 9, 3, 9, 1002, 9, 2, 9, 4, 9, 3, 9, 1001, 9, 2, 9, 4, 9, 3, 9, 101, 2, 9, 9, 4, 9, 3, 9, 102, 2, 9, 9, 4, 9, 99, 3, 9, 101, 1, 9, 9, 4, 9, 3, 9, 1002, 9, 2, 9, 4, 9, 3, 9, 1001, 9, 1, 9, 4, 9, 3, 9, 1002, 9, 2, 9, 4, 9, 3, 9, 1001, 9, 1, 9, 4, 9, 3, 9, 1001, 9, 1, 9, 4, 9, 3, 9, 101, 1, 9, 9, 4, 9, 3, 9, 102, 2, 9, 9, 4, 9, 3, 9, 1001, 9, 1, 9, 4, 9, 3, 9, 1001, 9, 1, 9, 4, 9, 99, 3, 9, 1001, 9, 1, 9, 4, 9, 3, 9, 1002, 9, 2, 9, 4, 9, 3, 9, 1001, 9, 2, 9, 4, 9, 3, 9, 1002, 9, 2, 9, 4, 9, 3, 9, 1001, 9, 1, 9, 4, 9, 3, 9, 101, 2, 9, 9, 4, 9, 3, 9, 102, 2, 9, 9, 4, 9, 3, 9, 101, 2, 9, 9, 4, 9, 3, 9, 101, 1, 9, 9, 4, 9, 3, 9, 1001, 9, 1, 9, 4, 9, 99, 3, 9, 101, 2, 9, 9, 4, 9, 3, 9, 102, 2, 9, 9, 4, 9, 3, 9, 101, 2, 9, 9, 4, 9, 3, 9, 101, 1, 9, 9, 4, 9, 3, 9, 101, 2, 9, 9, 4, 9, 3, 9, 1002, 9, 2, 9, 4, 9, 3, 9, 102, 2, 9, 9, 4, 9, 3, 9, 1001, 9, 1, 9, 4, 9, 3, 9, 1001, 9, 1, 9, 4, 9, 3, 9, 101, 2, 9, 9, 4, 9, 99]\n"
     ]
    }
   ],
   "source": [
    "with open(\"AoC13.txt\") as f:\n",
    "    content = f.read()\n",
    "    szamok = content.split(',')\n",
    "    szamok = [int(x) for x in szamok]\n",
    "    \n",
    "print(szamok)\n",
    "###jump = 0\n",
    "###osszeadas = szamok[szamok[jump + 1 ]] + szamok[szamok[jump + 2]]\n",
    "###index = szamok[jump + 3]\n",
    "###szamok[index] = osszeadas\n",
    "###print(szamok)"
   ]
  },
  {
   "cell_type": "code",
   "execution_count": 54,
   "metadata": {},
   "outputs": [],
   "source": [
    "import itertools\n",
    "permutaciok_tuple = list(itertools.permutations([0, 1, 2, 3, 4]))\n",
    "\n",
    "permutaciok = []\n",
    "for tuples in permutaciok_tuple:\n",
    "        permutaciok.append(list(tuples))\n",
    "        \n",
    "#print(permutaciok)"
   ]
  },
  {
   "cell_type": "code",
   "execution_count": 55,
   "metadata": {},
   "outputs": [],
   "source": [
    "from copy import deepcopy"
   ]
  },
  {
   "cell_type": "code",
   "execution_count": 56,
   "metadata": {},
   "outputs": [],
   "source": [
    "def AoC13(szamok, phase_input, input_value):\n",
    "    \n",
    "    pointer = 0\n",
    "    counter = 0\n",
    "    parameter = {1: 3, 2: 3, 3: 1, 4: 1, 5: 2, 6: 2, 7: 3, 8: 3, 99: 0}\n",
    "    while pointer < len(szamok):\n",
    "        jump = True\n",
    "        opcode = str(szamok[pointer])\n",
    "        parancs = int(opcode[-2:])\n",
    "        output = []\n",
    "        elemek = []\n",
    "        i = 1\n",
    "\n",
    "        for digit in opcode[-3::-1]:\n",
    "            if digit == '0':\n",
    "                elemek.append(szamok[pointer + i])\n",
    "            else:\n",
    "                elemek.append(pointer + i)\n",
    "                \n",
    "            i += 1\n",
    "\n",
    "        for _ in range(parameter[parancs] - len(elemek)):\n",
    "            elemek.append(szamok[pointer + i])\n",
    "            i += 1\n",
    "            \n",
    "        if parancs == 1:\n",
    "            add = szamok[elemek[0]] + szamok[elemek[1]]\n",
    "            szamok[elemek[2]] = add\n",
    "            \n",
    "            \n",
    "        elif parancs == 2:\n",
    "            multiplication = szamok[elemek[0]] * szamok[elemek[1]]\n",
    "            szamok[elemek[2]] = multiplication\n",
    "            \n",
    "            \n",
    "        elif parancs == 3:\n",
    "            if counter == 0:\n",
    "                szamok[elemek[0]] = phase_input\n",
    "                counter = counter + 1\n",
    "            else:\n",
    "                szamok[elemek[0]] = input_value\n",
    "            \n",
    "        elif parancs == 4:\n",
    "            output.append(szamok[elemek[0]])\n",
    "            return output[0]\n",
    "            \n",
    "        elif parancs == 5:\n",
    "            if szamok[elemek[0]] != 0:\n",
    "                pointer = szamok[elemek[1]]\n",
    "                jump = False\n",
    "                \n",
    "        elif parancs == 6:\n",
    "            if szamok[elemek[0]] == 0:\n",
    "                pointer = szamok[elemek[1]]\n",
    "            else:\n",
    "                jump = False\n",
    "                \n",
    "        elif parancs == 7:\n",
    "            if szamok[elemek[0]] < szamok[elemek[1]]: \n",
    "                szamok[elemek[2]] = 1\n",
    "            else:\n",
    "                szamok[elemek[2]] = 0\n",
    "                \n",
    "        elif parancs == 8:\n",
    "            if szamok[elemek[0]] == szamok[elemek[1]]: \n",
    "                szamok[elemek[2]] = 1\n",
    "            else:\n",
    "                szamok[elemek[2]] = 0\n",
    "            \n",
    "\n",
    "        elif parancs == 99:\n",
    "            break\n",
    "        \n",
    "        if jump:\n",
    "            pointer += parameter[parancs] + 1"
   ]
  },
  {
   "cell_type": "code",
   "execution_count": 57,
   "metadata": {},
   "outputs": [],
   "source": [
    "thrusters = []\n",
    "#permutaciok = [[4,3,2,1,0]]\n",
    "for phases in permutaciok:\n",
    "    value = 0\n",
    "    for phase in phases:\n",
    "        value = AoC13(deepcopy(szamok), phase, value)\n",
    "    thrusters.append(value)"
   ]
  },
  {
   "cell_type": "code",
   "execution_count": 58,
   "metadata": {},
   "outputs": [
    {
     "data": {
      "text/plain": [
       "359142"
      ]
     },
     "execution_count": 58,
     "metadata": {},
     "output_type": "execute_result"
    }
   ],
   "source": [
    "max(thrusters)"
   ]
  },
  {
   "cell_type": "code",
   "execution_count": null,
   "metadata": {},
   "outputs": [],
   "source": []
  },
  {
   "cell_type": "code",
   "execution_count": null,
   "metadata": {},
   "outputs": [],
   "source": []
  },
  {
   "cell_type": "code",
   "execution_count": null,
   "metadata": {},
   "outputs": [],
   "source": []
  },
  {
   "cell_type": "code",
   "execution_count": null,
   "metadata": {},
   "outputs": [],
   "source": []
  },
  {
   "cell_type": "code",
   "execution_count": null,
   "metadata": {},
   "outputs": [],
   "source": []
  },
  {
   "cell_type": "code",
   "execution_count": null,
   "metadata": {},
   "outputs": [],
   "source": [
    "\n"
   ]
  }
 ],
 "metadata": {
  "kernelspec": {
   "display_name": "Python 3",
   "language": "python",
   "name": "python3"
  },
  "language_info": {
   "codemirror_mode": {
    "name": "ipython",
    "version": 3
   },
   "file_extension": ".py",
   "mimetype": "text/x-python",
   "name": "python",
   "nbconvert_exporter": "python",
   "pygments_lexer": "ipython3",
   "version": "3.7.3"
  }
 },
 "nbformat": 4,
 "nbformat_minor": 2
}
