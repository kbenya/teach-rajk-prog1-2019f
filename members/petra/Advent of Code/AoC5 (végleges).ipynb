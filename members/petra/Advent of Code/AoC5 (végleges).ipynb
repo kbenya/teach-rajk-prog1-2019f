{
 "cells": [
  {
   "cell_type": "markdown",
   "metadata": {},
   "source": [
    "### Day 3"
   ]
  },
  {
   "cell_type": "code",
   "execution_count": 4,
   "metadata": {},
   "outputs": [],
   "source": [
    "with open('AoC4a.txt') as fp:\n",
    "    list1 = fp.read()"
   ]
  },
  {
   "cell_type": "code",
   "execution_count": 5,
   "metadata": {},
   "outputs": [],
   "source": [
    "strings1 = list1.split(',')"
   ]
  },
  {
   "cell_type": "code",
   "execution_count": 6,
   "metadata": {},
   "outputs": [],
   "source": [
    "newlist1 = []\n",
    "for strings in strings1:\n",
    "    if strings[0] == 'R':\n",
    "        newlist1.append('1')\n",
    "    if strings[0] == 'L':\n",
    "        newlist1.append('2')  \n",
    "    if strings[0] == 'U':\n",
    "        newlist1.append('3')    \n",
    "    if strings[0] == 'D':\n",
    "        newlist1.append('4')    \n",
    "    newlist1.append(strings[1:])"
   ]
  },
  {
   "cell_type": "code",
   "execution_count": 7,
   "metadata": {},
   "outputs": [
    {
     "name": "stdout",
     "output_type": "stream",
     "text": [
      "<class 'int'>\n"
     ]
    }
   ],
   "source": [
    "intlist1 = []\n",
    "for strings in newlist1:\n",
    "    strings = int(strings)\n",
    "    intlist1.append(strings)\n",
    "    \n",
    "print(type(intlist1[7]))"
   ]
  },
  {
   "cell_type": "code",
   "execution_count": 8,
   "metadata": {},
   "outputs": [],
   "source": [
    "matrix = 28000"
   ]
  },
  {
   "cell_type": "code",
   "execution_count": 9,
   "metadata": {},
   "outputs": [],
   "source": [
    "center = int(matrix / 2)"
   ]
  },
  {
   "cell_type": "markdown",
   "metadata": {},
   "source": [
    "#### 1 --> Right\n",
    "#### 2 --> Left\n",
    "#### 3 --> Up\n",
    "#### 4 --> Down"
   ]
  },
  {
   "cell_type": "code",
   "execution_count": 10,
   "metadata": {},
   "outputs": [
    {
     "name": "stdout",
     "output_type": "stream",
     "text": [
      "[[0. 0. 0. ... 0. 0. 0.]\n",
      " [0. 0. 0. ... 0. 0. 0.]\n",
      " [0. 0. 0. ... 0. 0. 0.]\n",
      " ...\n",
      " [0. 0. 0. ... 0. 0. 0.]\n",
      " [0. 0. 0. ... 0. 0. 0.]\n",
      " [0. 0. 0. ... 0. 0. 0.]]\n"
     ]
    }
   ],
   "source": [
    "import numpy as np\n",
    "zeros = np.zeros( (matrix, matrix) )\n",
    "print(zeros)"
   ]
  },
  {
   "cell_type": "code",
   "execution_count": 11,
   "metadata": {},
   "outputs": [],
   "source": [
    "def AOC3(intlist1, zeros):\n",
    "    way = 0\n",
    "    col = center\n",
    "    row = center\n",
    "    \n",
    "    while way < len(intlist1):\n",
    "        if intlist1[way] == 1:\n",
    "            for step in range(intlist1[way+1]):\n",
    "                col = (col + 1)\n",
    "                zeros[row][col] = 1\n",
    "        if intlist1[way] == 2:\n",
    "            for step in range(intlist1[way+1]):\n",
    "                col = (col - 1)\n",
    "                zeros[row][col] = 1        \n",
    "        if intlist1[way] == 3:\n",
    "            for step in range(intlist1[way+1]):\n",
    "                row = (row - 1)\n",
    "                zeros[row][col] = 1\n",
    "        if intlist1[way] == 4:\n",
    "            for step in range(intlist1[way+1]):\n",
    "                row = (row + 1)\n",
    "                zeros[row][col] = 1\n",
    "        way = way + 2"
   ]
  },
  {
   "cell_type": "code",
   "execution_count": 12,
   "metadata": {},
   "outputs": [],
   "source": [
    "AOC3(intlist1, zeros)"
   ]
  },
  {
   "cell_type": "code",
   "execution_count": 13,
   "metadata": {},
   "outputs": [],
   "source": [
    "with open('AoC4b.txt') as fp:\n",
    "    list2 = fp.read()"
   ]
  },
  {
   "cell_type": "code",
   "execution_count": 14,
   "metadata": {},
   "outputs": [],
   "source": [
    "strings2 = list2.split(',')"
   ]
  },
  {
   "cell_type": "code",
   "execution_count": 15,
   "metadata": {},
   "outputs": [],
   "source": [
    "newlist2 = []\n",
    "for strings in strings2:\n",
    "    if strings[0] == 'R':\n",
    "        newlist2.append('1')\n",
    "    if strings[0] == 'L':\n",
    "        newlist2.append('2')  \n",
    "    if strings[0] == 'U':\n",
    "        newlist2.append('3')    \n",
    "    if strings[0] == 'D':\n",
    "        newlist2.append('4')    \n",
    "    newlist2.append(strings[1:])"
   ]
  },
  {
   "cell_type": "code",
   "execution_count": 16,
   "metadata": {},
   "outputs": [
    {
     "name": "stdout",
     "output_type": "stream",
     "text": [
      "<class 'int'>\n"
     ]
    }
   ],
   "source": [
    "intlist2 = []\n",
    "for strings in newlist2:\n",
    "    strings = int(strings)\n",
    "    intlist2.append(strings)\n",
    "    \n",
    "print(type(intlist2[7]))"
   ]
  },
  {
   "cell_type": "code",
   "execution_count": 17,
   "metadata": {},
   "outputs": [],
   "source": [
    "def AOC3_2(intlist2, zeros):\n",
    "    way = 0\n",
    "    col = center\n",
    "    row = center\n",
    "    \n",
    "    while way < len(intlist2):\n",
    "        if intlist2[way] == 1:\n",
    "            for step in range(intlist2[way+1]):\n",
    "                col = (col + 1)\n",
    "                if zeros[row][col] == 1:\n",
    "                    zeros[row][col] = 2\n",
    "        if intlist2[way] == 2:\n",
    "            for step in range(intlist2[way+1]):\n",
    "                col = (col - 1)\n",
    "                if zeros[row][col] == 1:\n",
    "                    zeros[row][col] = 2     \n",
    "        if intlist2[way] == 3:\n",
    "            for step in range(intlist2[way+1]):\n",
    "                row = (row - 1)\n",
    "                if zeros[row][col] == 1:\n",
    "                    zeros[row][col] = 2\n",
    "        if intlist2[way] == 4:\n",
    "            for step in range(intlist2[way+1]):\n",
    "                row = (row + 1)\n",
    "                if zeros[row][col] == 1:\n",
    "                    zeros[row][col] = 2\n",
    "        way = way + 2"
   ]
  },
  {
   "cell_type": "code",
   "execution_count": 22,
   "metadata": {
    "scrolled": true
   },
   "outputs": [
    {
     "ename": "IndexError",
     "evalue": "index 28000 is out of bounds for axis 0 with size 28000",
     "output_type": "error",
     "traceback": [
      "\u001b[1;31m---------------------------------------------------------------------------\u001b[0m",
      "\u001b[1;31mIndexError\u001b[0m                                Traceback (most recent call last)",
      "\u001b[1;32m<ipython-input-22-c2b6ad8513ed>\u001b[0m in \u001b[0;36m<module>\u001b[1;34m\u001b[0m\n\u001b[1;32m----> 1\u001b[1;33m \u001b[0mAOC3_2\u001b[0m\u001b[1;33m(\u001b[0m\u001b[0mintlist2\u001b[0m\u001b[1;33m,\u001b[0m \u001b[0mzeros\u001b[0m\u001b[1;33m)\u001b[0m\u001b[1;33m\u001b[0m\u001b[1;33m\u001b[0m\u001b[0m\n\u001b[0m",
      "\u001b[1;32m<ipython-input-17-0a59d48f9a8e>\u001b[0m in \u001b[0;36mAOC3_2\u001b[1;34m(intlist2, zeros)\u001b[0m\n\u001b[0;32m      8\u001b[0m             \u001b[1;32mfor\u001b[0m \u001b[0mstep\u001b[0m \u001b[1;32min\u001b[0m \u001b[0mrange\u001b[0m\u001b[1;33m(\u001b[0m\u001b[0mintlist2\u001b[0m\u001b[1;33m[\u001b[0m\u001b[0mway\u001b[0m\u001b[1;33m+\u001b[0m\u001b[1;36m1\u001b[0m\u001b[1;33m]\u001b[0m\u001b[1;33m)\u001b[0m\u001b[1;33m:\u001b[0m\u001b[1;33m\u001b[0m\u001b[1;33m\u001b[0m\u001b[0m\n\u001b[0;32m      9\u001b[0m                 \u001b[0mcol\u001b[0m \u001b[1;33m=\u001b[0m \u001b[1;33m(\u001b[0m\u001b[0mcol\u001b[0m \u001b[1;33m+\u001b[0m \u001b[1;36m1\u001b[0m\u001b[1;33m)\u001b[0m\u001b[1;33m\u001b[0m\u001b[1;33m\u001b[0m\u001b[0m\n\u001b[1;32m---> 10\u001b[1;33m                 \u001b[1;32mif\u001b[0m \u001b[0mzeros\u001b[0m\u001b[1;33m[\u001b[0m\u001b[0mrow\u001b[0m\u001b[1;33m]\u001b[0m\u001b[1;33m[\u001b[0m\u001b[0mcol\u001b[0m\u001b[1;33m]\u001b[0m \u001b[1;33m==\u001b[0m \u001b[1;36m1\u001b[0m\u001b[1;33m:\u001b[0m\u001b[1;33m\u001b[0m\u001b[1;33m\u001b[0m\u001b[0m\n\u001b[0m\u001b[0;32m     11\u001b[0m                     \u001b[0mzeros\u001b[0m\u001b[1;33m[\u001b[0m\u001b[0mrow\u001b[0m\u001b[1;33m]\u001b[0m\u001b[1;33m[\u001b[0m\u001b[0mcol\u001b[0m\u001b[1;33m]\u001b[0m \u001b[1;33m=\u001b[0m \u001b[1;36m2\u001b[0m\u001b[1;33m\u001b[0m\u001b[1;33m\u001b[0m\u001b[0m\n\u001b[0;32m     12\u001b[0m         \u001b[1;32mif\u001b[0m \u001b[0mintlist2\u001b[0m\u001b[1;33m[\u001b[0m\u001b[0mway\u001b[0m\u001b[1;33m]\u001b[0m \u001b[1;33m==\u001b[0m \u001b[1;36m2\u001b[0m\u001b[1;33m:\u001b[0m\u001b[1;33m\u001b[0m\u001b[1;33m\u001b[0m\u001b[0m\n",
      "\u001b[1;31mIndexError\u001b[0m: index 28000 is out of bounds for axis 0 with size 28000"
     ]
    }
   ],
   "source": [
    "AOC3_2(intlist2, zeros)"
   ]
  },
  {
   "cell_type": "code",
   "execution_count": 23,
   "metadata": {},
   "outputs": [],
   "source": [
    "def aoc3dif2(zeros):\n",
    "    result = np.where(zeros == 2)\n",
    "    print(result)\n",
    "    listOfCoordinates= list(zip(result[0], result[1]))\n",
    "    print(\" lenght of listOfCoordinates = \", (len(listOfCoordinates)))\n",
    "    coords = []\n",
    "    for tuples in listOfCoordinates:\n",
    "        coords.append(list(tuples))\n",
    "    diff = []\n",
    "    for lists in coords:\n",
    "        dif = abs(lists[0] - center) + abs(lists[1] - center)\n",
    "        diff.append(dif)\n",
    "    print(len(diff))\n",
    "    solution = min(diff)\n",
    "    print(diff[:10])\n",
    "    print(coords)\n",
    "    print(solution)\n",
    "    return\n"
   ]
  },
  {
   "cell_type": "code",
   "execution_count": 24,
   "metadata": {},
   "outputs": [
    {
     "name": "stdout",
     "output_type": "stream",
     "text": [
      "(array([10778, 10778, 10778, 10837, 11095, 11095, 11096, 11096, 11143,\n",
      "       11335, 11335, 11404, 11644, 11855, 12251, 12299, 12350, 12350,\n",
      "       12593, 12778, 13064, 13127, 13127, 13232, 13232, 13425, 13507,\n",
      "       13507, 13507], dtype=int64), array([13917, 13965, 14156, 14382, 14368, 14433, 13990, 14382, 14368,\n",
      "       13990, 14046, 13818, 13295, 12993, 12993, 13459, 13523, 14024,\n",
      "       14896, 15327, 15869, 15327, 15488, 15859, 15869, 15327, 15674,\n",
      "       15859, 15869], dtype=int64))\n",
      " lenght of listOfCoordinates =  29\n",
      "29\n",
      "[3305, 3257, 3378, 3545, 3273, 3338, 2914, 3286, 3225, 2675]\n",
      "[[10778, 13917], [10778, 13965], [10778, 14156], [10837, 14382], [11095, 14368], [11095, 14433], [11096, 13990], [11096, 14382], [11143, 14368], [11335, 13990], [11335, 14046], [11404, 13818], [11644, 13295], [11855, 12993], [12251, 12993], [12299, 13459], [12350, 13523], [12350, 14024], [12593, 14896], [12778, 15327], [13064, 15869], [13127, 15327], [13127, 15488], [13232, 15859], [13232, 15869], [13425, 15327], [13507, 15674], [13507, 15859], [13507, 15869]]\n",
      "1674\n"
     ]
    }
   ],
   "source": [
    "aoc3dif2(zeros)"
   ]
  },
  {
   "cell_type": "code",
   "execution_count": null,
   "metadata": {},
   "outputs": [],
   "source": []
  },
  {
   "cell_type": "code",
   "execution_count": null,
   "metadata": {},
   "outputs": [],
   "source": []
  },
  {
   "cell_type": "code",
   "execution_count": null,
   "metadata": {},
   "outputs": [],
   "source": []
  },
  {
   "cell_type": "code",
   "execution_count": null,
   "metadata": {},
   "outputs": [],
   "source": []
  },
  {
   "cell_type": "markdown",
   "metadata": {},
   "source": [
    "## TEST"
   ]
  },
  {
   "cell_type": "code",
   "execution_count": null,
   "metadata": {},
   "outputs": [],
   "source": [
    "with open('aoc3test.txt') as fp:\n",
    "    testlist1 = fp.read()"
   ]
  },
  {
   "cell_type": "code",
   "execution_count": null,
   "metadata": {},
   "outputs": [],
   "source": [
    "teststrings1 = testlist1.split(',')"
   ]
  },
  {
   "cell_type": "code",
   "execution_count": null,
   "metadata": {},
   "outputs": [],
   "source": [
    "newtestlist1 = []\n",
    "for strings in teststrings1:\n",
    "    if strings[0] == 'R':\n",
    "        newtestlist1.append('1')\n",
    "    if strings[0] == 'L':\n",
    "        newtestlist1.append('2')  \n",
    "    if strings[0] == 'U':\n",
    "        newtestlist1.append('3')    \n",
    "    if strings[0] == 'D':\n",
    "        newtestlist1.append('4')    \n",
    "    newtestlist1.append(strings[1:])"
   ]
  },
  {
   "cell_type": "code",
   "execution_count": null,
   "metadata": {},
   "outputs": [],
   "source": [
    "testintlist1 = []\n",
    "for strings in newtestlist1:\n",
    "    strings = int(strings)\n",
    "    testintlist1.append(strings)\n",
    "    \n",
    "print(type(testintlist1[7]))\n",
    "print(testintlist1)"
   ]
  },
  {
   "cell_type": "code",
   "execution_count": null,
   "metadata": {},
   "outputs": [],
   "source": [
    "matrix = 500"
   ]
  },
  {
   "cell_type": "code",
   "execution_count": null,
   "metadata": {},
   "outputs": [],
   "source": [
    "center = int(matrix / 2)"
   ]
  },
  {
   "cell_type": "code",
   "execution_count": null,
   "metadata": {},
   "outputs": [],
   "source": [
    "import numpy as np\n",
    "testzeros = np.zeros( (matrix, matrix ) )\n",
    "print(testzeros)"
   ]
  },
  {
   "cell_type": "code",
   "execution_count": null,
   "metadata": {},
   "outputs": [],
   "source": [
    "def testAOC3(testintlist1, testzeros):\n",
    "    way = 0\n",
    "    col = center\n",
    "    row = center\n",
    "    testzeros[row][col] = -5\n",
    "\n",
    "    while way < len(testintlist1):\n",
    "        if testintlist1[way] == 1:\n",
    "            for step in range(testintlist1[way+1]):\n",
    "                col = (col + 1)\n",
    "                testzeros[row][col] = (testzeros[row][col] + 1)\n",
    "        if testintlist1[way] == 2:\n",
    "            for step in range(testintlist1[way+1]):\n",
    "                col = (col - 1)\n",
    "                testzeros[row][col] = (testzeros[row][col] + 1)\n",
    "        if testintlist1[way] == 3:\n",
    "            for step in range(testintlist1[way+1]):\n",
    "                row = (row - 1)\n",
    "                testzeros[row][col] = (testzeros[row][col] + 1)\n",
    "        if testintlist1[way] == 4:\n",
    "            for step in range(testintlist1[way+1]):\n",
    "                row = (row + 1)\n",
    "                testzeros[row][col] = (testzeros[row][col] + 1)\n",
    "        way = way + 2\n",
    "    print(testzeros)"
   ]
  },
  {
   "cell_type": "code",
   "execution_count": null,
   "metadata": {},
   "outputs": [],
   "source": [
    "testAOC3(testintlist1, testzeros)"
   ]
  },
  {
   "cell_type": "code",
   "execution_count": null,
   "metadata": {},
   "outputs": [],
   "source": [
    "with open('aoc3test2.txt') as fp:\n",
    "    testlist2 = fp.read()\n",
    "print(testlist2)"
   ]
  },
  {
   "cell_type": "code",
   "execution_count": null,
   "metadata": {},
   "outputs": [],
   "source": [
    "teststrings2 = testlist2.split(',')\n",
    "print(teststrings2)"
   ]
  },
  {
   "cell_type": "code",
   "execution_count": null,
   "metadata": {},
   "outputs": [],
   "source": [
    "newtestlist2 = []\n",
    "for strings in teststrings2:\n",
    "    if strings[0] == 'R':\n",
    "        newtestlist2.append('1')\n",
    "    if strings[0] == 'L':\n",
    "        newtestlist2.append('2')  \n",
    "    if strings[0] == 'U':\n",
    "        newtestlist2.append('3')    \n",
    "    if strings[0] == 'D':\n",
    "        newtestlist2.append('4')    \n",
    "    newtestlist2.append(strings[1:])\n",
    "print(newtestlist2)"
   ]
  },
  {
   "cell_type": "code",
   "execution_count": null,
   "metadata": {},
   "outputs": [],
   "source": [
    "testintlist2 = []\n",
    "for strings in newtestlist2:\n",
    "    strings = int(strings)\n",
    "    testintlist2.append(strings)\n",
    "    \n",
    "print(type(testintlist2[2]))\n",
    "print(testintlist2)"
   ]
  },
  {
   "cell_type": "code",
   "execution_count": null,
   "metadata": {},
   "outputs": [],
   "source": [
    "def testAOC3_2(testintlist1, testzeros):\n",
    "    way = 0\n",
    "    col = center\n",
    "    row = center\n",
    "    testzeros[row][col] = -5\n",
    "\n",
    "    while way < len(testintlist1):\n",
    "        if testintlist1[way] == 1:\n",
    "            for step in range(testintlist1[way+1]):\n",
    "                col = (col + 1)\n",
    "                testzeros[row][col] = (testzeros[row][col] + 100)\n",
    "        if testintlist1[way] == 2:\n",
    "            for step in range(testintlist1[way+1]):\n",
    "                col = (col - 1)\n",
    "                testzeros[row][col] = (testzeros[row][col] + 100)\n",
    "        if testintlist1[way] == 3:\n",
    "            for step in range(testintlist1[way+1]):\n",
    "                row = (row - 1)\n",
    "                testzeros[row][col] = (testzeros[row][col] + 100)\n",
    "        if testintlist1[way] == 4:\n",
    "            for step in range(testintlist1[way+1]):\n",
    "                row = (row + 1)\n",
    "                testzeros[row][col] = (testzeros[row][col] + 100)\n",
    "        way = way + 2\n",
    "    print(testzeros)"
   ]
  },
  {
   "cell_type": "code",
   "execution_count": null,
   "metadata": {},
   "outputs": [],
   "source": [
    "testAOC3_2(testintlist2, testzeros)"
   ]
  },
  {
   "cell_type": "code",
   "execution_count": null,
   "metadata": {},
   "outputs": [],
   "source": [
    "def aoc3dif2(testzeros):\n",
    "    result = np.where((testzeros > 100) & ((testzeros % 100) != 0))\n",
    "    print(result)\n",
    "    listOfCoordinates= list(zip(result[0], result[1]))\n",
    "    print(listOfCoordinates)\n",
    "    coords = []\n",
    "    for tuples in listOfCoordinates:\n",
    "        coords.append(list(tuples))\n",
    "    print(coords)\n",
    "    diff = []\n",
    "    for lists in coords:\n",
    "        dif = abs((lists[0] - center) + abs((lists[1] - center))\n",
    "        diff.append(dif)\n",
    "    print(diff)\n",
    "    solution = min(diff)\n",
    "    print(solution)\n",
    "    return"
   ]
  },
  {
   "cell_type": "code",
   "execution_count": null,
   "metadata": {
    "scrolled": false
   },
   "outputs": [],
   "source": [
    "aoc3dif2(testzeros)"
   ]
  },
  {
   "cell_type": "code",
   "execution_count": null,
   "metadata": {},
   "outputs": [],
   "source": []
  },
  {
   "cell_type": "code",
   "execution_count": null,
   "metadata": {},
   "outputs": [],
   "source": []
  },
  {
   "cell_type": "code",
   "execution_count": null,
   "metadata": {},
   "outputs": [],
   "source": []
  },
  {
   "cell_type": "code",
   "execution_count": null,
   "metadata": {},
   "outputs": [],
   "source": []
  },
  {
   "cell_type": "code",
   "execution_count": null,
   "metadata": {},
   "outputs": [],
   "source": []
  },
  {
   "cell_type": "code",
   "execution_count": null,
   "metadata": {},
   "outputs": [],
   "source": [
    "### listlist = testzeros.tolist()"
   ]
  },
  {
   "cell_type": "code",
   "execution_count": null,
   "metadata": {},
   "outputs": [],
   "source": [
    "### def aoc3dif(listlist):\n",
    "    winlist = []\n",
    "    for rows in listlist:\n",
    "        for elements in rows:\n",
    "            if elements > 100:\n",
    "                diff1 = abs((listlist.index(rows) - 200) + (rows.index(elements) - 200))\n",
    "                winlist.append(diff1)\n",
    "    print(winlist)\n",
    "    solution = min(winlist)\n",
    "    print(solution)"
   ]
  },
  {
   "cell_type": "code",
   "execution_count": null,
   "metadata": {},
   "outputs": [],
   "source": [
    "### aoc3dif(listlist)"
   ]
  }
 ],
 "metadata": {
  "kernelspec": {
   "display_name": "Python 3",
   "language": "python",
   "name": "python3"
  },
  "language_info": {
   "codemirror_mode": {
    "name": "ipython",
    "version": 3
   },
   "file_extension": ".py",
   "mimetype": "text/x-python",
   "name": "python",
   "nbconvert_exporter": "python",
   "pygments_lexer": "ipython3",
   "version": "3.7.3"
  }
 },
 "nbformat": 4,
 "nbformat_minor": 2
}
