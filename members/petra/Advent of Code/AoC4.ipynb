{
 "cells": [
  {
   "cell_type": "code",
   "execution_count": 11,
   "metadata": {},
   "outputs": [],
   "source": [
    "def input():\n",
    "    with open(\"AoC3.txt\") as f:\n",
    "        content = f.read()\n",
    "        szamok = content.split(',')\n",
    "        szamok = [int(x) for x in szamok]\n",
    "    return szamok"
   ]
  },
  {
   "cell_type": "code",
   "execution_count": 12,
   "metadata": {},
   "outputs": [],
   "source": [
    "szamok = input()"
   ]
  },
  {
   "cell_type": "code",
   "execution_count": 21,
   "metadata": {},
   "outputs": [
    {
     "name": "stdout",
     "output_type": "stream",
     "text": [
      "77  ,  33\n"
     ]
    }
   ],
   "source": [
    "for noun in range(99):\n",
    "        for verb in range(99):\n",
    "            szamok = input()\n",
    "            szamok[1] = noun\n",
    "            szamok[2] = verb\n",
    "            AoC3(szamok)\n",
    "            if szamok[0] == 19690720:\n",
    "                print(szamok[1],\" , \",szamok[2])\n",
    "                break\n",
    "#print(szamok)\n",
    "#print(szamok[1])\n",
    "#print(szamok[2])"
   ]
  },
  {
   "cell_type": "code",
   "execution_count": null,
   "metadata": {},
   "outputs": [],
   "source": []
  },
  {
   "cell_type": "code",
   "execution_count": 13,
   "metadata": {},
   "outputs": [],
   "source": [
    "def AoC3(szamok):\n",
    "\n",
    "    jump = 0\n",
    "\n",
    "    while jump < len(szamok):\n",
    "        if szamok[jump] == 1:\n",
    "            osszeadas = szamok[szamok[jump + 1 ]] + szamok[szamok[jump + 2]]\n",
    "            index = szamok[jump + 3]\n",
    "            szamok[index] = osszeadas\n",
    "\n",
    "        elif szamok[jump] == 2:\n",
    "            szorzas = szamok[szamok[jump + 1 ]] * szamok[szamok[jump + 2]]\n",
    "            index = szamok[jump + 3]\n",
    "            szamok[index] = szorzas\n",
    "\n",
    "        elif szamok[jump] == 99:\n",
    "            break\n",
    "            \n",
    "        else:\n",
    "            print(\"something went wrong\")\n",
    "            \n",
    "        jump = jump + 4 \n",
    "        \n",
    "    return szamok[0]"
   ]
  },
  {
   "cell_type": "code",
   "execution_count": 14,
   "metadata": {},
   "outputs": [
    {
     "data": {
      "text/plain": [
       "1210687"
      ]
     },
     "execution_count": 14,
     "metadata": {},
     "output_type": "execute_result"
    }
   ],
   "source": [
    "AoC3(szamok)"
   ]
  },
  {
   "cell_type": "code",
   "execution_count": null,
   "metadata": {},
   "outputs": [],
   "source": []
  },
  {
   "cell_type": "code",
   "execution_count": null,
   "metadata": {},
   "outputs": [],
   "source": [
    "\n",
    "        "
   ]
  },
  {
   "cell_type": "code",
   "execution_count": null,
   "metadata": {},
   "outputs": [],
   "source": []
  }
 ],
 "metadata": {
  "kernelspec": {
   "display_name": "Python 3",
   "language": "python",
   "name": "python3"
  },
  "language_info": {
   "codemirror_mode": {
    "name": "ipython",
    "version": 3
   },
   "file_extension": ".py",
   "mimetype": "text/x-python",
   "name": "python",
   "nbconvert_exporter": "python",
   "pygments_lexer": "ipython3",
   "version": "3.7.3"
  }
 },
 "nbformat": 4,
 "nbformat_minor": 2
}
