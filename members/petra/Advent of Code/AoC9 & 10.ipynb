{
 "cells": [
  {
   "cell_type": "markdown",
   "metadata": {},
   "source": [
    "### PART 1"
   ]
  },
  {
   "cell_type": "code",
   "execution_count": 9,
   "metadata": {},
   "outputs": [
    {
     "name": "stdout",
     "output_type": "stream",
     "text": [
      "678\n"
     ]
    }
   ],
   "source": [
    "with open(\"AoC9.txt\") as f:\n",
    "    content = f.read()\n",
    "    szamok = content.split(',')\n",
    "    szamok = [int(x) for x in szamok]\n",
    "    \n",
    "###osszeadas = szamok[szamok[jump + 1 ]] + szamok[szamok[jump + 2]]\n",
    "###index = szamok[jump + 3]\n",
    "###szamok[index] = osszeadas\n",
    "###print(szamok)\n",
    "print(len(szamok))"
   ]
  },
  {
   "cell_type": "code",
   "execution_count": 10,
   "metadata": {},
   "outputs": [],
   "source": [
    "def AoC9(szamok):\n",
    "            \n",
    "    jump = 0\n",
    "    parameter = {1 : 3, 2 : 3, 3 : 1, 4 : 1, 99 : 0}\n",
    "    while jump < len(szamok):\n",
    "        \n",
    "        opcode = str(szamok[jump])\n",
    "        parancs = int(opcode[-2:])\n",
    "        elemek = []\n",
    "        i = 1\n",
    "        \n",
    "        for digit in opcode[-3::-1]:\n",
    "            if digit == '0':\n",
    "                elemek.append(szamok[jump + i])\n",
    "            else:\n",
    "                elemek.append(jump + i)\n",
    "            i += 1\n",
    "            \n",
    "        for _ in range(parameter[parancs] - len(elemek)):\n",
    "            elemek.append(szamok[jump + i])\n",
    "            i += 1\n",
    "            \n",
    "        if  parancs == 1:\n",
    "            osszeadas = szamok[elemek[0]] + szamok[elemek[1]]\n",
    "            szamok[elemek[2]] = osszeadas\n",
    "    \n",
    "\n",
    "        elif parancs == 2:\n",
    "            szorzas = szamok[elemek[0]] * szamok[elemek[1]]\n",
    "            szamok[elemek[2]] = szorzas\n",
    "            \n",
    "        elif parancs == 3:\n",
    "            szamok[elemek[0]] = int(input())\n",
    "            \n",
    "            \n",
    "        elif parancs == 4:\n",
    "            print(szamok[elemek[0]])\n",
    "\n",
    "        elif szamok[jump] == 99:\n",
    "            break\n",
    "            \n",
    "        else:\n",
    "            print(\"something went wrong\")\n",
    "            \n",
    "        jump += parameter[parancs] + 1\n",
    "            \n",
    "        "
   ]
  },
  {
   "cell_type": "code",
   "execution_count": 11,
   "metadata": {},
   "outputs": [
    {
     "name": "stdout",
     "output_type": "stream",
     "text": [
      "1\n",
      "0\n",
      "0\n",
      "0\n",
      "0\n",
      "0\n",
      "0\n",
      "0\n",
      "0\n",
      "0\n",
      "6745903\n"
     ]
    }
   ],
   "source": [
    "AoC9(szamok)"
   ]
  },
  {
   "cell_type": "markdown",
   "metadata": {},
   "source": [
    "### PART 2"
   ]
  },
  {
   "cell_type": "code",
   "execution_count": null,
   "metadata": {},
   "outputs": [],
   "source": [
    "## puzzle test bemenettel indul\n",
    "## két utasítás"
   ]
  },
  {
   "cell_type": "code",
   "execution_count": 1,
   "metadata": {},
   "outputs": [
    {
     "name": "stdout",
     "output_type": "stream",
     "text": [
      "[3, 225, 1, 225, 6, 6, 1100, 1, 238, 225, 104, 0, 1102, 40, 93, 224, 1001, 224, -3720, 224, 4, 224, 102, 8, 223, 223, 101, 3, 224, 224, 1, 224, 223, 223, 1101, 56, 23, 225, 1102, 64, 78, 225, 1102, 14, 11, 225, 1101, 84, 27, 225, 1101, 7, 82, 224, 1001, 224, -89, 224, 4, 224, 1002, 223, 8, 223, 1001, 224, 1, 224, 1, 224, 223, 223, 1, 35, 47, 224, 1001, 224, -140, 224, 4, 224, 1002, 223, 8, 223, 101, 5, 224, 224, 1, 224, 223, 223, 1101, 75, 90, 225, 101, 9, 122, 224, 101, -72, 224, 224, 4, 224, 1002, 223, 8, 223, 101, 6, 224, 224, 1, 224, 223, 223, 1102, 36, 63, 225, 1002, 192, 29, 224, 1001, 224, -1218, 224, 4, 224, 1002, 223, 8, 223, 1001, 224, 7, 224, 1, 223, 224, 223, 102, 31, 218, 224, 101, -2046, 224, 224, 4, 224, 102, 8, 223, 223, 101, 4, 224, 224, 1, 224, 223, 223, 1001, 43, 38, 224, 101, -52, 224, 224, 4, 224, 1002, 223, 8, 223, 101, 5, 224, 224, 1, 223, 224, 223, 1102, 33, 42, 225, 2, 95, 40, 224, 101, -5850, 224, 224, 4, 224, 1002, 223, 8, 223, 1001, 224, 7, 224, 1, 224, 223, 223, 1102, 37, 66, 225, 4, 223, 99, 0, 0, 0, 677, 0, 0, 0, 0, 0, 0, 0, 0, 0, 0, 0, 1105, 0, 99999, 1105, 227, 247, 1105, 1, 99999, 1005, 227, 99999, 1005, 0, 256, 1105, 1, 99999, 1106, 227, 99999, 1106, 0, 265, 1105, 1, 99999, 1006, 0, 99999, 1006, 227, 274, 1105, 1, 99999, 1105, 1, 280, 1105, 1, 99999, 1, 225, 225, 225, 1101, 294, 0, 0, 105, 1, 0, 1105, 1, 99999, 1106, 0, 300, 1105, 1, 99999, 1, 225, 225, 225, 1101, 314, 0, 0, 106, 0, 0, 1105, 1, 99999, 1007, 226, 677, 224, 1002, 223, 2, 223, 1005, 224, 329, 1001, 223, 1, 223, 1007, 226, 226, 224, 1002, 223, 2, 223, 1006, 224, 344, 101, 1, 223, 223, 1107, 677, 226, 224, 102, 2, 223, 223, 1006, 224, 359, 1001, 223, 1, 223, 108, 677, 677, 224, 1002, 223, 2, 223, 1006, 224, 374, 1001, 223, 1, 223, 107, 677, 677, 224, 1002, 223, 2, 223, 1005, 224, 389, 101, 1, 223, 223, 8, 677, 677, 224, 1002, 223, 2, 223, 1005, 224, 404, 1001, 223, 1, 223, 108, 226, 226, 224, 1002, 223, 2, 223, 1005, 224, 419, 101, 1, 223, 223, 1008, 677, 677, 224, 1002, 223, 2, 223, 1005, 224, 434, 101, 1, 223, 223, 1008, 226, 226, 224, 1002, 223, 2, 223, 1005, 224, 449, 101, 1, 223, 223, 7, 677, 226, 224, 1002, 223, 2, 223, 1006, 224, 464, 1001, 223, 1, 223, 7, 226, 226, 224, 1002, 223, 2, 223, 1005, 224, 479, 1001, 223, 1, 223, 1007, 677, 677, 224, 102, 2, 223, 223, 1005, 224, 494, 101, 1, 223, 223, 1108, 677, 226, 224, 102, 2, 223, 223, 1006, 224, 509, 1001, 223, 1, 223, 8, 677, 226, 224, 102, 2, 223, 223, 1005, 224, 524, 1001, 223, 1, 223, 1107, 226, 226, 224, 102, 2, 223, 223, 1006, 224, 539, 1001, 223, 1, 223, 1008, 226, 677, 224, 1002, 223, 2, 223, 1006, 224, 554, 1001, 223, 1, 223, 1107, 226, 677, 224, 1002, 223, 2, 223, 1006, 224, 569, 1001, 223, 1, 223, 1108, 677, 677, 224, 102, 2, 223, 223, 1005, 224, 584, 101, 1, 223, 223, 7, 226, 677, 224, 102, 2, 223, 223, 1006, 224, 599, 1001, 223, 1, 223, 1108, 226, 677, 224, 102, 2, 223, 223, 1006, 224, 614, 101, 1, 223, 223, 107, 226, 677, 224, 1002, 223, 2, 223, 1005, 224, 629, 101, 1, 223, 223, 108, 226, 677, 224, 1002, 223, 2, 223, 1005, 224, 644, 101, 1, 223, 223, 8, 226, 677, 224, 1002, 223, 2, 223, 1005, 224, 659, 1001, 223, 1, 223, 107, 226, 226, 224, 1002, 223, 2, 223, 1006, 224, 674, 101, 1, 223, 223, 4, 223, 99, 226]\n"
     ]
    }
   ],
   "source": [
    "with open(\"AoC9.txt\") as f:\n",
    "    content = f.read()\n",
    "    szamok = content.split(',')\n",
    "    szamok = [int(x) for x in szamok]\n",
    "    \n",
    "print(szamok)\n",
    "###jump = 0\n",
    "###osszeadas = szamok[szamok[jump + 1 ]] + szamok[szamok[jump + 2]]\n",
    "###index = szamok[jump + 3]\n",
    "###szamok[index] = osszeadas\n",
    "###print(szamok)"
   ]
  },
  {
   "cell_type": "code",
   "execution_count": 2,
   "metadata": {},
   "outputs": [],
   "source": [
    "def AoC10(szamok):\n",
    "            \n",
    "    jump = 0\n",
    "    parameter = {1 : 3, 2 : 3, 3 : 1, 4 : 1, 5 : 2, 6 : 2, 7 : 3, 8 : 3, 99 : 0}\n",
    "    while jump < len(szamok):\n",
    "        \n",
    "        opcode = str(szamok[jump])\n",
    "        parancs = int(opcode[-2:])\n",
    "        elemek = []\n",
    "        i = 1\n",
    "        \n",
    "        for digit in opcode[-3::-1]:\n",
    "            if digit == '0':\n",
    "                elemek.append(szamok[jump + i])\n",
    "            else:\n",
    "                elemek.append(jump + i)\n",
    "            i += 1\n",
    "            #print(szamok)\n",
    "            \n",
    "        for _ in range(parameter[parancs] - len(elemek)):\n",
    "            elemek.append(szamok[jump + i])\n",
    "            i += 1\n",
    "            #print(szamok)\n",
    "            \n",
    "        if  parancs == 1:\n",
    "            osszeadas = szamok[elemek[0]] + szamok[elemek[1]]\n",
    "            szamok[elemek[2]] = osszeadas\n",
    "            jump += parameter[parancs] + 1\n",
    "    \n",
    "\n",
    "        elif parancs == 2:\n",
    "            szorzas = szamok[elemek[0]] * szamok[elemek[1]]\n",
    "            szamok[elemek[2]] = szorzas\n",
    "            jump += parameter[parancs] + 1\n",
    "            \n",
    "        elif parancs == 3:\n",
    "            szamok[elemek[0]] = int(input())\n",
    "            jump += parameter[parancs] + 1\n",
    "            \n",
    "        elif parancs == 4:\n",
    "            print(szamok[elemek[0]])\n",
    "            jump += parameter[parancs] + 1\n",
    "            \n",
    "        elif parancs == 5:\n",
    "            if szamok[elemek[0]] != 0:\n",
    "                jump = szamok[elemek[1]]\n",
    "            else:\n",
    "                jump += parameter[parancs] + 1\n",
    "                \n",
    "        elif parancs == 6:\n",
    "            if szamok[elemek[0]] == 0:\n",
    "                jump = szamok[elemek[1]]\n",
    "            else:\n",
    "                jump += parameter[parancs] + 1\n",
    "            \n",
    "        elif parancs == 7:\n",
    "            if szamok[elemek[0]] < szamok[elemek[1]]:\n",
    "                szamok[elemek[2]] = 1\n",
    "            else:\n",
    "                szamok[elemek[2]] = 0\n",
    "            jump += parameter[parancs] + 1\n",
    "                \n",
    "        elif parancs == 8:\n",
    "            if szamok[elemek[0]] == szamok[elemek[1]]:\n",
    "                szamok[elemek[2]] = 1\n",
    "            else:\n",
    "                szamok[elemek[2]] = 0\n",
    "            jump += parameter[parancs] + 1\n",
    "\n",
    "        elif szamok[jump] == 99:\n",
    "            break\n",
    "            \n",
    "        else:\n",
    "            print(\"something went wrong\")        \n",
    "            \n",
    "        "
   ]
  },
  {
   "cell_type": "code",
   "execution_count": 3,
   "metadata": {},
   "outputs": [
    {
     "name": "stdout",
     "output_type": "stream",
     "text": [
      "5\n",
      "9168267\n"
     ]
    }
   ],
   "source": [
    "AoC10(szamok)"
   ]
  },
  {
   "cell_type": "code",
   "execution_count": null,
   "metadata": {},
   "outputs": [],
   "source": []
  }
 ],
 "metadata": {
  "kernelspec": {
   "display_name": "Python 3",
   "language": "python",
   "name": "python3"
  },
  "language_info": {
   "codemirror_mode": {
    "name": "ipython",
    "version": 3
   },
   "file_extension": ".py",
   "mimetype": "text/x-python",
   "name": "python",
   "nbconvert_exporter": "python",
   "pygments_lexer": "ipython3",
   "version": "3.7.3"
  }
 },
 "nbformat": 4,
 "nbformat_minor": 2
}
