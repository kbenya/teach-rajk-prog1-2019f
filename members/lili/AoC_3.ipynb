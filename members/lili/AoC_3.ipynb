{
 "cells": [
  {
   "cell_type": "code",
   "execution_count": 61,
   "metadata": {},
   "outputs": [],
   "source": [
    "import re"
   ]
  },
  {
   "cell_type": "code",
   "execution_count": 256,
   "metadata": {},
   "outputs": [],
   "source": [
    "wires1 = ['R1003','U756','L776','U308','R718',\t'D577',\t'R902',\t'D776',\t'R760',\t'U638',\t'R289',\t'D70',\t'L885',\t'U161',\t'R807',\t'D842',\t'R175',\t'D955',\t'R643',\t'U380',\t'R329',\t'U573',\t'L944',\t'D2',\t'L807',\t'D886',\t'L549',\t'U592',\t'R152',\t'D884',\t'L761',\t'D915',\t'L726',\t'D677',\t'L417',\t'D651',\t'L108',\t'D377',\t'L699',\t'D938',\t'R555',\t'D222',\t'L689',\t'D196',\t'L454',\t'U309',\t'L470',\t'D234',\t'R198',\t'U689',\t'L996',\t'U117',\t'R208',\t'D310',\t'R572',\t'D562',\t'L207',\t'U244',\t'L769',\t'U186',\t'R153',\t'D756',\t'R97',\t'D625',\t'R686',\t'U244',\t'R348',\t'U586',\t'L385',\t'D466',\t'R483',\t'U718',\t'L892',\t'D39',\t'R692',\t'U756',\t'L724',\t'U148',\t'R70',\t'U224',\t'L837',\t'D370',\t'L309',\t'U235',\t'R382',\t'D579',\t'R404',\t'D146',\t'R6',\t'U584',\t'L840',\t'D863',\t'R942',\t'U646',\t'R146',\t'D618',\t'L12',\t'U210',\t'R126',\t'U163',\t'R931',\t'D661',\t'L710',\t'D883',\t'L686',\t'D688',\t'L148',\t'D19',\t'R703',\t'U530',\t'R889',\t'U186',\t'R779',\t'D503',\t'R417',\t'U272',\t'R541',\t'U21',\t'L562',\t'D10',\t'L349',\t'U998',\t'R69',\t'D65',\t'R560',\t'D585',\t'L949',\t'D372',\t'L110',\t'D865',\t'R212',\t'U56',\t'L936',\t'U957',\t'L88',\t'U612',\t'R927',\t'U642',\t'R416',\t'U348',\t'L541',\t'D416',\t'L808',\t'D759',\t'R449',\t'D6',\t'L517',\t'D4',\t'R494',\t'D143',\t'L536',\t'U341',\t'R394',\t'U179',\t'L22',\t'D680',\t'L138',\t'U249',\t'L285',\t'U879',\t'L717',\t'U756',\t'L313',\t'U222',\t'R823',\t'D208',\t'L134',\t'U984',\t'R282',\t'U635',\t'R207',\t'D63',\t'L416',\t'U511',\t'L179',\t'D582',\t'L651',\t'U932',\t'R646',\t'U378',\t'R263',\t'U138',\t'L920',\t'U523',\t'L859',\t'D556',\t'L277',\t'D518',\t'R489',\t'U561',\t'L457',\t'D297',\t'R72',\t'U920',\t'L583',\t'U23',\t'L395',\t'D844',\t'R776',\t'D552',\t'L55',\t'D500',\t'R111',\t'U409',\t'R685',\t'D427',\t'R275',\t'U739',\t'R181',\t'U333',\t'L215',\t'U808',\t'R341',\t'D537',\t'R336',\t'U230',\t'R247',\t'U748',\t'R846',\t'U404',\t'R850',\t'D493',\t'R891',\t'U176',\t'L744',\t'U585',\t'L987',\t'D849',\t'R271',\t'D848',\t'L555',\t'U801',\t'R316',\t'U753',\t'L390',\t'U97',\t'L128',\t'U45',\t'R706',\t'U35',\t'L928',\t'U913',\t'R537',\t'D512',\t'R152',\t'D410',\t'R76',\t'D209',\t'R183',\t'U941',\t'R289',\t'U632',\t'L923',\t'D190',\t'R488',\t'D934',\t'R442',\t'D303',\t'R178',\t'D250',\t'R204',\t'U247',\t'R707',\t'U77',\t'R428',\t'D701',\t'R386',\t'U110',\t'R641',\t'U925',\t'R703',\t'D387',\t'L946',\t'U415',\t'R461',\t'D123',\t'L214',\t'U236',\t'L959',\t'U517',\t'R957',\t'D524',\t'R812',\t'D668',\t'R369',\t'U340',\t'L606',\t'D503',\t'R755',\t'U390',\t'R142',\t'D921','L976',\t'D36',\t'L965',\t'D450',\t'L722',\t'D224',\t'L303',\t'U705',\t'L584']"
   ]
  },
  {
   "cell_type": "code",
   "execution_count": 257,
   "metadata": {},
   "outputs": [],
   "source": [
    "wires2 = ['L993',\t'U810',\t'L931',\t'D139',\t'R114',\t'D77',\t'L75',\t'U715',\t'R540',\t'D994',\t'L866',\t'U461',\t'R340',\t'D179',\t'R314',\t'D423',\t'R629',\t'D8',\t'L692',\t'U446',\t'L88',\t'D132',\t'L128',\t'U934',\t'L465',\t'D58',\t'L696',\t'D883',\t'L955',\t'D565',\t'R424',\t'U286',\t'R403',\t'U57',\t'L627',\t'D930',\t'R887',\t'D941',\t'L306',\t'D951',\t'R918',\t'U587',\t'R939',\t'U821',\t'L65',\t'D18',\t'L987',\t'D707',\t'L360',\t'D54',\t'L932',\t'U366',\t'R625',\t'U609',\t'R173',\t'D637',\t'R661',\t'U888',\t'L68',\t'U962',\t'R270',\t'U369',\t'R780',\t'U845',\t'L813',\t'U481',\t'R66',\t'D182',\t'R420',\t'U605',\t'R880',\t'D276',\t'L6',\t'D529',\t'R883',\t'U189',\t'R380',\t'D472',\t'R30',\t'U35',\t'L510',\t'D844',\t'L146',\t'U875',\t'R152',\t'U545',\t'R274',\t'U920',\t'R432',\t'U814',\t'R583',\t'D559',\t'L820',\t'U135',\t'L353',\t'U975',\t'L103',\t'U615',\t'R401',\t'U692',\t'L676',\t'D781',\t'R551',\t'D985',\t'L317',\t'U836',\t'R115',\t'D216',\t'L967',\t'U286',\t'R681',\t'U144',\t'L354',\t'U678',\t'L893',\t'D487',\t'R664',\t'D185',\t'R787',\t'D909',\t'L582',\t'D283',\t'L519',\t'D893',\t'L56',\t'U768',\t'L345',\t'D992',\t'L248',\t'U439',\t'R573',\t'D98',\t'L390',\t'D43',\t'L470',\t'D435',\t'R176',\t'U468',\t'R688',\t'U388',\t'L377',\t'U800',\t'R187',\t'U641',\t'L268',\t'U857',\t'L716',\t'D179',\t'R212',\t'U196',\t'L342',\t'U731',\t'R261',\t'D92',\t'R183',\t'D623',\t'L589',\t'D215',\t'L966',\t'U878',\t'L784',\t'U740',\t'R823',\t'D99',\t'L167',\t'D992',\t'R414',\t'U22',\t'L27',\t'U390',\t'R286',\t'D744',\t'L360',\t'U554',\t'L756',\t'U715',\t'R939',\t'D806',\t'R279',\t'U292',\t'L960',\t'U633',\t'L428',\t'U949',\t'R90',\t'D321',\t'R749',\t'U395',\t'L392',\t'U348',\t'L33',\t'D757',\t'R289',\t'D367',\t'L562',\t'D668',\t'L79',\t'D193',\t'L991',\t'D705',\t'L562',\t'U25',\t'R146',\t'D34',\t'R325',\t'U203',\t'R403',\t'D714',\t'R607',\t'U72',\t'L444',\t'D76',\t'R267',\t'U924',\t'R289',\t'U962',\t'L159',\t'U726',\t'L57',\t'D540',\t'R299',\t'U343',\t'R936',\t'U90',\t'L311',\t'U243',\t'L415',\t'D426',\t'L936',\t'D570',\t'L539',\t'D731',\t'R367',\t'D374',\t'L56',\t'D251',\t'L265',\t'U65',\t'L14',\t'D882',\t'L956',\t'U88',\t'R688',\t'D34',\t'R866',\t'U777',\t'R342',\t'D270',\t'L344',\t'D953',\t'L438',\t'D855',\t'L587',\t'U320',\t'L953',\t'D945',\t'L473',\t'U559',\t'L487',\t'D602',\t'R255',\t'U871',\t'L854',\t'U45',\t'R705',\t'D247',\t'R955',\t'U885',\t'R657',\t'D664',\t'L360',\t'D764',\t'L549',\t'D676',\t'R85',\t'U189',\t'L951',\t'D922',\t'R511',\t'D429',\t'R37',\t'U11',\t'R821',\t'U984',\t'R825',\t'U874',\t'R753',\t'D524',\t'L537',\t'U618',\t'L919',\t'D597',\t'L364',\t'D231',\t'L258',\t'U818',\t'R406',\t'D208',\t'R214',\t'U530',\t'R261']"
   ]
  },
  {
   "cell_type": "code",
   "execution_count": 64,
   "metadata": {},
   "outputs": [
    {
     "name": "stdout",
     "output_type": "stream",
     "text": [
      "['R98', 'U47', 'R26', 'D63', 'R33', 'U87', 'L62', 'D20', 'R33', 'U53', 'R51\\n']\n"
     ]
    }
   ],
   "source": [
    "with open('aoc33.txt', 'r') as f:\n",
    "    file = f.readlines()\n",
    "\n",
    "wires1 = file[0].split(',')\n",
    "wires2 = file[1].split(',')\n",
    "print(wires1)"
   ]
  },
  {
   "cell_type": "code",
   "execution_count": 258,
   "metadata": {},
   "outputs": [],
   "source": [
    "x = 0\n",
    "y = 0\n",
    "horizontal1 = [0]\n",
    "vertical1 = [0]\n",
    "for i in range(0, len(wires1)):\n",
    "    number1 = []\n",
    "    for l in range(1,len(wires1[i])):\n",
    "        number1.append(wires1[i][l])    \n",
    "    coordinate1 = int(''.join(number1))\n",
    "    if wires1[i][0] == \"R\":\n",
    "        x = x + coordinate1\n",
    "    elif wires1[i][0] == \"L\":\n",
    "        x = x - coordinate1\n",
    "    elif wires1[i][0] == \"U\":\n",
    "        y = y + coordinate1\n",
    "    elif wires1[i][0] == \"D\":\n",
    "        y = y - coordinate1\n",
    "    horizontal1.append(x)\n",
    "    vertical1.append(y)\n",
    "    "
   ]
  },
  {
   "cell_type": "code",
   "execution_count": 259,
   "metadata": {},
   "outputs": [],
   "source": [
    "x = 0\n",
    "y = 0\n",
    "horizontal2 = [0]\n",
    "vertical2 = [0]\n",
    "for i in range(0, len(wires2)):\n",
    "    number1 = []\n",
    "    for l in range(1,len(wires2[i])):\n",
    "        number1.append(wires2[i][l])    \n",
    "    coordinate1 = int(''.join(number1))\n",
    "    if wires2[i][0] == \"R\":\n",
    "        x = x + coordinate1\n",
    "    elif wires2[i][0] == \"L\":\n",
    "        x = x - coordinate1\n",
    "    elif wires2[i][0] == \"U\":\n",
    "        y = y + coordinate1\n",
    "    elif wires2[i][0] == \"D\":\n",
    "        y = y - coordinate1\n",
    "    horizontal2.append(x)\n",
    "    vertical2.append(y)\n",
    "\n",
    "    "
   ]
  },
  {
   "cell_type": "code",
   "execution_count": 260,
   "metadata": {},
   "outputs": [],
   "source": [
    "wire1 = []\n",
    "for i in range(0,len(horizontal1)):\n",
    "    wire1.append(horizontal1[i])\n",
    "    wire1.append(vertical1[i])\n",
    "           \n",
    "wire2 = []\n",
    "for i in range(0,len(horizontal2)):\n",
    "    wire2.append(horizontal2[i])\n",
    "    wire2.append(vertical2[i])\n"
   ]
  },
  {
   "cell_type": "code",
   "execution_count": 261,
   "metadata": {},
   "outputs": [
    {
     "name": "stdout",
     "output_type": "stream",
     "text": [
      "[-3112, -2571, -2366, -1755, -3123, -1620, -3123, -1576, -3171, -2274, -3160, -1942, -3171, -1941, -3375, -1576, -3034, -1620, -3034, -1576, -2698, -1604, -2267, -692, -1324, -1163, -1879, -1181, -2267, 14, -1885, 927, -1836, 927, -1766, 810, -1766, 597, -1766, 480, -1766, 615, -1620, 415, -1614, 315, -1614, 166, -1355, 315, -1355, 174, -1355, 166, -1355, 615, -1345, 737, -1217, 737, -1066, 810, -1836, 1369, -1217, 1369, -1885, 1179, -1836, 1179, -1501, 810, -1501, 315, -1501, 615, -1059, 174, -1059, 166]\n"
     ]
    }
   ],
   "source": [
    "crosscheck = []\n",
    "for i in range(0,len(horizontal1)-1):\n",
    "    for j in range(0,len(horizontal2)-1):\n",
    "        if horizontal2[j]==horizontal2[j+1] and horizontal1[i] < horizontal2[j] < horizontal1[i+1]\\\n",
    "        and (vertical1[i]==vertical1[i+1]) and (vertical2[j] < vertical1[i] < vertical2[j+1] \\\n",
    "        or vertical2[j] > vertical1[i] > vertical2[j+1]):\n",
    "            crosscheck.append(horizontal2[j])\n",
    "            crosscheck.append(vertical1[i])\n",
    "        elif horizontal2[j]==horizontal2[j+1] and horizontal1[i] > horizontal2[j] > horizontal1[i+1]\\\n",
    "        and (vertical1[i]==vertical1[i+1]) and  (vertical2[j] < vertical1[i] < vertical2[j+1]\\\n",
    "        or vertical2[j] > vertical1[i] > vertical2[j+1]):\n",
    "            crosscheck.append(horizontal2[j])\n",
    "            crosscheck.append(vertical1[i])\n",
    "        elif horizontal1[i]==horizontal1[i+1] and horizontal2[j] < horizontal1[i] < horizontal2[j+1]\\\n",
    "        and (vertical2[j]==vertical2[j+1]) and (vertical1[i] < vertical2[j] < vertical1[i+1]\\\n",
    "        or vertical1[i] > vertical2[j] > vertical1[i+1]):\n",
    "            crosscheck.append(horizontal1[i])\n",
    "            crosscheck.append(vertical2[j])\n",
    "        elif horizontal1[i]==horizontal1[i+1] and horizontal2[j] > horizontal1[i] > horizontal2[j+1]\\\n",
    "        and (vertical2[j]==vertical2[j+1]) and (vertical1[i] < vertical2[j] < vertical1[i+1]\\\n",
    "        or vertical1[i] > vertical2[j] > vertical1[i+1]):\n",
    "            crosscheck.append(horizontal1[i])\n",
    "            crosscheck.append(vertical2[j])\n",
    "            \n",
    "            \n",
    "print(crosscheck)"
   ]
  },
  {
   "cell_type": "code",
   "execution_count": 262,
   "metadata": {},
   "outputs": [
    {
     "name": "stdout",
     "output_type": "stream",
     "text": [
      "[5683, 4121, 4743, 4699, 5445, 5102, 5112, 4951, 4654, 4610, 4302, 2959, 2487, 3060, 2281, 2812, 2763, 2576, 2363, 2246, 2381, 2035, 1929, 1780, 1670, 1529, 1521, 1970, 2082, 1954, 1876, 3205, 2586, 3064, 3015, 2311, 1816, 2116, 1233, 1225]\n"
     ]
    }
   ],
   "source": [
    "dist = []\n",
    "for i in range(0, len(crosscheck)-1,2):\n",
    "    manh_dist = abs(crosscheck[i]) + abs(crosscheck[i+1])\n",
    "    dist.append(manh_dist)\n",
    "\n",
    "print(dist)"
   ]
  },
  {
   "cell_type": "code",
   "execution_count": 263,
   "metadata": {},
   "outputs": [
    {
     "data": {
      "text/plain": [
       "1225"
      ]
     },
     "execution_count": 263,
     "metadata": {},
     "output_type": "execute_result"
    }
   ],
   "source": [
    "min(dist)"
   ]
  },
  {
   "cell_type": "code",
   "execution_count": 264,
   "metadata": {},
   "outputs": [
    {
     "data": {
      "image/png": "[encoded data removed]",
      "text/plain": [
       "<Figure size 432x288 with 1 Axes>"
      ]
     },
     "metadata": {
      "needs_background": "light"
     },
     "output_type": "display_data"
    }
   ],
   "source": [
    "import numpy as np\n",
    "import matplotlib.pyplot as plt\n",
    "\n",
    "xx = horizontal2\n",
    "yy = vertical2\n",
    "plt.plot(xx,yy)\n",
    "\n",
    "x = horizontal1\n",
    "y = vertical1\n",
    "plt.plot(x,y)\n",
    "\n",
    "\n",
    "plt.show()"
   ]
  },
  {
   "cell_type": "code",
   "execution_count": 265,
   "metadata": {},
   "outputs": [
    {
     "name": "stdout",
     "output_type": "stream",
     "text": [
      "[-3112, 177, -2571, 40, -3123, 183, -1620, 38, -3123, 183, -1576, 52, -3160, 209, -1942, 50, -3375, 211, -1576, 52, -3034, 213, -1620, 38, -3034, 213, -1576, 52, -2698, 215, -1604, 56, -1324, 229, -1163, 44, -1879, 231, -1181, 46, -1766, 243, 810, 2, -1766, 243, 597, 14, -1766, 243, 480, 22, -1766, 243, 615, 62, -1614, 245, 315, 10, -1614, 245, 166, 18, -1355, 249, 315, 10, -1355, 249, 174, 16, -1355, 249, 166, 18, -1355, 249, 615, 62, -1066, 251, 810, 2, -1501, 255, 810, 2, -1501, 255, 315, 10, -1501, 255, 615, 62, -1059, 257, 174, 16, -1059, 257, 166, 18]\n",
      "[-2366, 47, -1755, 182, -3171, 39, -2274, 208, -3171, 39, -1941, 210, -2267, 59, -692, 218, -2267, 59, 14, 240, -1885, 7, 927, 242, -1836, 23, 927, 242, -1620, 19, 415, 244, -1345, 9, 737, 250, -1217, 63, 737, 250, -1836, 23, 1369, 252, -1217, 63, 1369, 252, -1885, 7, 1179, 254, -1836, 23, 1179, 254]\n"
     ]
    }
   ],
   "source": [
    "crosscheck1 = []\n",
    "crosscheck2 = []\n",
    "for i in range(0,len(horizontal1)-1):\n",
    "    for j in range(0,len(horizontal2)-1):\n",
    "        if horizontal2[j]==horizontal2[j+1] and horizontal1[i] < horizontal2[j] < horizontal1[i+1]\\\n",
    "        and (vertical1[i]==vertical1[i+1]) and (vertical2[j] < vertical1[i] < vertical2[j+1] \\\n",
    "        or vertical2[j] > vertical1[i] > vertical2[j+1]):\n",
    "            crosscheck2.append(horizontal2[j])\n",
    "            crosscheck2.append(j)\n",
    "            crosscheck2.append(vertical1[i])\n",
    "            crosscheck2.append(i)\n",
    "        elif horizontal2[j]==horizontal2[j+1] and horizontal1[i] > horizontal2[j] > horizontal1[i+1]\\\n",
    "        and (vertical1[i]==vertical1[i+1]) and  (vertical2[j] < vertical1[i] < vertical2[j+1]\\\n",
    "        or vertical2[j] > vertical1[i] > vertical2[j+1]):\n",
    "            crosscheck2.append(horizontal2[j])\n",
    "            crosscheck2.append(j)\n",
    "            crosscheck2.append(vertical1[i])\n",
    "            crosscheck2.append(i)\n",
    "        elif horizontal1[i]==horizontal1[i+1] and horizontal2[j] < horizontal1[i] < horizontal2[j+1]\\\n",
    "        and (vertical2[j]==vertical2[j+1]) and (vertical1[i] < vertical2[j] < vertical1[i+1]\\\n",
    "        or vertical1[i] > vertical2[j] > vertical1[i+1]):\n",
    "            crosscheck1.append(horizontal1[i])\n",
    "            crosscheck1.append(i)\n",
    "            crosscheck1.append(vertical2[j])\n",
    "            crosscheck1.append(j)\n",
    "        elif horizontal1[i]==horizontal1[i+1] and horizontal2[j] > horizontal1[i] > horizontal2[j+1]\\\n",
    "        and (vertical2[j]==vertical2[j+1]) and (vertical1[i] < vertical2[j] < vertical1[i+1]\\\n",
    "        or vertical1[i] > vertical2[j] > vertical1[i+1]):\n",
    "            crosscheck1.append(horizontal1[i])\n",
    "            crosscheck1.append(i)\n",
    "            crosscheck1.append(vertical2[j])\n",
    "            crosscheck1.append(j)\n",
    "            \n",
    "            \n",
    "print(crosscheck1)\n",
    "print(crosscheck2)"
   ]
  },
  {
   "cell_type": "code",
   "execution_count": 266,
   "metadata": {},
   "outputs": [],
   "source": [
    "summa11 = []\n",
    "summa22 = []\n",
    "for c in range(0,len(crosscheck1)-3,4):\n",
    "    position1 = crosscheck1[c + 1]\n",
    "    position2 = crosscheck1[c + 3]\n",
    "    summa1 = 0\n",
    "    summa2 = 0\n",
    "    for i in range(0,position1):\n",
    "        summah1 = abs(horizontal1[i+1] - horizontal1[i])\n",
    "        summav1 = abs(vertical1[i+1] - vertical1[i])\n",
    "        summa1 += summah1 + summav1\n",
    "    summa1 += abs(vertical1[position1] - vertical2[position2])\n",
    "    summa11.append(summa1)\n",
    "    for j in range(0,position2):\n",
    "        summah2 = abs(horizontal2[j+1] - horizontal2[j])\n",
    "        summav2 = abs(vertical2[j+1] - vertical2[j])\n",
    "        summa2 += summah2 + summav2\n",
    "    summa2 += abs(horizontal2[position2] - horizontal1[position1])\n",
    "    summa22.append(summa2)\n",
    "    \n",
    "summasum1 = []    \n",
    "for i in range(0,len(summa11)):\n",
    "    element = summa11[i] + summa22[i]\n",
    "    summasum1.append(element)"
   ]
  },
  {
   "cell_type": "code",
   "execution_count": 267,
   "metadata": {},
   "outputs": [],
   "source": [
    "summa111 = []\n",
    "summa222 = []\n",
    "for c in range(0,len(crosscheck2)-3,4):\n",
    "    position1 = crosscheck2[c + 1]\n",
    "    position2 = crosscheck2[c + 3]\n",
    "    summa_1 = 0\n",
    "    summa_2 = 0\n",
    "    for i in range(0,position1):\n",
    "        summah11 = abs(horizontal2[i+1] - horizontal2[i])\n",
    "        summav11 = abs(vertical2[i+1] - vertical2[i])\n",
    "        summa_1 += summah11 + summav11\n",
    "    summa_1 += abs(vertical2[position1] - vertical1[position2])\n",
    "    summa111.append(summa_1)\n",
    "    for j in range(0,position2):\n",
    "        summah22 = abs(horizontal1[j+1] - horizontal1[j])\n",
    "        summav22 = abs(vertical1[j+1] - vertical1[j])\n",
    "        summa_2 += summah22 + summav22\n",
    "    summa_2 += abs(horizontal1[position2] - horizontal2[position1])\n",
    "    summa222.append(summa_2)\n",
    "    \n",
    "summasum2 = []    \n",
    "for i in range(0,len(summa111)):\n",
    "    element = summa111[i] + summa222[i]\n",
    "    summasum2.append(element)\n",
    "    "
   ]
  },
  {
   "cell_type": "code",
   "execution_count": 268,
   "metadata": {},
   "outputs": [
    {
     "data": {
      "text/plain": [
       "107036"
      ]
     },
     "execution_count": 268,
     "metadata": {},
     "output_type": "execute_result"
    }
   ],
   "source": [
    "min(summasum1)"
   ]
  },
  {
   "cell_type": "code",
   "execution_count": 269,
   "metadata": {},
   "outputs": [
    {
     "data": {
      "text/plain": [
       "113774"
      ]
     },
     "execution_count": 269,
     "metadata": {},
     "output_type": "execute_result"
    }
   ],
   "source": [
    "min(summasum2)"
   ]
  },
  {
   "cell_type": "code",
   "execution_count": null,
   "metadata": {},
   "outputs": [],
   "source": []
  }
 ],
 "metadata": {
  "kernelspec": {
   "display_name": "Python 3",
   "language": "python",
   "name": "python3"
  },
  "language_info": {
   "codemirror_mode": {
    "name": "ipython",
    "version": 3
   },
   "file_extension": ".py",
   "mimetype": "text/x-python",
   "name": "python",
   "nbconvert_exporter": "python",
   "pygments_lexer": "ipython3",
   "version": "3.6.9"
  }
 },
 "nbformat": 4,
 "nbformat_minor": 2
}
