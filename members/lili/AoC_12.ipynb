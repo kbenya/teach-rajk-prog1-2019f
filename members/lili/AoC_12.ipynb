{
 "cells": [
  {
   "cell_type": "markdown",
   "metadata": {},
   "source": [
    "Simulate the motion of the moons in time steps. Within each time step, first update the velocity of every moon by applying gravity. Then, once all moons' velocities have been updated, update the position of every moon by applying velocity. Time progresses by one step once all of the positions are updated.\n",
    "\n",
    "To apply gravity, consider every pair of moons. On each axis (x, y, and z), the velocity of each moon changes by exactly +1 or -1 to pull the moons together. For example, if Ganymede has an x position of 3, and Callisto has a x position of 5, then Ganymede's x velocity changes by +1 (because 5 > 3) and Callisto's x velocity changes by -1 (because 3 < 5). However, if the positions on a given axis are the same, the velocity on that axis does not change for that pair of moons.\n",
    "\n",
    "Once all gravity has been applied, apply velocity: simply add the velocity of each moon to its own position. For example, if Europa has a position of x=1, y=2, z=3 and a velocity of x=-2, y=0,z=3, then its new position would be x=-1, y=2, z=6. This process does not modify the velocity of any moon."
   ]
  },
  {
   "cell_type": "markdown",
   "metadata": {},
   "source": [
    "### What is the total energy in the system after simulating the moons given in your scan for 1000 steps?"
   ]
  },
  {
   "cell_type": "code",
   "execution_count": 1,
   "metadata": {},
   "outputs": [],
   "source": [
    "moon = [[10, 15, 7], [15, 10, 0], [20, 12, 3], [0, -3, 13]]"
   ]
  },
  {
   "cell_type": "code",
   "execution_count": 2,
   "metadata": {},
   "outputs": [],
   "source": [
    "initial = [[10, 15, 7], [15, 10, 0], [20, 12, 3], [0, -3, 13]]"
   ]
  },
  {
   "cell_type": "code",
   "execution_count": 3,
   "metadata": {},
   "outputs": [],
   "source": [
    "velocity = [[0, 0, 0], [0, 0, 0], [0, 0, 0], [0, 0, 0]]"
   ]
  },
  {
   "cell_type": "code",
   "execution_count": 4,
   "metadata": {
    "scrolled": true
   },
   "outputs": [
    {
     "name": "stdout",
     "output_type": "stream",
     "text": [
      "8362\n"
     ]
    }
   ],
   "source": [
    "for i in range(0,1000):\n",
    "    for j in range(3):\n",
    "        for k in range(j+1,4):\n",
    "            for m in range(3):\n",
    "                if moon[j][m] > moon[k][m]:\n",
    "                    velocity[j][m] -= 1\n",
    "                    velocity[k][m] += 1\n",
    "                elif moon[j][m] < moon[k][m]:\n",
    "                    velocity[j][m] += 1\n",
    "                    velocity[k][m] -= 1\n",
    "                    \n",
    "    for n in range(4):\n",
    "        for o in range(3):\n",
    "            moon[n][o] += velocity[n][o]\n",
    "        \n",
    "total = []\n",
    "single_kin = 0\n",
    "single_pot = 0\n",
    "for n in range(4):\n",
    "    single_pot = abs(moon[n][0]) + abs(moon[n][1]) + abs(moon[n][2])\n",
    "    single_kin = abs(velocity[n][0]) + abs(velocity[n][1]) + abs(velocity[n][2])\n",
    "    total_moon = single_pot * single_kin\n",
    "    total.append(total_moon)\n",
    "\n",
    "print(sum(total))        "
   ]
  },
  {
   "cell_type": "code",
   "execution_count": null,
   "metadata": {},
   "outputs": [],
   "source": [
    "counter = 0\n",
    "while True:\n",
    "    for j in range(3):\n",
    "        for k in range(j+1,4):\n",
    "            for m in range(3):\n",
    "                if moon[j][m] > moon[k][m]:\n",
    "                    velocity[j][m] -= 1\n",
    "                    velocity[k][m] += 1\n",
    "                elif moon[j][m] < moon[k][m]:\n",
    "                    velocity[j][m] += 1\n",
    "                    velocity[k][m] -= 1\n",
    "                    \n",
    "    for n in range(4):\n",
    "        for o in range(3):\n",
    "            moon[n][o] += velocity[n][o]\n",
    "            \n",
    "    counter += 1\n",
    "        \n",
    "    if moon == initial:\n",
    "        break\n",
    "        "
   ]
  },
  {
   "cell_type": "code",
   "execution_count": null,
   "metadata": {},
   "outputs": [],
   "source": []
  }
 ],
 "metadata": {
  "kernelspec": {
   "display_name": "Python 3",
   "language": "python",
   "name": "python3"
  },
  "language_info": {
   "codemirror_mode": {
    "name": "ipython",
    "version": 3
   },
   "file_extension": ".py",
   "mimetype": "text/x-python",
   "name": "python",
   "nbconvert_exporter": "python",
   "pygments_lexer": "ipython3",
   "version": "3.6.9"
  }
 },
 "nbformat": 4,
 "nbformat_minor": 2
}
