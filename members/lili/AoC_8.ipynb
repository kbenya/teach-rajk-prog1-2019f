{
 "cells": [
  {
   "cell_type": "markdown",
   "metadata": {},
   "source": [
    "left to right, top to bottom\n",
    "\n",
    "25 wide, and 6 tall"
   ]
  },
  {
   "cell_type": "code",
   "execution_count": 594,
   "metadata": {},
   "outputs": [],
   "source": [
    "lista = open(\"input_8.txt\",\"r\")\n",
    "lista = lista.read()"
   ]
  },
  {
   "cell_type": "code",
   "execution_count": 595,
   "metadata": {},
   "outputs": [
    {
     "data": {
      "text/plain": [
       "15000"
      ]
     },
     "execution_count": 595,
     "metadata": {},
     "output_type": "execute_result"
    }
   ],
   "source": [
    "lista[0:150].count('1')\n",
    "len(lista)"
   ]
  },
  {
   "cell_type": "markdown",
   "metadata": {},
   "source": [
    "100 layer van"
   ]
  },
  {
   "cell_type": "code",
   "execution_count": 567,
   "metadata": {},
   "outputs": [
    {
     "data": {
      "text/plain": [
       "150"
      ]
     },
     "execution_count": 567,
     "metadata": {},
     "output_type": "execute_result"
    }
   ],
   "source": [
    "25*6"
   ]
  },
  {
   "cell_type": "code",
   "execution_count": 568,
   "metadata": {},
   "outputs": [
    {
     "data": {
      "text/plain": [
       "str"
      ]
     },
     "execution_count": 568,
     "metadata": {},
     "output_type": "execute_result"
    }
   ],
   "source": [
    "type(lista[1])"
   ]
  },
  {
   "cell_type": "code",
   "execution_count": 569,
   "metadata": {},
   "outputs": [],
   "source": [
    "ones_in_layer = []\n",
    "twos_in_layer = []\n",
    "zeros_in_layer = []\n",
    "\n",
    "a = 0\n",
    "b = 150\n",
    "for i in range(0,100):\n",
    "    ones_in_layer.append(lista[a:b].count('1'))\n",
    "    twos_in_layer.append(lista[a:b].count('2'))\n",
    "    zeros_in_layer.append(lista[a:b].count('0'))\n",
    "    a += 150\n",
    "    b += 150\n"
   ]
  },
  {
   "cell_type": "code",
   "execution_count": 570,
   "metadata": {},
   "outputs": [
    {
     "data": {
      "text/plain": [
       "8"
      ]
     },
     "execution_count": 570,
     "metadata": {},
     "output_type": "execute_result"
    }
   ],
   "source": [
    "zeros_in_layer.index(min(zeros_in_layer))"
   ]
  },
  {
   "cell_type": "code",
   "execution_count": 571,
   "metadata": {},
   "outputs": [
    {
     "data": {
      "text/plain": [
       "1778"
      ]
     },
     "execution_count": 571,
     "metadata": {},
     "output_type": "execute_result"
    }
   ],
   "source": [
    "ones_in_layer[7] * twos_in_layer[7]"
   ]
  },
  {
   "cell_type": "markdown",
   "metadata": {},
   "source": [
    "PART 2"
   ]
  },
  {
   "cell_type": "markdown",
   "metadata": {},
   "source": [
    "0 is black, 1 is white, and 2 is transparent"
   ]
  },
  {
   "cell_type": "markdown",
   "metadata": {},
   "source": [
    "lista = open('aoc8.1.txt', 'r').read()"
   ]
  },
  {
   "cell_type": "code",
   "execution_count": 596,
   "metadata": {},
   "outputs": [
    {
     "data": {
      "text/plain": [
       "150"
      ]
     },
     "execution_count": 596,
     "metadata": {},
     "output_type": "execute_result"
    }
   ],
   "source": [
    "positions = []\n",
    "for j in range(0,150):\n",
    "    position = ''\n",
    "    for i in range(0,len(lista),150):\n",
    "        position = position + lista[j+i]\n",
    "    positions.append(position)\n",
    "    \n",
    "len(positions)"
   ]
  },
  {
   "cell_type": "code",
   "execution_count": 597,
   "metadata": {},
   "outputs": [],
   "source": [
    "final_layers = []\n",
    "for i in range(0,150):\n",
    "    for j in range(0,100):\n",
    "        if positions[i][j] != '2':\n",
    "            final_layers.append(positions[i][j])\n",
    "            break"
   ]
  },
  {
   "cell_type": "code",
   "execution_count": 598,
   "metadata": {},
   "outputs": [
    {
     "data": {
      "text/plain": [
       "150"
      ]
     },
     "execution_count": 598,
     "metadata": {},
     "output_type": "execute_result"
    }
   ],
   "source": [
    "len(final_layers)"
   ]
  },
  {
   "cell_type": "code",
   "execution_count": 599,
   "metadata": {},
   "outputs": [],
   "source": [
    "import numpy as np"
   ]
  },
  {
   "cell_type": "code",
   "execution_count": 600,
   "metadata": {
    "scrolled": false
   },
   "outputs": [
    {
     "data": {
      "text/plain": [
       "array([['1', '0', '0', '1', '0', '1', '0', '0', '0', '1', '1', '0', '0',\n",
       "        '1', '0', '1', '1', '1', '1', '0', '1', '1', '1', '1', '0'],\n",
       "       ['1', '0', '1', '0', '0', '1', '0', '0', '0', '1', '1', '0', '0',\n",
       "        '1', '0', '1', '0', '0', '0', '0', '1', '0', '0', '0', '0'],\n",
       "       ['1', '1', '0', '0', '0', '0', '1', '0', '1', '0', '1', '1', '1',\n",
       "        '1', '0', '1', '1', '1', '0', '0', '1', '1', '1', '0', '0'],\n",
       "       ['1', '0', '1', '0', '0', '0', '0', '1', '0', '0', '1', '0', '0',\n",
       "        '1', '0', '1', '0', '0', '0', '0', '1', '0', '0', '0', '0'],\n",
       "       ['1', '0', '1', '0', '0', '0', '0', '1', '0', '0', '1', '0', '0',\n",
       "        '1', '0', '1', '0', '0', '0', '0', '1', '0', '0', '0', '0'],\n",
       "       ['1', '0', '0', '1', '0', '0', '0', '1', '0', '0', '1', '0', '0',\n",
       "        '1', '0', '1', '0', '0', '0', '0', '1', '1', '1', '1', '0']],\n",
       "      dtype='<U1')"
      ]
     },
     "execution_count": 600,
     "metadata": {},
     "output_type": "execute_result"
    }
   ],
   "source": [
    "np.array(list(message)).reshape((6, 25))"
   ]
  },
  {
   "cell_type": "code",
   "execution_count": 603,
   "metadata": {
    "scrolled": true
   },
   "outputs": [
    {
     "name": "stdout",
     "output_type": "stream",
     "text": [
      "1001010001100101111011110\n",
      "1010010001100101000010000\n",
      "1100001010111101110011100\n",
      "1010000100100101000010000\n",
      "1010000100100101000010000\n",
      "1001000100100101000011110\n"
     ]
    }
   ],
   "source": [
    "message = ''\n",
    "for i in range(0,len(final_layers)):\n",
    "    message += final_layers[i]\n",
    "print(message[0:25])\n",
    "print(message[25:50])\n",
    "print(message[50:75])\n",
    "print(message[75:100])\n",
    "print(message[100:125])\n",
    "print(message[125:150])"
   ]
  },
  {
   "cell_type": "code",
   "execution_count": 602,
   "metadata": {},
   "outputs": [
    {
     "data": {
      "text/plain": [
       "'100101000110010111101111010100100011001010000100001100001010111101110011100101000010010010100001000010100001001001010000100001001000100100101000011110'"
      ]
     },
     "execution_count": 602,
     "metadata": {},
     "output_type": "execute_result"
    }
   ],
   "source": [
    "(message)"
   ]
  },
  {
   "cell_type": "code",
   "execution_count": 524,
   "metadata": {},
   "outputs": [],
   "source": [
    "try_input = '0222112222120000'"
   ]
  },
  {
   "cell_type": "code",
   "execution_count": 441,
   "metadata": {},
   "outputs": [
    {
     "data": {
      "text/plain": [
       "['0222', '1122', '2212', '0000']"
      ]
     },
     "execution_count": 441,
     "metadata": {},
     "output_type": "execute_result"
    }
   ],
   "source": [
    "try_layers = []\n",
    "for i in range(0,len(try_input),4):\n",
    "    layer = ''\n",
    "    layer = layer + try_input[i:i+4]\n",
    "    try_layers.append(layer)\n",
    "    \n",
    "try_layers"
   ]
  },
  {
   "cell_type": "code",
   "execution_count": 464,
   "metadata": {},
   "outputs": [
    {
     "data": {
      "text/plain": [
       "['0120', '2120', '2210', '2220']"
      ]
     },
     "execution_count": 464,
     "metadata": {},
     "output_type": "execute_result"
    }
   ],
   "source": [
    "try_positions = []\n",
    "for j in range(0,4):\n",
    "    position = ''\n",
    "    for i in range(0,len(try_input),4):\n",
    "        \n",
    "        position = position + try_input[j+i]\n",
    "    try_positions.append(position)\n",
    "    \n",
    "try_positions"
   ]
  },
  {
   "cell_type": "code",
   "execution_count": 452,
   "metadata": {},
   "outputs": [],
   "source": [
    "final_pixels = []\n",
    "j = 0\n",
    "for i in range(0,4):\n",
    "    if len(final_pixels) == 4:\n",
    "        break\n",
    "    if try_layers[i][j] != '2':\n",
    "        final_pixels.append(try_layers[i][j])\n",
    "        if i != 3 and j != 3:\n",
    "                j += 1"
   ]
  },
  {
   "cell_type": "code",
   "execution_count": 453,
   "metadata": {},
   "outputs": [
    {
     "data": {
      "text/plain": [
       "['0', '1', '1', '0']"
      ]
     },
     "execution_count": 453,
     "metadata": {},
     "output_type": "execute_result"
    }
   ],
   "source": [
    "final_pixels"
   ]
  },
  {
   "cell_type": "code",
   "execution_count": 473,
   "metadata": {},
   "outputs": [],
   "source": [
    "final_layers = []\n",
    "for i in range(0,len(try_positions)):\n",
    "    for j in range(0,4):\n",
    "        if try_positions[i][j] != '2':\n",
    "            final_layers.append(try_positions[i][j])\n",
    "            break\n"
   ]
  },
  {
   "cell_type": "code",
   "execution_count": 474,
   "metadata": {},
   "outputs": [
    {
     "data": {
      "text/plain": [
       "['0', '1', '1', '0']"
      ]
     },
     "execution_count": 474,
     "metadata": {},
     "output_type": "execute_result"
    }
   ],
   "source": [
    "final_layers"
   ]
  },
  {
   "cell_type": "code",
   "execution_count": null,
   "metadata": {},
   "outputs": [],
   "source": []
  }
 ],
 "metadata": {
  "kernelspec": {
   "display_name": "Python 3",
   "language": "python",
   "name": "python3"
  },
  "language_info": {
   "codemirror_mode": {
    "name": "ipython",
    "version": 3
   },
   "file_extension": ".py",
   "mimetype": "text/x-python",
   "name": "python",
   "nbconvert_exporter": "python",
   "pygments_lexer": "ipython3",
   "version": "3.6.9"
  }
 },
 "nbformat": 4,
 "nbformat_minor": 2
}
