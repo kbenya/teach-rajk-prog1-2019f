{
 "cells": [
  {
   "cell_type": "markdown",
   "metadata": {},
   "source": [
    "## Feladat\n",
    "- Opcode 5 is jump-if-true: if the first parameter is non-zero, it sets the instruction pointer to the value from the second parameter. Otherwise, it does nothing.\n",
    "- Opcode 6 is jump-if-false: if the first parameter is zero, it sets the instruction pointer to the value from the second parameter. Otherwise, it does nothing.\n",
    "- Opcode 7 is less than: if the first parameter is less than the second parameter, it stores 1 in the position given by the third parameter. Otherwise, it stores 0.\n",
    "- Opcode 8 is equals: if the first parameter is equal to the second parameter, it stores 1 in the position given by the third parameter. Otherwise, it stores 0.\n",
    "- \n",
    "- \n",
    "- Parameters in mode 2, relative mode, behave very similarly to parameters in position mode: the parameter is interpreted as a position. Like position mode, parameters in relative mode can be read from or written to.\n",
    "\n",
    "- The important difference is that relative mode parameters don't count from address 0. Instead, they count from a value called the relative base. The relative base starts at 0.\n",
    "\n",
    "- The address a relative mode parameter refers to is itself plus the current relative base. When the relative base is 0, relative mode parameters and position mode parameters with the same value refer to the same address.\n",
    "\n",
    "- For example, given a relative base of 50, a relative mode parameter of -7 refers to memory address 50 + -7 = 43.\n",
    "\n",
    "- The relative base is modified with the relative base offset instruction:\n",
    "- \n",
    "- Opcode 9 adjusts the relative base by the value of its only parameter. The relative base increases (or decreases, if the value is negative) by the value of the parameter.\n",
    "- \n",
    "- Your Intcode computer will also need a few other capabilities:\n",
    "\n",
    "- The computer's available memory should be much larger than the initial program. Memory beyond the initial program starts with the value 0 and can be read or written like any other memory. (It is invalid to try to access memory at a negative address, though.)\n",
    "- The computer should have support for large numbers. Some instructions near the beginning of the BOOST program will verify this capability.\n",
    "- \n",
    "- Here are some example programs that use these features:\n",
    "\n",
    "- 109,1,204,-1,1001,100,1,100,1008,100,16,101,1006,101,0,99 takes no input and produces a copy of itself as output.\n",
    "- 1102,34915192,34915192,7,4,7,99,0 should output a 16-digit number.\n",
    "- 104,1125899906842624,99 should output the large number in the middle."
   ]
  },
  {
   "cell_type": "code",
   "execution_count": 10,
   "metadata": {},
   "outputs": [],
   "source": [
    "with open(\"AoC_9.txt\") as f:\n",
    "    content = f.read()\n",
    "    szamok = content.split(',')\n",
    "    szamok = [int(x) for x in szamok]\n",
    "#print(szamok)"
   ]
  },
  {
   "cell_type": "code",
   "execution_count": 11,
   "metadata": {
    "scrolled": true
   },
   "outputs": [
    {
     "name": "stdout",
     "output_type": "stream",
     "text": [
      "2\n",
      "59095\n"
     ]
    }
   ],
   "source": [
    "opcode4_outputlist = []\n",
    "opcode = 0\n",
    "small_jump = 2\n",
    "jump = 4\n",
    "\n",
    "parameterek = {1: 3, 2: 3, 3: 1, 4: 1, 5: 2, 6: 2, 7: 3, 8: 3, 99: 0, 9: 1}\n",
    "relative_base = 0\n",
    "\n",
    "while opcode < len(szamok):\n",
    "    ugras = True\n",
    "    eltarolt_parameterek = []\n",
    "    parancs = int(str(szamok[opcode])[-2::])\n",
    "    i = 1\n",
    "    for parameter in str(szamok[opcode])[-3::-1]:\n",
    "        if int(parameter) == 1:\n",
    "            eltarolt_parameterek.append(opcode + i)\n",
    "        elif int(parameter) == 0:\n",
    "            eltarolt_parameterek.append(szamok[opcode + i])\n",
    "        elif int(parameter) == 2:\n",
    "            eltarolt_parameterek.append(szamok[opcode + i] + relative_base)\n",
    "        i += 1\n",
    "\n",
    "    for _ in range(parameterek[int(str(szamok[opcode])[-2::])] - len(eltarolt_parameterek)):\n",
    "        eltarolt_parameterek.append(szamok[opcode + i])\n",
    "        i += 1\n",
    "    \n",
    "    if parancs != 99 and len(szamok) <= max(eltarolt_parameterek):\n",
    "        nullas = [0]\n",
    "        szamok = szamok + nullas * (max(eltarolt_parameterek)-len(szamok) + 1)\n",
    "        \n",
    "            \n",
    "    if parancs == 1:\n",
    "        szamok[eltarolt_parameterek[2]] = szamok[eltarolt_parameterek[0]] + szamok[eltarolt_parameterek[1]]\n",
    "        \n",
    "    elif parancs == 2:\n",
    "        szamok[eltarolt_parameterek[2]] = szamok[eltarolt_parameterek[0]] * szamok[eltarolt_parameterek[1]]\n",
    "        \n",
    "    elif parancs == 3:\n",
    "        szamok[eltarolt_parameterek[0]] = int(input())\n",
    "        \n",
    "    elif parancs == 4:\n",
    "        print(szamok[eltarolt_parameterek[0]])  \n",
    "    \n",
    "    elif parancs == 5:\n",
    "        if szamok[eltarolt_parameterek[0]] != 0:\n",
    "            opcode = szamok[eltarolt_parameterek[1]]\n",
    "            ugras = False\n",
    "            \n",
    "    elif parancs == 6:\n",
    "        if szamok[eltarolt_parameterek[0]] == 0:\n",
    "            opcode = szamok[eltarolt_parameterek[1]]\n",
    "            ugras = False\n",
    "\n",
    "    elif parancs == 7:\n",
    "        if szamok[eltarolt_parameterek[0]] < szamok[eltarolt_parameterek[1]]:\n",
    "            szamok[eltarolt_parameterek[2]] = 1\n",
    "        else:\n",
    "            szamok[eltarolt_parameterek[2]] = 0\n",
    "\n",
    "    elif parancs == 8:\n",
    "        if szamok[eltarolt_parameterek[0]] == szamok[eltarolt_parameterek[1]]:\n",
    "            szamok[eltarolt_parameterek[2]] = 1\n",
    "        else:\n",
    "            szamok[eltarolt_parameterek[2]] = 0\n",
    "        \n",
    "    elif parancs == 9:\n",
    "        relative_base += szamok[eltarolt_parameterek[0]]\n",
    "        \n",
    "    elif szamok[opcode] == 99:\n",
    "        break\n",
    "    \n",
    "    if ugras:\n",
    "        opcode += parameterek[int(str(szamok[opcode])[-2::])] + 1 "
   ]
  },
  {
   "cell_type": "code",
   "execution_count": null,
   "metadata": {},
   "outputs": [],
   "source": []
  },
  {
   "cell_type": "code",
   "execution_count": null,
   "metadata": {},
   "outputs": [],
   "source": []
  },
  {
   "cell_type": "code",
   "execution_count": null,
   "metadata": {},
   "outputs": [],
   "source": []
  },
  {
   "cell_type": "code",
   "execution_count": null,
   "metadata": {},
   "outputs": [],
   "source": []
  }
 ],
 "metadata": {
  "kernelspec": {
   "display_name": "Python 3",
   "language": "python",
   "name": "python3"
  },
  "language_info": {
   "codemirror_mode": {
    "name": "ipython",
    "version": 3
   },
   "file_extension": ".py",
   "mimetype": "text/x-python",
   "name": "python",
   "nbconvert_exporter": "python",
   "pygments_lexer": "ipython3",
   "version": "3.6.9"
  }
 },
 "nbformat": 4,
 "nbformat_minor": 2
}
