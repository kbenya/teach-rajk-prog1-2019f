{
 "cells": [
  {
   "cell_type": "markdown",
   "metadata": {},
   "source": [
    "The Elves quickly load you into a spacecraft and prepare to launch.\n",
    "\n",
    "At the first Go / No Go poll, every Elf is Go until the Fuel Counter-Upper. They haven't determined the amount of fuel required yet.\n",
    "\n",
    "Fuel required to launch a given module is based on its mass. Specifically, to find the fuel required for a module, take its mass, divide by three, round down, and subtract 2.\n",
    "\n",
    "For example:\n",
    "\n",
    "For a mass of 12, divide by 3 and round down to get 4, then subtract 2 to get 2.\n",
    "\n",
    "For a mass of 14, dividing by 3 and rounding down still yields 4, so the fuel required is also 2.\n",
    "\n",
    "For a mass of 1969, the fuel required is 654.\n",
    "\n",
    "For a mass of 100756, the fuel required is 33583.\n",
    "\n",
    "The Fuel Counter-Upper needs to know the total fuel requirement. To find it, individually calculate the fuel needed for the mass of each module (your puzzle input), then add together all the fuel values.\n",
    "\n",
    "What is the sum of the fuel requirements for all of the modules on your spacecraft?"
   ]
  },
  {
   "cell_type": "markdown",
   "metadata": {},
   "source": [
    "### (mass / 3) round.down - 2"
   ]
  },
  {
   "cell_type": "code",
   "execution_count": 1,
   "metadata": {},
   "outputs": [],
   "source": [
    "modules_list = [54755,96495,111504,53923,118158,118082,137413,135315,87248,127646,79201,52399,\\\n",
    "77966,129568,63880,128973,55491,111226,126447,87017,112469,83975,51280,60239,120524,57122,\\\n",
    "136517,117378,93629,55125,68990,70336,115119,68264,148122,70075,106770,54976,123852,61813,\\\n",
    "113373,53924,59660,67111,52825,81568,110842,134870,135529,78689,129451,96041,91627,70863,100098,\\\n",
    "121908,96623,143752,149936,116283,149488,126158,106499,124927,109574,70711,139078,67212,124251,\\\n",
    "123803,73569,145668,96045,59748,123238,68005,121412,97236,104800,86786,141680,123807,82310,\\\n",
    "76593,146092,82637,92339,93821,56247,58328,90159,105700,57317,69011,125544,102372,63797,\\\n",
    "92127,111207,77596]"
   ]
  },
  {
   "cell_type": "code",
   "execution_count": 2,
   "metadata": {},
   "outputs": [
    {
     "name": "stdout",
     "output_type": "stream",
     "text": [
      "[18249, 32163, 37166, 17972, 39384, 39358, 45802, 45103, 29080, 42546, 26398, 17464, 25986, 43187, 21291, 42989, 18495, 37073, 42147, 29003, 37487, 27989, 17091, 20077, 40172, 19038, 45503, 39124, 31207, 18373, 22994, 23443, 38371, 22752, 49372, 23356, 35588, 18323, 41282, 20602, 37789, 17972, 19884, 22368, 17606, 27187, 36945, 44954, 45174, 26227, 43148, 32011, 30540, 23619, 33364, 40634, 32205, 47915, 49976, 38759, 49827, 42050, 35497, 41640, 36522, 23568, 46357, 22402, 41415, 41265, 24521, 48554, 32013, 19914, 41077, 22666, 40468, 32410, 34931, 28926, 47224, 41267, 27434, 25529, 48695, 27543, 30777, 31271, 18747, 19440, 30051, 35231, 19103, 23001, 41846, 34122, 21263, 30707, 37067, 25863]\n"
     ]
    }
   ],
   "source": [
    "fuel_list = []\n",
    "for i in range(0, len(modules_list)):\n",
    "    a = int(modules_list[i]/3) - 2\n",
    "    fuel_list.append(a)\n",
    "    i = i + 1\n",
    "    \n",
    "print(fuel_list)"
   ]
  },
  {
   "cell_type": "code",
   "execution_count": 3,
   "metadata": {},
   "outputs": [
    {
     "data": {
      "text/plain": [
       "3233481"
      ]
     },
     "execution_count": 3,
     "metadata": {},
     "output_type": "execute_result"
    }
   ],
   "source": [
    "sum(fuel_list)"
   ]
  },
  {
   "cell_type": "markdown",
   "metadata": {},
   "source": [
    "--- Part Two ---\n",
    "\n",
    "During the second Go / No Go poll, the Elf in charge of the Rocket Equation Double-Checker stops the launch sequence. Apparently, you forgot to include additional fuel for the fuel you just added.\n",
    "\n",
    "Fuel itself requires fuel just like a module - take its mass, divide by three, round down, and subtract 2. However, that fuel also requires fuel, and that fuel requires fuel, and so on. Any mass that would require negative fuel should instead be treated as if it requires zero fuel; the remaining mass, if any, is instead handled by wishing really hard, which has no mass and is outside the scope of this calculation.\n",
    "\n",
    "So, for each module mass, calculate its fuel and add it to the total. Then, treat the fuel amount you just calculated as the input mass and repeat the process, continuing until a fuel requirement is zero or negative. For example:\n",
    "\n",
    "A module of mass 14 requires 2 fuel. This fuel requires no further fuel (2 divided by 3 and rounded down is 0, which would call for a negative fuel), so the total fuel required is still just 2.\n",
    "\n",
    "At first, a module of mass 1969 requires 654 fuel. Then, this fuel requires 216 more fuel (654 / 3 - 2). 216 then requires 70 more fuel, which requires 21 fuel, which requires 5 fuel, which requires no further fuel. So, the total fuel required for a module of mass 1969 is 654 + 216 + 70 + 21 + 5 = 966.\n",
    "\n",
    "The fuel required by a module of mass 100756 and its fuel is: 33583 + 11192 + 3728 + 1240 + 411 + 135 + 43 + 12 + 2 = 50346.\n",
    "\n",
    "What is the sum of the fuel requirements for all of the modules on your spacecraft when also taking into account the mass of the added fuel? (Calculate the fuel requirements for each module separately, then add them all up at the end.)\n",
    "\n"
   ]
  },
  {
   "cell_type": "code",
   "execution_count": 4,
   "metadata": {},
   "outputs": [
    {
     "name": "stdout",
     "output_type": "stream",
     "text": [
      "[6081, 10719, 12386, 5988, 13126, 13117, 15265, 15032, 9691, 14180, 8797, 5819, 8660, 14393, 7095, 14327, 6163, 12355, 14047, 9665, 12493, 9327, 5695, 6690, 13388, 6344, 15165, 13039, 10400, 6122, 7662, 7812, 12788, 7582, 16455, 7783, 11860, 6105, 13758, 6865, 12594, 5988, 6626, 7454, 5866, 9060, 12313, 14982, 15056, 8740, 14380, 10668, 10178, 7871, 11119, 13542, 10733, 15969, 16656, 12917, 16607, 14014, 11830, 13878, 12172, 7854, 15450, 7465, 13803, 13753, 8171, 16182, 10669, 6636, 13690, 7553, 13487, 10801, 11641, 9640, 15739, 13753, 9142, 8507, 16229, 9179, 10257, 10421, 6247, 6478, 10015, 11741, 6365, 7665, 13946, 11372, 7085, 10233, 12353, 8619]\n"
     ]
    }
   ],
   "source": [
    "backup_fuel_list = []\n",
    "for i in range(0, len(fuel_list)):\n",
    "    a = int(fuel_list[i]/3) - 2\n",
    "    backup_fuel_list.append(a)\n",
    "    i = i + 1\n",
    "    \n",
    "print(backup_fuel_list)"
   ]
  },
  {
   "cell_type": "code",
   "execution_count": 5,
   "metadata": {},
   "outputs": [],
   "source": [
    "try_list = []\n",
    "a = 18250\n",
    "while a > 0:\n",
    "    a = int(a/3) - 2\n",
    "    if a > 0:\n",
    "        try_list.append(a)\n",
    "    "
   ]
  },
  {
   "cell_type": "code",
   "execution_count": 6,
   "metadata": {},
   "outputs": [
    {
     "data": {
      "text/plain": [
       "[6081, 2025, 673, 222, 72, 22, 5]"
      ]
     },
     "execution_count": 6,
     "metadata": {},
     "output_type": "execute_result"
    }
   ],
   "source": [
    "try_list"
   ]
  },
  {
   "cell_type": "code",
   "execution_count": 11,
   "metadata": {},
   "outputs": [],
   "source": [
    "list_total = []\n",
    "for i in range(0, len(fuel_list)):\n",
    "    a = fuel_list[i]\n",
    "    while a > 0:\n",
    "        a = int(a/3) - 2\n",
    "        if a > 0:\n",
    "            list_total.append(a)\n",
    "        \n",
    "        "
   ]
  },
  {
   "cell_type": "code",
   "execution_count": 13,
   "metadata": {},
   "outputs": [
    {
     "data": {
      "text/plain": [
       "1613870"
      ]
     },
     "execution_count": 13,
     "metadata": {},
     "output_type": "execute_result"
    }
   ],
   "source": [
    "sum(list_total)"
   ]
  },
  {
   "cell_type": "code",
   "execution_count": 14,
   "metadata": {},
   "outputs": [
    {
     "data": {
      "text/plain": [
       "4847351"
      ]
     },
     "execution_count": 14,
     "metadata": {},
     "output_type": "execute_result"
    }
   ],
   "source": [
    "sum(list_total) + sum(fuel_list)"
   ]
  },
  {
   "cell_type": "code",
   "execution_count": null,
   "metadata": {},
   "outputs": [],
   "source": []
  }
 ],
 "metadata": {
  "kernelspec": {
   "display_name": "Python 3",
   "language": "python",
   "name": "python3"
  },
  "language_info": {
   "codemirror_mode": {
    "name": "ipython",
    "version": 3
   },
   "file_extension": ".py",
   "mimetype": "text/x-python",
   "name": "python",
   "nbconvert_exporter": "python",
   "pygments_lexer": "ipython3",
   "version": "3.6.9"
  }
 },
 "nbformat": 4,
 "nbformat_minor": 2
}
