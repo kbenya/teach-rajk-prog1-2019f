{
 "cells": [
  {
   "cell_type": "code",
   "execution_count": 242,
   "metadata": {
    "scrolled": true
   },
   "outputs": [
    {
     "name": "stdout",
     "output_type": "stream",
     "text": [
      "21\n"
     ]
    },
    {
     "data": {
      "text/plain": [
       "['...###.#########.####',\n",
       " '.######.###.###.##...',\n",
       " '####.########.#####.#',\n",
       " '########.####.##.###.',\n",
       " '####..#.####.#.#.##..',\n",
       " '#.################.##',\n",
       " '..######.##.##.#####.',\n",
       " '#.####.#####.###.#.##',\n",
       " '#####.#########.#####',\n",
       " '#####.##..##..#.#####',\n",
       " '##.######....########',\n",
       " '.#######.#.#########.',\n",
       " '.#.##.#.#.#.##.###.##',\n",
       " '######...####.#.#.###',\n",
       " '###############.#.###',\n",
       " '#.#####.##..###.##.#.',\n",
       " '##..##..###.#.#######',\n",
       " '#..#..########.#.##..',\n",
       " '#.#.######.##.##...##',\n",
       " '.#.##.#####.#..#####.',\n",
       " '#.#.##########..#.##.']"
      ]
     },
     "execution_count": 242,
     "metadata": {},
     "output_type": "execute_result"
    }
   ],
   "source": [
    "coordinates = open(\"aoc10.txt\").read().split('\\n')\n",
    "print(len(coordinates))\n",
    "coordinates"
   ]
  },
  {
   "cell_type": "code",
   "execution_count": 243,
   "metadata": {},
   "outputs": [],
   "source": [
    "maps = []\n",
    "\n",
    "for elem in coordinates:\n",
    "    line_sep = []\n",
    "    for karakter in elem:\n",
    "        line_sep.append(karakter)\n",
    "    maps.append(line_sep)\n",
    "\n",
    "#print(len(maps))\n",
    "#print(maps)"
   ]
  },
  {
   "cell_type": "code",
   "execution_count": 244,
   "metadata": {},
   "outputs": [],
   "source": [
    "asteroids_coordinates = []\n",
    "for row in range(0, len(coordinates)):\n",
    "    for column in range(0,len(coordinates[row])):\n",
    "        asteroids_coordinates.append((row, column, coordinates[row][column]))\n",
    "        #asteroids_coordinates.append((row, column))\n",
    "    \n",
    "#print(list(asteroids_coordinates))       \n",
    "#asteroids_coordinates"
   ]
  },
  {
   "cell_type": "code",
   "execution_count": 245,
   "metadata": {},
   "outputs": [],
   "source": [
    "asteroids_list = []\n",
    "for tuples in asteroids_coordinates:\n",
    "        asteroids_list.append(list(tuples))\n",
    "#print(asteroids_list)"
   ]
  },
  {
   "cell_type": "code",
   "execution_count": 246,
   "metadata": {},
   "outputs": [],
   "source": [
    "only_asteroids = []\n",
    "for i in range(0,len(asteroids_list)):\n",
    "    if asteroids_list[i][2] == '#':\n",
    "        only_asteroids.append(asteroids_list[i])"
   ]
  },
  {
   "cell_type": "markdown",
   "metadata": {},
   "source": [
    "- legtöbb meredekség, ahol található aszteroida \n"
   ]
  },
  {
   "cell_type": "markdown",
   "metadata": {},
   "source": [
    "    - only_asteroids[i][0] = x koordináta\n",
    "    - only_asteroids[i][1] = y koordináta\n",
    "    \n",
    "ezeket mindegyikből ki kell vonni, hogy olyan legyen mintha nulláról indulnánk \n",
    "\n",
    "mégegy for ciklus [j]\n",
    "\n",
    "    - mindegyik vizsgált elemből kivonjuk a fent említetteket, aztán leosztjuk az x koordinátát az y koordinátával: ez fogja megadni a meredekséget \n",
    "    \n",
    "    - a meredekségeket belerakhatjuk egy külön listába (az indexük fogja jelezni, hogy melyik ponthoz tartoznak) \n",
    "    "
   ]
  },
  {
   "cell_type": "code",
   "execution_count": 247,
   "metadata": {},
   "outputs": [],
   "source": [
    "steepness_total = []\n",
    "for i in range(0,len(only_asteroids)):\n",
    "    steepness_list1 = []\n",
    "    steepness_list2 = []\n",
    "    steepness_list3 = []\n",
    "    steepness_list4 = []\n",
    "    index = []\n",
    "    for j in range(0,len(only_asteroids)):\n",
    "        steepnessx = only_asteroids[j][0]-only_asteroids[i][0]\n",
    "        steepnessy = only_asteroids[j][1]-only_asteroids[i][1]\n",
    "        if steepnessy == 0 and steepnessx > 0:\n",
    "            steepness = 999\n",
    "            steepness_list1.append(steepness)\n",
    "            index.append(only_asteroids[j])\n",
    "        elif steepnessy == 0 and steepnessx < 0:\n",
    "            steepness = 9999\n",
    "            steepness_list1.append(steepness)\n",
    "            index.append(only_asteroids[j])\n",
    "        if steepnessy < 0 and steepnessx == 0:\n",
    "            steepness = 99999\n",
    "            steepness_list1.append(steepness)\n",
    "            index.append(only_asteroids[j])\n",
    "        elif steepnessy > 0 and steepnessx == 0:\n",
    "            steepness = 999999\n",
    "            steepness_list1.append(steepness)\n",
    "            index.append(only_asteroids[j])\n",
    "        elif steepnessy > 0 and steepnessx > 0:\n",
    "            steepness = steepnessx / steepnessy\n",
    "            steepness_list1.append(steepness)\n",
    "            index.append(only_asteroids[j])\n",
    "        elif steepnessy > 0 and steepnessx < 0:\n",
    "            steepness = steepnessx / steepnessy\n",
    "            steepness_list2.append(steepness)\n",
    "            index.append(only_asteroids[j])\n",
    "        elif steepnessy < 0 and steepnessx > 0:\n",
    "            steepness = steepnessx / steepnessy\n",
    "            steepness_list3.append(steepness)\n",
    "            index.append(only_asteroids[j])\n",
    "        elif steepnessy < 0 and steepnessx < 0:\n",
    "            steepness = steepnessx / steepnessy\n",
    "            steepness_list4.append(steepness)\n",
    "            index.append(only_asteroids[j])\n",
    "    steepness_total.append(len(set(steepness_list1)))\n",
    "    steepness_total.append(len(set(steepness_list2)))\n",
    "    steepness_total.append(len(set(steepness_list3)))\n",
    "    steepness_total.append(len(set(steepness_list4)))"
   ]
  },
  {
   "cell_type": "code",
   "execution_count": 248,
   "metadata": {},
   "outputs": [],
   "source": [
    "steepness_unique = []\n",
    "for i in range(0,len(steepness_total),4):\n",
    "    st = steepness_total[i]+steepness_total[i+1]+\\\n",
    "    steepness_total[i+2]+steepness_total[i+3]\n",
    "    steepness_unique.append(st)"
   ]
  },
  {
   "cell_type": "code",
   "execution_count": 273,
   "metadata": {},
   "outputs": [
    {
     "data": {
      "text/plain": [
       "216"
      ]
     },
     "execution_count": 273,
     "metadata": {},
     "output_type": "execute_result"
    }
   ],
   "source": [
    "best = max(steepness_unique)\n",
    "index = steepness_unique.index(best)\n",
    "index"
   ]
  },
  {
   "cell_type": "code",
   "execution_count": 250,
   "metadata": {},
   "outputs": [
    {
     "data": {
      "text/plain": [
       "[13, 11, '#']"
      ]
     },
     "execution_count": 250,
     "metadata": {},
     "output_type": "execute_result"
    }
   ],
   "source": [
    "only_asteroids[index]"
   ]
  },
  {
   "cell_type": "code",
   "execution_count": 274,
   "metadata": {},
   "outputs": [],
   "source": [
    "steepness_total = []\n",
    "steepness_list1 = []\n",
    "steepness_list2 = []\n",
    "steepness_list3 = []\n",
    "steepness_list4 = []\n",
    "distance1 = []\n",
    "distance2 = []\n",
    "distance3 = []\n",
    "distance4 = []\n",
    "index1 = []\n",
    "index2 = []\n",
    "index3 = []\n",
    "index4 = []\n",
    "\n",
    "for j in range(0,len(only_asteroids)):\n",
    "    steepnessx = only_asteroids[j][0]-only_asteroids[216][0]\n",
    "    steepnessy = only_asteroids[j][1]-only_asteroids[216][1]\n",
    "    dist = abs(steepnessx + steepnessy)\n",
    "    if steepnessy == 0 and steepnessx > 0:\n",
    "        steepness = 99\n",
    "        steepness_list3.append(steepness)\n",
    "        index3.append(only_asteroids[j])\n",
    "        distance3.append(dist)\n",
    "    elif steepnessy == 0 and steepnessx < 0:\n",
    "        steepness = -99\n",
    "        steepness_list1.append(steepness)\n",
    "        index1.append(only_asteroids[j])\n",
    "        distance1.append(dist)\n",
    "    if steepnessy < 0 and steepnessx == 0:\n",
    "        steepness = 0\n",
    "        steepness_list4.append(steepness)\n",
    "        index4.append(only_asteroids[j])\n",
    "        distance4.append(dist)\n",
    "    elif steepnessy > 0 and steepnessx == 0:\n",
    "        steepness = 0\n",
    "        steepness_list2.append(steepness)\n",
    "        index2.append(only_asteroids[j])\n",
    "        distance2.append(dist)\n",
    "    elif steepnessy < 0 and steepnessx < 0:\n",
    "        steepness = steepnessx / steepnessy\n",
    "        steepness_list4.append(steepness)\n",
    "        index4.append(only_asteroids[j])\n",
    "        distance4.append(dist)\n",
    "    elif steepnessy > 0 and steepnessx > 0:\n",
    "        steepness = steepnessx / steepnessy\n",
    "        steepness_list2.append(steepness)\n",
    "        index2.append(only_asteroids[j])\n",
    "        distance2.append(dist)\n",
    "    elif steepnessy < 0 and steepnessx > 0:\n",
    "        steepness = steepnessx / steepnessy\n",
    "        steepness_list3.append(steepness)\n",
    "        index3.append(only_asteroids[j])\n",
    "        distance3.append(dist)\n",
    "    elif steepnessy > 0 and steepnessx < 0:\n",
    "        steepness = steepnessx / steepnessy\n",
    "        steepness_list1.append(steepness)\n",
    "        index1.append(only_asteroids[j])\n",
    "        distance1.append(dist)\n",
    "\n"
   ]
  },
  {
   "cell_type": "code",
   "execution_count": 275,
   "metadata": {},
   "outputs": [],
   "source": [
    "everything1 = []\n",
    "for i in range(0,len(steepness_list1)):\n",
    "    everything1.append((steepness_list1[i],distance1[i],index1[i]))\n",
    "everything2 = []\n",
    "for i in range(0,len(steepness_list2)):\n",
    "    everything2.append((steepness_list2[i],distance2[i],index2[i]))\n",
    "everything3 = []\n",
    "for i in range(0,len(steepness_list3)):\n",
    "    everything3.append((steepness_list3[i],distance3[i],index3[i]))\n",
    "everything4 = []\n",
    "for i in range(0,len(steepness_list4)):\n",
    "    everything4.append((steepness_list4[i],distance4[i],index4[i]))"
   ]
  },
  {
   "cell_type": "code",
   "execution_count": 276,
   "metadata": {},
   "outputs": [],
   "source": [
    "solution = {}\n",
    "sol_mer = []\n",
    "sol_koor = []\n",
    "for asteroid in sorted(everything1):\n",
    "    if asteroid[0] not in solution.keys():\n",
    "        solution[asteroid[0]] = asteroid[2]\n",
    "        sol_mer.append(asteroid[0])\n",
    "        sol_koor.append(asteroid[2])"
   ]
  },
  {
   "cell_type": "code",
   "execution_count": 277,
   "metadata": {},
   "outputs": [],
   "source": [
    "solution2 = {}\n",
    "sol_mer2 = []\n",
    "sol_koor2 = []\n",
    "for asteroid in sorted(everything2):\n",
    "    if asteroid[0] not in solution2.keys():\n",
    "        solution2[asteroid[0]] = asteroid[2] \n",
    "        sol_mer2.append(asteroid[0])\n",
    "        sol_koor2.append(asteroid[2])"
   ]
  },
  {
   "cell_type": "code",
   "execution_count": 278,
   "metadata": {},
   "outputs": [],
   "source": [
    "solution4 = {}\n",
    "sol_mer4 = []\n",
    "sol_koor4 = []\n",
    "for asteroid in sorted(everything4):\n",
    "    if asteroid[0] not in solution4.keys():\n",
    "        solution4[asteroid[0]] = asteroid[2] \n",
    "        sol_mer4.append(asteroid[0])\n",
    "        sol_koor4.append(asteroid[2])"
   ]
  },
  {
   "cell_type": "code",
   "execution_count": 279,
   "metadata": {},
   "outputs": [],
   "source": [
    "solution3 = {}\n",
    "sol_mer3 = []\n",
    "sol_koor3 = []\n",
    "for asteroid in sorted(everything3):\n",
    "    if asteroid[0] not in solution3.keys():\n",
    "        solution3[asteroid[0]] = asteroid[2] \n",
    "        sol_mer3.append(asteroid[0])\n",
    "        sol_koor3.append(asteroid[2])"
   ]
  },
  {
   "cell_type": "code",
   "execution_count": null,
   "metadata": {},
   "outputs": [],
   "source": []
  },
  {
   "cell_type": "code",
   "execution_count": 280,
   "metadata": {},
   "outputs": [
    {
     "data": {
      "text/plain": [
       "{-99: [11, 11, '#'],\n",
       " -13.0: [0, 12, '#'],\n",
       " -12.0: [1, 12, '#'],\n",
       " -11.0: [2, 12, '#'],\n",
       " -10.0: [3, 12, '#'],\n",
       " -8.0: [5, 12, '#'],\n",
       " -7.0: [6, 12, '#'],\n",
       " -6.5: [0, 13, '#'],\n",
       " -6.0: [1, 13, '#'],\n",
       " -5.0: [8, 12, '#'],\n",
       " -4.5: [4, 13, '#'],\n",
       " -4.333333333333333: [0, 14, '#'],\n",
       " -4.0: [5, 13, '#'],\n",
       " -3.6666666666666665: [2, 14, '#'],\n",
       " -3.5: [6, 13, '#'],\n",
       " -3.3333333333333335: [3, 14, '#'],\n",
       " -3.25: [0, 15, '#'],\n",
       " -3.0: [7, 13, '#'],\n",
       " -2.75: [2, 15, '#'],\n",
       " -2.6666666666666665: [5, 14, '#'],\n",
       " -2.5: [8, 13, '#'],\n",
       " -2.4: [1, 16, '#'],\n",
       " -2.25: [4, 15, '#'],\n",
       " -2.2: [2, 16, '#'],\n",
       " -2.1666666666666665: [0, 17, '#'],\n",
       " -2.0: [11, 12, '#'],\n",
       " -1.8571428571428572: [0, 18, '#'],\n",
       " -1.8333333333333333: [2, 17, '#'],\n",
       " -1.75: [6, 15, '#'],\n",
       " -1.6666666666666667: [8, 14, '#'],\n",
       " -1.625: [0, 19, '#'],\n",
       " -1.6: [5, 16, '#'],\n",
       " -1.5714285714285714: [2, 18, '#'],\n",
       " -1.5: [10, 13, '#'],\n",
       " -1.4444444444444444: [0, 20, '#'],\n",
       " -1.4285714285714286: [3, 18, '#'],\n",
       " -1.4: [6, 16, '#'],\n",
       " -1.3333333333333333: [9, 14, '#'],\n",
       " -1.2857142857142858: [4, 18, '#'],\n",
       " -1.25: [3, 19, '#'],\n",
       " -1.2222222222222223: [2, 20, '#'],\n",
       " -1.1666666666666667: [6, 17, '#'],\n",
       " -1.0: [5, 19, '#'],\n",
       " -0.8888888888888888: [5, 20, '#'],\n",
       " -0.875: [6, 19, '#'],\n",
       " -0.8333333333333334: [8, 17, '#'],\n",
       " -0.8: [9, 16, '#'],\n",
       " -0.75: [10, 15, '#'],\n",
       " -0.7142857142857143: [8, 18, '#'],\n",
       " -0.6666666666666666: [11, 14, '#'],\n",
       " -0.625: [8, 19, '#'],\n",
       " -0.6: [10, 16, '#'],\n",
       " -0.5714285714285714: [9, 18, '#'],\n",
       " -0.5555555555555556: [8, 20, '#'],\n",
       " -0.5: [12, 13, '#'],\n",
       " -0.4444444444444444: [9, 20, '#'],\n",
       " -0.42857142857142855: [10, 18, '#'],\n",
       " -0.4: [11, 16, '#'],\n",
       " -0.375: [10, 19, '#'],\n",
       " -0.3333333333333333: [11, 17, '#'],\n",
       " -0.2857142857142857: [11, 18, '#'],\n",
       " -0.25: [12, 15, '#'],\n",
       " -0.2: [12, 16, '#'],\n",
       " -0.16666666666666666: [12, 17, '#'],\n",
       " -0.125: [12, 19, '#'],\n",
       " -0.1111111111111111: [12, 20, '#']}"
      ]
     },
     "execution_count": 280,
     "metadata": {},
     "output_type": "execute_result"
    }
   ],
   "source": [
    "solution"
   ]
  },
  {
   "cell_type": "code",
   "execution_count": 281,
   "metadata": {},
   "outputs": [
    {
     "data": {
      "text/plain": [
       "{0: [13, 12, '#'],\n",
       " 0.1111111111111111: [14, 20, '#'],\n",
       " 0.125: [14, 19, '#'],\n",
       " 0.14285714285714285: [14, 18, '#'],\n",
       " 0.2: [14, 16, '#'],\n",
       " 0.25: [15, 19, '#'],\n",
       " 0.3333333333333333: [14, 14, '#'],\n",
       " 0.375: [16, 19, '#'],\n",
       " 0.4: [15, 16, '#'],\n",
       " 0.42857142857142855: [16, 18, '#'],\n",
       " 0.5: [14, 13, '#'],\n",
       " 0.5555555555555556: [18, 20, '#'],\n",
       " 0.5714285714285714: [17, 18, '#'],\n",
       " 0.6: [16, 16, '#'],\n",
       " 0.625: [18, 19, '#'],\n",
       " 0.6666666666666666: [15, 14, '#'],\n",
       " 0.75: [16, 15, '#'],\n",
       " 0.8571428571428571: [19, 18, '#'],\n",
       " 0.875: [20, 19, '#'],\n",
       " 1.0: [14, 12, '#'],\n",
       " 1.2: [19, 16, '#'],\n",
       " 1.25: [18, 15, '#'],\n",
       " 1.4: [20, 16, '#'],\n",
       " 1.5: [19, 15, '#'],\n",
       " 1.6666666666666667: [18, 14, '#'],\n",
       " 2.0: [15, 12, '#'],\n",
       " 3.0: [16, 12, '#'],\n",
       " 3.5: [20, 13, '#'],\n",
       " 4.0: [17, 12, '#'],\n",
       " 5.0: [18, 12, '#'],\n",
       " 6.0: [19, 12, '#'],\n",
       " 7.0: [20, 12, '#']}"
      ]
     },
     "execution_count": 281,
     "metadata": {},
     "output_type": "execute_result"
    }
   ],
   "source": [
    "solution2"
   ]
  },
  {
   "cell_type": "code",
   "execution_count": 282,
   "metadata": {},
   "outputs": [
    {
     "data": {
      "text/plain": [
       "{-7.0: [20, 10, '#'],\n",
       " -6.0: [19, 10, '#'],\n",
       " -4.0: [17, 10, '#'],\n",
       " -3.5: [20, 9, '#'],\n",
       " -3.0: [16, 10, '#'],\n",
       " -2.5: [18, 9, '#'],\n",
       " -2.3333333333333335: [20, 8, '#'],\n",
       " -2.0: [17, 9, '#'],\n",
       " -1.75: [20, 7, '#'],\n",
       " -1.6666666666666667: [18, 8, '#'],\n",
       " -1.5: [16, 9, '#'],\n",
       " -1.4: [20, 6, '#'],\n",
       " -1.3333333333333333: [17, 8, '#'],\n",
       " -1.25: [18, 7, '#'],\n",
       " -1.2: [19, 6, '#'],\n",
       " -1.1666666666666667: [20, 5, '#'],\n",
       " -1.0: [14, 10, '#'],\n",
       " -0.8571428571428571: [19, 4, '#'],\n",
       " -0.8333333333333334: [18, 5, '#'],\n",
       " -0.8: [17, 6, '#'],\n",
       " -0.7777777777777778: [20, 2, '#'],\n",
       " -0.75: [19, 3, '#'],\n",
       " -0.7142857142857143: [18, 4, '#'],\n",
       " -0.6666666666666666: [15, 8, '#'],\n",
       " -0.6363636363636364: [20, 0, '#'],\n",
       " -0.6: [19, 1, '#'],\n",
       " -0.5555555555555556: [18, 2, '#'],\n",
       " -0.5: [14, 9, '#'],\n",
       " -0.45454545454545453: [18, 0, '#'],\n",
       " -0.42857142857142855: [16, 4, '#'],\n",
       " -0.4: [15, 6, '#'],\n",
       " -0.36363636363636365: [17, 0, '#'],\n",
       " -0.3333333333333333: [14, 8, '#'],\n",
       " -0.3: [16, 1, '#'],\n",
       " -0.2857142857142857: [15, 4, '#'],\n",
       " -0.2727272727272727: [16, 0, '#'],\n",
       " -0.25: [14, 7, '#'],\n",
       " -0.2222222222222222: [15, 2, '#'],\n",
       " -0.2: [14, 6, '#'],\n",
       " -0.18181818181818182: [15, 0, '#'],\n",
       " -0.16666666666666666: [14, 5, '#'],\n",
       " -0.14285714285714285: [14, 4, '#'],\n",
       " -0.125: [14, 3, '#'],\n",
       " -0.1111111111111111: [14, 2, '#'],\n",
       " -0.1: [14, 1, '#'],\n",
       " -0.09090909090909091: [14, 0, '#'],\n",
       " 99: [14, 11, '#']}"
      ]
     },
     "execution_count": 282,
     "metadata": {},
     "output_type": "execute_result"
    }
   ],
   "source": [
    "solution3"
   ]
  },
  {
   "cell_type": "code",
   "execution_count": 283,
   "metadata": {},
   "outputs": [
    {
     "name": "stdout",
     "output_type": "stream",
     "text": [
      "0 0 -1\n",
      "0.1 -1 -10\n",
      "0.125 -1 -8\n",
      "0.14285714285714285 -1 -7\n",
      "0.2 -1 -5\n",
      "0.2222222222222222 -2 -9\n",
      "0.25 -2 -8\n",
      "0.2727272727272727 -3 -11\n",
      "0.2857142857142857 -2 -7\n",
      "0.3 -3 -10\n",
      "0.3333333333333333 -1 -3\n",
      "0.36363636363636365 -4 -11\n",
      "0.375 -3 -8\n",
      "0.4 -2 -5\n",
      "0.42857142857142855 -3 -7\n",
      "0.4444444444444444 -4 -9\n",
      "0.45454545454545453 -5 -11\n",
      "0.5 -2 -4\n",
      "0.5454545454545454 -6 -11\n",
      "0.5555555555555556 -5 -9\n",
      "0.5714285714285714 -4 -7\n",
      "0.6 -3 -5\n",
      "0.625 -5 -8\n",
      "0.6666666666666666 -6 -9\n",
      "0.7142857142857143 -5 -7\n",
      "0.7272727272727273 -8 -11\n",
      "0.75 -3 -4\n",
      "0.7777777777777778 -7 -9\n",
      "0.8 -4 -5\n",
      "0.8181818181818182 -9 -11\n",
      "0.8571428571428571 -6 -7\n",
      "0.875 -7 -8\n",
      "0.8888888888888888 -8 -9\n",
      "0.9 -9 -10\n",
      "0.9090909090909091 -10 -11\n",
      "1.0 -1 -1\n",
      "1.1 -11 -10\n",
      "1.1111111111111112 -10 -9\n",
      "1.125 -9 -8\n",
      "1.1428571428571428 -8 -7\n",
      "1.1666666666666667 -7 -6\n",
      "1.2 -12 -10\n",
      "1.2222222222222223 -11 -9\n",
      "1.25 -5 -4\n",
      "1.3333333333333333 -8 -6\n",
      "1.375 -11 -8\n",
      "1.4 -7 -5\n",
      "1.4285714285714286 -10 -7\n",
      "1.5 -6 -4\n",
      "1.6 -8 -5\n",
      "1.625 -13 -8\n",
      "1.6666666666666667 -5 -3\n",
      "1.7142857142857142 -12 -7\n",
      "1.75 -7 -4\n",
      "1.8 -9 -5\n",
      "1.8333333333333333 -11 -6\n",
      "1.8571428571428572 -13 -7\n",
      "2.0 -6 -3\n",
      "2.1666666666666665 -13 -6\n",
      "2.2 -11 -5\n",
      "2.4 -12 -5\n",
      "2.5 -5 -2\n",
      "2.6666666666666665 -8 -3\n",
      "2.75 -11 -4\n",
      "3.0 -6 -2\n",
      "3.25 -13 -4\n",
      "3.5 -7 -2\n",
      "3.6666666666666665 -11 -3\n",
      "4.0 -4 -1\n",
      "4.333333333333333 -13 -3\n",
      "4.5 -9 -2\n",
      "5.0 -5 -1\n",
      "5.5 -11 -2\n",
      "6.0 -6 -1\n",
      "6.5 -13 -2\n",
      "7.0 -7 -1\n",
      "8.0 -8 -1\n",
      "9.0 -9 -1\n",
      "10.0 -10 -1\n",
      "11.0 -11 -1\n",
      "12.0 -12 -1\n",
      "13.0 -13 -1\n"
     ]
    }
   ],
   "source": [
    "for key in solution4.keys():\n",
    "    print(key, solution4[key][0]-13,solution4[key][1]-11)"
   ]
  },
  {
   "cell_type": "code",
   "execution_count": 284,
   "metadata": {},
   "outputs": [
    {
     "name": "stdout",
     "output_type": "stream",
     "text": [
      "0 13 10\n",
      "0.1 12 1\n",
      "0.125 12 3\n",
      "0.14285714285714285 12 4\n",
      "0.2 12 6\n",
      "0.2222222222222222 11 2\n",
      "0.25 11 3\n",
      "0.2727272727272727 10 0\n",
      "0.2857142857142857 11 4\n",
      "0.3 10 1\n",
      "0.3333333333333333 12 8\n",
      "0.36363636363636365 9 0\n",
      "0.375 10 3\n",
      "0.4 11 6\n",
      "0.42857142857142855 10 4\n",
      "0.4444444444444444 9 2\n",
      "0.45454545454545453 8 0\n",
      "0.5 11 7\n",
      "0.5454545454545454 7 0\n",
      "0.5555555555555556 8 2\n",
      "0.5714285714285714 9 4\n",
      "0.6 10 6\n",
      "0.625 8 3\n",
      "0.6666666666666666 7 2\n",
      "0.7142857142857143 8 4\n",
      "0.7272727272727273 5 0\n",
      "0.75 10 7\n",
      "0.7777777777777778 6 2\n",
      "0.8 9 6\n",
      "0.8181818181818182 4 0\n",
      "0.8571428571428571 7 4\n",
      "0.875 6 3\n",
      "0.8888888888888888 5 2\n",
      "0.9 4 1\n",
      "0.9090909090909091 3 0\n",
      "1.0 12 10\n",
      "1.1 2 1\n",
      "1.1111111111111112 3 2\n",
      "1.125 4 3\n",
      "1.1428571428571428 5 4\n",
      "1.1666666666666667 6 5\n",
      "1.2 1 1\n",
      "1.2222222222222223 2 2\n",
      "1.25 8 7\n",
      "1.3333333333333333 5 5\n",
      "1.375 2 3\n",
      "1.4 6 6\n",
      "1.4285714285714286 3 4\n",
      "1.5 7 7\n",
      "1.6 5 6\n",
      "1.625 0 3\n",
      "1.6666666666666667 8 8\n",
      "1.7142857142857142 1 4\n",
      "1.75 6 7\n",
      "1.8 4 6\n",
      "1.8333333333333333 2 5\n",
      "1.8571428571428572 0 4\n",
      "2.0 7 8\n",
      "2.1666666666666665 0 5\n",
      "2.2 2 6\n",
      "2.4 1 6\n",
      "2.5 8 9\n",
      "2.6666666666666665 5 8\n",
      "2.75 2 7\n",
      "3.0 7 9\n",
      "3.25 0 7\n",
      "3.5 6 9\n",
      "3.6666666666666665 2 8\n",
      "4.0 9 10\n",
      "4.333333333333333 0 8\n",
      "4.5 4 9\n",
      "5.0 8 10\n",
      "5.5 2 9\n",
      "6.0 7 10\n",
      "6.5 0 9\n",
      "7.0 6 10\n",
      "8.0 5 10\n",
      "9.0 4 10\n",
      "10.0 3 10\n",
      "11.0 2 10\n",
      "12.0 1 10\n",
      "13.0 0 10\n"
     ]
    }
   ],
   "source": [
    "for key in solution4.keys():\n",
    "    print(key, solution4[key][0],solution4[key][1])"
   ]
  },
  {
   "cell_type": "code",
   "execution_count": 285,
   "metadata": {},
   "outputs": [],
   "source": [
    "f3 = len(solution)+len(solution2)+len(solution3)"
   ]
  },
  {
   "cell_type": "code",
   "execution_count": 286,
   "metadata": {},
   "outputs": [
    {
     "data": {
      "text/plain": [
       "145"
      ]
     },
     "execution_count": 286,
     "metadata": {},
     "output_type": "execute_result"
    }
   ],
   "source": [
    "f3"
   ]
  },
  {
   "cell_type": "code",
   "execution_count": 287,
   "metadata": {},
   "outputs": [],
   "source": [
    "l = 200-f3"
   ]
  },
  {
   "cell_type": "code",
   "execution_count": 288,
   "metadata": {},
   "outputs": [
    {
     "data": {
      "text/plain": [
       "6.0"
      ]
     },
     "execution_count": 288,
     "metadata": {},
     "output_type": "execute_result"
    }
   ],
   "source": [
    "sol_mer4[-9]"
   ]
  },
  {
   "cell_type": "code",
   "execution_count": 289,
   "metadata": {},
   "outputs": [
    {
     "data": {
      "text/plain": [
       "82"
      ]
     },
     "execution_count": 289,
     "metadata": {},
     "output_type": "execute_result"
    }
   ],
   "source": [
    "len(solution4)"
   ]
  },
  {
   "cell_type": "code",
   "execution_count": null,
   "metadata": {},
   "outputs": [],
   "source": []
  },
  {
   "cell_type": "code",
   "execution_count": 290,
   "metadata": {},
   "outputs": [
    {
     "data": {
      "text/plain": [
       "27"
      ]
     },
     "execution_count": 290,
     "metadata": {},
     "output_type": "execute_result"
    }
   ],
   "source": [
    "len(solution4)-l"
   ]
  },
  {
   "cell_type": "code",
   "execution_count": 291,
   "metadata": {},
   "outputs": [
    {
     "data": {
      "text/plain": [
       "1507"
      ]
     },
     "execution_count": 291,
     "metadata": {},
     "output_type": "execute_result"
    }
   ],
   "source": [
    "1507"
   ]
  },
  {
   "cell_type": "code",
   "execution_count": 292,
   "metadata": {},
   "outputs": [],
   "source": [
    " asd = sol_koor + sol_koor2 + sol_koor3 + sol_koor4"
   ]
  },
  {
   "cell_type": "code",
   "execution_count": 295,
   "metadata": {},
   "outputs": [
    {
     "data": {
      "text/plain": [
       "[4, 6, '#']"
      ]
     },
     "execution_count": 295,
     "metadata": {},
     "output_type": "execute_result"
    }
   ],
   "source": [
    "asd[199]"
   ]
  },
  {
   "cell_type": "code",
   "execution_count": 294,
   "metadata": {},
   "outputs": [
    {
     "data": {
      "text/plain": [
       "227"
      ]
     },
     "execution_count": 294,
     "metadata": {},
     "output_type": "execute_result"
    }
   ],
   "source": [
    "len(asd)"
   ]
  },
  {
   "cell_type": "code",
   "execution_count": null,
   "metadata": {},
   "outputs": [],
   "source": [
    "604"
   ]
  }
 ],
 "metadata": {
  "kernelspec": {
   "display_name": "Python 3",
   "language": "python",
   "name": "python3"
  },
  "language_info": {
   "codemirror_mode": {
    "name": "ipython",
    "version": 3
   },
   "file_extension": ".py",
   "mimetype": "text/x-python",
   "name": "python",
   "nbconvert_exporter": "python",
   "pygments_lexer": "ipython3",
   "version": "3.6.9"
  }
 },
 "nbformat": 4,
 "nbformat_minor": 2
}
